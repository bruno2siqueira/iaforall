{
  "nbformat": 4,
  "nbformat_minor": 0,
  "metadata": {
    "colab": {
      "name": "ColabBasics.ipynb",
      "provenance": []
    },
    "kernelspec": {
      "name": "python3",
      "display_name": "Python 3"
    }
  },
  "cells": [
    {
      "cell_type": "markdown",
      "metadata": {
        "id": "gjUiYu0EvdE6",
        "colab_type": "text"
      },
      "source": [
        "#Escreva aqui\n",
        "arduivos do tipo markdown e tags html\n",
        "\n",
        "\n",
        "\n",
        "```\n",
        "x = 2\n",
        "if a or b and c not in d:\n",
        "for i in range(num):\n",
        "\n",
        "```\n",
        "\n"
      ]
    },
    {
      "cell_type": "code",
      "metadata": {
        "id": "MgBHHOdGvunv",
        "colab_type": "code",
        "outputId": "4bc5f8e7-e9fc-4b6c-c66f-6e991c8227bf",
        "colab": {
          "base_uri": "https://localhost:8080/",
          "height": 190
        }
      },
      "source": [
        "import numpy as np\n",
        "\n",
        "x = 2\n",
        "print(x)\n",
        "x = np.ones((2,3))\n",
        "print(x)\n",
        "x = np.array(((1,3),(4,2)))\n",
        "print(x)\n",
        "x[:,0]\n",
        "x,y = (2, 3)\n",
        "print(x)\n",
        "print(y)\n",
        "\n",
        "list_rand = []\n",
        "for i in range(100):\n",
        "  list_rand.append((np.random.rand(1),np.random.rand(1)))\n",
        "\n",
        "print(list_rand)\n",
        "\n",
        "x = [y for y,_ in list_rand]\n",
        "\n",
        "\n",
        "x = {3, 4 , 1}\n",
        "x\n",
        "\n",
        "x = {'altura': 3, 'largura': 4, 'profundidade': 1}\n",
        "x"
      ],
      "execution_count": 0,
      "outputs": [
        {
          "output_type": "stream",
          "text": [
            "2\n",
            "[[1. 1. 1.]\n",
            " [1. 1. 1.]]\n",
            "[[1 3]\n",
            " [4 2]]\n",
            "2\n",
            "3\n",
            "[(array([0.14381172]), array([0.07967431])), (array([0.37829853]), array([0.8711521])), (array([0.53202176]), array([0.0927194])), (array([0.40623892]), array([0.12683058])), (array([0.45041209]), array([0.44810976])), (array([0.30010042]), array([0.92844994])), (array([0.87609547]), array([0.77209585])), (array([0.34322749]), array([0.07830306])), (array([0.99206343]), array([0.81056727])), (array([0.12040976]), array([0.79036073])), (array([0.73327346]), array([0.08433564])), (array([0.2926717]), array([0.979388])), (array([0.8968228]), array([0.32285829])), (array([0.69989908]), array([0.67612391])), (array([0.45400015]), array([0.79598884])), (array([0.66659872]), array([0.75646186])), (array([0.54414651]), array([0.1593021])), (array([0.01131788]), array([0.34711528])), (array([0.38943041]), array([0.62299708])), (array([0.40218722]), array([0.10367749])), (array([0.23264133]), array([0.68092228])), (array([0.92426407]), array([0.14106096])), (array([0.53329614]), array([0.8770656])), (array([0.05121058]), array([0.55699399])), (array([0.37967874]), array([0.62086717])), (array([0.28591269]), array([0.98733841])), (array([0.99202886]), array([0.58695172])), (array([0.321909]), array([0.24533909])), (array([0.88936705]), array([0.5659196])), (array([0.62674767]), array([0.12993835])), (array([0.76969711]), array([0.04089699])), (array([0.45505893]), array([0.21296449])), (array([0.9026378]), array([0.20691315])), (array([0.83257185]), array([0.62813617])), (array([0.24284352]), array([0.898284])), (array([0.66473924]), array([0.77166722])), (array([0.5360311]), array([0.64639118])), (array([0.07177695]), array([0.66643257])), (array([0.12938853]), array([0.98720521])), (array([0.14148573]), array([0.48820032])), (array([0.87955337]), array([0.83051])), (array([0.8417353]), array([0.8601225])), (array([0.35013162]), array([0.83212757])), (array([0.82640622]), array([0.17341019])), (array([0.5714396]), array([0.04127444])), (array([0.31262581]), array([0.96081398])), (array([0.13137929]), array([0.96428955])), (array([0.75960016]), array([0.85302782])), (array([0.8157713]), array([0.36645312])), (array([0.01746968]), array([0.74554123])), (array([0.08608412]), array([0.39316364])), (array([0.39286102]), array([0.70938942])), (array([0.27035668]), array([0.30803304])), (array([0.03497008]), array([0.80582182])), (array([0.81153908]), array([0.74514793])), (array([0.8919265]), array([0.84901355])), (array([0.83809798]), array([0.64154607])), (array([0.67210558]), array([0.79086885])), (array([0.48987097]), array([0.95717287])), (array([0.48308983]), array([0.40408141])), (array([0.73391378]), array([0.73010566])), (array([0.08358957]), array([0.85890428])), (array([0.25309286]), array([0.05917787])), (array([0.41684933]), array([0.17062405])), (array([0.19154542]), array([0.68919574])), (array([0.59770408]), array([0.19129108])), (array([0.99392477]), array([0.4693151])), (array([0.91317833]), array([0.55772388])), (array([0.36082152]), array([0.84123014])), (array([0.98637285]), array([0.33327465])), (array([0.01343145]), array([0.89695787])), (array([0.81176897]), array([0.27415884])), (array([0.80740816]), array([0.81492293])), (array([0.70430329]), array([0.89132762])), (array([0.82774209]), array([0.99716445])), (array([0.87947077]), array([0.61823229])), (array([0.12302351]), array([0.73346938])), (array([0.65672484]), array([0.40195378])), (array([0.04044263]), array([0.94573033])), (array([0.48774201]), array([0.14264083])), (array([0.81881954]), array([0.80980097])), (array([0.41725628]), array([0.60291449])), (array([0.35789926]), array([0.79272439])), (array([0.25158806]), array([0.75524133])), (array([0.72343567]), array([0.35741531])), (array([0.17751279]), array([0.37768811])), (array([0.86390533]), array([0.05437905])), (array([0.23263734]), array([0.58873201])), (array([0.38337284]), array([0.29116697])), (array([0.59541591]), array([0.01368644])), (array([0.71296799]), array([0.6880307])), (array([0.92232196]), array([0.6693229])), (array([0.25114234]), array([0.56596545])), (array([0.93180146]), array([0.30263395])), (array([0.10053302]), array([0.7384959])), (array([0.07296417]), array([0.29254983])), (array([0.13870443]), array([0.3296109])), (array([0.39304718]), array([0.5249512])), (array([0.83938743]), array([0.34418597])), (array([0.77119473]), array([0.59284474]))]\n"
          ],
          "name": "stdout"
        },
        {
          "output_type": "execute_result",
          "data": {
            "text/plain": [
              "{'altura': 3, 'largura': 4, 'profundidade': 1}"
            ]
          },
          "metadata": {
            "tags": []
          },
          "execution_count": 74
        }
      ]
    },
    {
      "cell_type": "code",
      "metadata": {
        "id": "AD9dsVK5v9VI",
        "colab_type": "code",
        "outputId": "1a4afb8d-aa3f-4005-ac06-7078b709a0d9",
        "colab": {
          "base_uri": "https://localhost:8080/",
          "height": 530
        }
      },
      "source": [
        "import matplotlib.pyplot as plt\n",
        "\n",
        "x = np.linspace(-3,3)\n",
        "plt.plot([0,1], [1,0])\n",
        "plt.show()\n",
        "y = x **2\n",
        "plt.plot(x, y)"
      ],
      "execution_count": 0,
      "outputs": [
        {
          "output_type": "display_data",
          "data": {
            "image/png": "[encoded data removed]",
            "text/plain": [
              "<Figure size 432x288 with 1 Axes>"
            ]
          },
          "metadata": {
            "tags": []
          }
        },
        {
          "output_type": "execute_result",
          "data": {
            "text/plain": [
              "[<matplotlib.lines.Line2D at 0x7fe798b00080>]"
            ]
          },
          "metadata": {
            "tags": []
          },
          "execution_count": 38
        },
        {
          "output_type": "display_data",
          "data": {
            "image/png": "[encoded data removed]",
            "text/plain": [
              "<Figure size 432x288 with 1 Axes>"
            ]
          },
          "metadata": {
            "tags": []
          }
        }
      ]
    },
    {
      "cell_type": "code",
      "metadata": {
        "id": "AXNmoY-QzWan",
        "colab_type": "code",
        "outputId": "8cc436c7-f6a1-4113-c206-29ae3f97f7d7",
        "colab": {
          "base_uri": "https://localhost:8080/",
          "height": 122
        }
      },
      "source": [
        "from google.colab import drive\n",
        "drive.mount('content/')"
      ],
      "execution_count": 0,
      "outputs": [
        {
          "output_type": "stream",
          "text": [
            "Go to this URL in a browser: https://accounts.google.com/o/oauth2/auth?client_id=947318989803-6bn6qk8qdgf4n4g3pfee6491hc0brc4i.apps.googleusercontent.com&redirect_uri=urn%3aietf%3awg%3aoauth%3a2.0%3aoob&response_type=code&scope=email%20https%3a%2f%2fwww.googleapis.com%2fauth%2fdocs.test%20https%3a%2f%2fwww.googleapis.com%2fauth%2fdrive%20https%3a%2f%2fwww.googleapis.com%2fauth%2fdrive.photos.readonly%20https%3a%2f%2fwww.googleapis.com%2fauth%2fpeopleapi.readonly\n",
            "\n",
            "Enter your authorization code:\n",
            "··········\n",
            "Mounted at content/\n"
          ],
          "name": "stdout"
        }
      ]
    },
    {
      "cell_type": "code",
      "metadata": {
        "id": "aVcyUNpfz4FP",
        "colab_type": "code",
        "outputId": "ac9c9cf3-06ba-4f6c-84a4-5947ca147851",
        "colab": {
          "base_uri": "https://localhost:8080/",
          "height": 34
        }
      },
      "source": [
        "!ls"
      ],
      "execution_count": 0,
      "outputs": [
        {
          "output_type": "stream",
          "text": [
            "content  sample_data\n"
          ],
          "name": "stdout"
        }
      ]
    },
    {
      "cell_type": "code",
      "metadata": {
        "id": "YQfE-rf10E7A",
        "colab_type": "code",
        "outputId": "6cac1f97-90f0-409c-c530-d57f64686540",
        "colab": {
          "base_uri": "https://localhost:8080/",
          "height": 221
        }
      },
      "source": [
        "from sklearn import datasets\n",
        "import pandas as pd\n",
        "iris_dataset  = datasets.load_iris()\n",
        "#print(iris_dataset.data)\n",
        "db = pd.DataFrame(iris_dataset.data, columns =iris_dataset.feature_names )\n",
        "db['petal length (cm)']"
      ],
      "execution_count": 0,
      "outputs": [
        {
          "output_type": "execute_result",
          "data": {
            "text/plain": [
              "0      1.4\n",
              "1      1.4\n",
              "2      1.3\n",
              "3      1.5\n",
              "4      1.4\n",
              "      ... \n",
              "145    5.2\n",
              "146    5.0\n",
              "147    5.2\n",
              "148    5.4\n",
              "149    5.1\n",
              "Name: petal length (cm), Length: 150, dtype: float64"
            ]
          },
          "metadata": {
            "tags": []
          },
          "execution_count": 71
        }
      ]
    }
  ]
}