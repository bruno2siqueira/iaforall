{
  "nbformat": 4,
  "nbformat_minor": 0,
  "metadata": {
    "colab": {
      "name": "ColabBasics.ipynb",
      "provenance": []
    },
    "kernelspec": {
      "name": "python3",
      "display_name": "Python 3"
    }
  },
  "cells": [
    {
      "cell_type": "markdown",
      "metadata": {
        "id": "fy7wlSLK-uyD",
        "colab_type": "text"
      },
      "source": [
        "http://cs231n.github.io/python-numpy-tutorial/\n",
        "\n",
        "The link above is a python tutorial from scratch. From basics to Data structures, objects, libraries, etc.\n",
        "\n",
        "I suggest that you try to run all the examples of this web page in colab notebook cells. If you want to dive deeper into deep learning, it is required more experience in numpy framework, linear algebra, and calculus"
      ]
    },
    {
      "cell_type": "markdown",
      "metadata": {
        "id": "gjUiYu0EvdE6",
        "colab_type": "text"
      },
      "source": [
        "#Escreva aqui\n",
        "arduivos do tipo markdown e tags html\n",
        "\n",
        "\n",
        "\n",
        "```\n",
        "x = 2\n",
        "if a or b and c not in d:\n",
        "  \n",
        "for i in range(num):\n",
        "\n",
        "```\n",
        "\n"
      ]
    },
    {
      "cell_type": "code",
      "metadata": {
        "id": "yhqAi8pZ11Zw",
        "colab_type": "code",
        "colab": {}
      },
      "source": [
        "x = 10"
      ],
      "execution_count": 0,
      "outputs": []
    },
    {
      "cell_type": "code",
      "metadata": {
        "id": "1RBHwaCU17Ps",
        "colab_type": "code",
        "outputId": "f5e7b4a2-693f-4a28-94dd-31cfe4180ec8",
        "colab": {
          "base_uri": "https://localhost:8080/",
          "height": 34
        }
      },
      "source": [
        "y = x + 1\n",
        "y"
      ],
      "execution_count": 0,
      "outputs": [
        {
          "output_type": "execute_result",
          "data": {
            "text/plain": [
              "11"
            ]
          },
          "metadata": {
            "tags": []
          },
          "execution_count": 2
        }
      ]
    },
    {
      "cell_type": "markdown",
      "metadata": {
        "id": "M6pJcD8212Fe",
        "colab_type": "text"
      },
      "source": [
        ""
      ]
    },
    {
      "cell_type": "code",
      "metadata": {
        "id": "MgBHHOdGvunv",
        "colab_type": "code",
        "outputId": "a3fecff3-6ffe-4aeb-d7a1-49f78b8fc71d",
        "colab": {
          "base_uri": "https://localhost:8080/",
          "height": 207
        }
      },
      "source": [
        "import numpy as np\n",
        "\n",
        "x = 2\n",
        "print(x)\n",
        "x = np.ones((2,3))\n",
        "print(x)\n",
        "x = np.array(((1,3),(4,2)))\n",
        "print(x)\n",
        "x[:,]\n",
        "x,y = (2, 3)\n",
        "print(x)\n",
        "print(y)\n",
        "\n",
        "list_rand = []\n",
        "\n",
        "for i in range(100):\n",
        "  list_rand.append((np.random.rand(1),np.random.rand(1)))\n",
        "\n",
        "print(list_rand)\n",
        "\n",
        "x = [y for y,_ in list_rand]\n",
        "\n",
        "\n",
        "x = {3,4, 4 , 1}\n",
        "print(x)\n",
        "\n",
        "x = {'altura': 'tres', 'largura': 4, 'profundidade': 1}\n",
        "x"
      ],
      "execution_count": 0,
      "outputs": [
        {
          "output_type": "stream",
          "text": [
            "2\n",
            "[[1. 1. 1.]\n",
            " [1. 1. 1.]]\n",
            "[[1 3]\n",
            " [4 2]]\n",
            "2\n",
            "3\n",
            "[(array([0.26367528]), array([0.43500431])), (array([0.20975623]), array([0.45303725])), (array([0.8036018]), array([0.0360941])), (array([0.15494994]), array([0.73527481])), (array([0.84761401]), array([0.81933849])), (array([0.77992466]), array([0.21019364])), (array([0.34415128]), array([0.24706387])), (array([0.19630921]), array([0.55154102])), (array([0.32889961]), array([0.00729222])), (array([0.04800765]), array([0.84546304])), (array([0.31062161]), array([0.56154118])), (array([0.25684783]), array([0.64435061])), (array([0.87691844]), array([0.7312304])), (array([0.67926346]), array([0.90451002])), (array([0.33809326]), array([0.46918924])), (array([0.05413066]), array([0.05257926])), (array([0.22505599]), array([0.4837701])), (array([0.06066613]), array([0.11669344])), (array([0.57475253]), array([0.2046841])), (array([0.97803828]), array([0.29265729])), (array([0.58957669]), array([0.16428689])), (array([0.31955443]), array([0.39568469])), (array([0.41638942]), array([0.86241826])), (array([0.67389803]), array([0.43042752])), (array([0.4439588]), array([0.0032803])), (array([0.39131547]), array([0.2166959])), (array([0.37726819]), array([0.35442118])), (array([0.94143355]), array([0.96931153])), (array([0.20419581]), array([0.43874042])), (array([0.19687684]), array([0.49253734])), (array([0.89363179]), array([0.98705429])), (array([0.84532127]), array([0.03200156])), (array([0.16734379]), array([0.98398966])), (array([0.61783594]), array([0.40190607])), (array([0.40307025]), array([0.54103339])), (array([0.09649717]), array([0.00058815])), (array([0.24990298]), array([0.74759097])), (array([0.45926184]), array([0.20780399])), (array([0.90553615]), array([0.32686832])), (array([0.58997185]), array([0.55548769])), (array([0.95603259]), array([0.24165819])), (array([0.14321729]), array([0.9474512])), (array([0.08193986]), array([0.88155435])), (array([0.73101153]), array([0.95498454])), (array([0.52341158]), array([0.42152597])), (array([0.81341995]), array([0.97827049])), (array([0.33121703]), array([0.14202092])), (array([0.28924074]), array([0.95429072])), (array([0.50599814]), array([0.36831669])), (array([0.52498699]), array([0.3878669])), (array([0.73759249]), array([0.39395052])), (array([0.28832615]), array([0.77168117])), (array([0.34680896]), array([0.39579966])), (array([0.70232623]), array([0.65514511])), (array([0.62577796]), array([0.90489541])), (array([0.70030068]), array([0.58742007])), (array([0.85265187]), array([0.69514821])), (array([0.83540495]), array([0.37228795])), (array([0.33957385]), array([0.23377259])), (array([0.40106546]), array([0.02060902])), (array([0.25238594]), array([0.94630094])), (array([0.19612165]), array([0.76059033])), (array([0.73296762]), array([0.61453496])), (array([0.97583667]), array([0.87457463])), (array([0.33084794]), array([0.58511988])), (array([0.15512404]), array([0.43798893])), (array([0.7759476]), array([0.5920409])), (array([0.53212836]), array([0.33254992])), (array([0.4147599]), array([0.01576856])), (array([0.94111053]), array([0.29334386])), (array([0.50533552]), array([0.1813091])), (array([0.86268855]), array([0.98129322])), (array([0.2649173]), array([0.5875644])), (array([0.41520207]), array([0.02943775])), (array([0.12481676]), array([0.01132914])), (array([0.335261]), array([0.12525741])), (array([0.49276771]), array([0.41509917])), (array([0.01431642]), array([0.87758612])), (array([0.08724739]), array([0.50165981])), (array([0.15401401]), array([0.03978027])), (array([0.66782871]), array([0.95192752])), (array([0.6882221]), array([0.64456479])), (array([0.89161791]), array([0.80804351])), (array([0.32013512]), array([0.13404173])), (array([0.86308763]), array([0.6141159])), (array([0.87500722]), array([0.51067059])), (array([0.09524154]), array([0.46389532])), (array([0.42169722]), array([0.53232928])), (array([0.59176229]), array([0.99234857])), (array([0.78714484]), array([0.779622])), (array([0.10898024]), array([0.06334048])), (array([0.0904633]), array([0.66060418])), (array([0.80726243]), array([0.37192907])), (array([0.45778546]), array([0.41152727])), (array([0.58976433]), array([0.30507481])), (array([0.85555417]), array([0.72169473])), (array([0.73909446]), array([0.64325222])), (array([0.64119432]), array([0.27995901])), (array([0.99369071]), array([0.41994679])), (array([0.64460999]), array([0.76177772]))]\n",
            "{1, 3, 4}\n"
          ],
          "name": "stdout"
        },
        {
          "output_type": "execute_result",
          "data": {
            "text/plain": [
              "{'altura': 'tres', 'largura': 4, 'profundidade': 1}"
            ]
          },
          "metadata": {
            "tags": []
          },
          "execution_count": 1
        }
      ]
    },
    {
      "cell_type": "code",
      "metadata": {
        "id": "AD9dsVK5v9VI",
        "colab_type": "code",
        "outputId": "25742b3f-e7af-45a1-8315-985c6d961d25",
        "colab": {
          "base_uri": "https://localhost:8080/",
          "height": 530
        }
      },
      "source": [
        "import matplotlib.pyplot as plt\n",
        "\n",
        "x = np.linspace(-3,3)\n",
        "plt.plot([0,1], [1,0])\n",
        "plt.show()\n",
        "y = x **4\n",
        "plt.plot(x, y)"
      ],
      "execution_count": 0,
      "outputs": [
        {
          "output_type": "display_data",
          "data": {
            "image/png": "[encoded data removed]",
            "text/plain": [
              "<Figure size 432x288 with 1 Axes>"
            ]
          },
          "metadata": {
            "tags": []
          }
        },
        {
          "output_type": "execute_result",
          "data": {
            "text/plain": [
              "[<matplotlib.lines.Line2D at 0x7ff807a48ef0>]"
            ]
          },
          "metadata": {
            "tags": []
          },
          "execution_count": 11
        },
        {
          "output_type": "display_data",
          "data": {
            "image/png": "[encoded data removed]",
            "text/plain": [
              "<Figure size 432x288 with 1 Axes>"
            ]
          },
          "metadata": {
            "tags": []
          }
        }
      ]
    },
    {
      "cell_type": "code",
      "metadata": {
        "id": "AXNmoY-QzWan",
        "colab_type": "code",
        "outputId": "73b7d017-276b-4b77-f47d-437c97ccfe99",
        "colab": {
          "base_uri": "https://localhost:8080/",
          "height": 124
        }
      },
      "source": [
        "from google.colab import drive\n",
        "drive.mount('content/')"
      ],
      "execution_count": 0,
      "outputs": [
        {
          "output_type": "stream",
          "text": [
            "Go to this URL in a browser: https://accounts.google.com/o/oauth2/auth?client_id=947318989803-6bn6qk8qdgf4n4g3pfee6491hc0brc4i.apps.googleusercontent.com&redirect_uri=urn%3aietf%3awg%3aoauth%3a2.0%3aoob&response_type=code&scope=email%20https%3a%2f%2fwww.googleapis.com%2fauth%2fdocs.test%20https%3a%2f%2fwww.googleapis.com%2fauth%2fdrive%20https%3a%2f%2fwww.googleapis.com%2fauth%2fdrive.photos.readonly%20https%3a%2f%2fwww.googleapis.com%2fauth%2fpeopleapi.readonly\n",
            "\n",
            "Enter your authorization code:\n",
            "··········\n",
            "Mounted at content/\n"
          ],
          "name": "stdout"
        }
      ]
    },
    {
      "cell_type": "code",
      "metadata": {
        "id": "aVcyUNpfz4FP",
        "colab_type": "code",
        "outputId": "67377005-f6df-4328-824f-649e37cffded",
        "colab": {
          "base_uri": "https://localhost:8080/",
          "height": 34
        }
      },
      "source": [
        "%cd content"
      ],
      "execution_count": 0,
      "outputs": [
        {
          "output_type": "stream",
          "text": [
            "/content/content\n"
          ],
          "name": "stdout"
        }
      ]
    },
    {
      "cell_type": "code",
      "metadata": {
        "id": "XR1jthIo4kp2",
        "colab_type": "code",
        "outputId": "287ff1be-4ce9-4a23-8256-66c5b4d8cec1",
        "colab": {
          "base_uri": "https://localhost:8080/",
          "height": 34
        }
      },
      "source": [
        "%cd ./My\\ Drive"
      ],
      "execution_count": 0,
      "outputs": [
        {
          "output_type": "stream",
          "text": [
            "/content/content/My Drive\n"
          ],
          "name": "stdout"
        }
      ]
    },
    {
      "cell_type": "code",
      "metadata": {
        "id": "vnU3mBlP4vA6",
        "colab_type": "code",
        "colab": {}
      },
      "source": [
        "!ls"
      ],
      "execution_count": 0,
      "outputs": []
    },
    {
      "cell_type": "code",
      "metadata": {
        "id": "YQfE-rf10E7A",
        "colab_type": "code",
        "outputId": "74fd5f88-6de8-4ea8-a82a-09c983498294",
        "colab": {
          "base_uri": "https://localhost:8080/",
          "height": 206
        }
      },
      "source": [
        "from sklearn import datasets\n",
        "import pandas as pd\n",
        "iris_dataset  = datasets.load_iris()\n",
        "#print(iris_dataset.data)\n",
        "db = pd.DataFrame(iris_dataset.data, columns =iris_dataset.feature_names )\n",
        "db.tail()"
      ],
      "execution_count": 0,
      "outputs": [
        {
          "output_type": "execute_result",
          "data": {
            "text/html": [
              "<div>\n",
              "<style scoped>\n",
              "    .dataframe tbody tr th:only-of-type {\n",
              "        vertical-align: middle;\n",
              "    }\n",
              "\n",
              "    .dataframe tbody tr th {\n",
              "        vertical-align: top;\n",
              "    }\n",
              "\n",
              "    .dataframe thead th {\n",
              "        text-align: right;\n",
              "    }\n",
              "</style>\n",
              "<table border=\"1\" class=\"dataframe\">\n",
              "  <thead>\n",
              "    <tr style=\"text-align: right;\">\n",
              "      <th></th>\n",
              "      <th>sepal length (cm)</th>\n",
              "      <th>sepal width (cm)</th>\n",
              "      <th>petal length (cm)</th>\n",
              "      <th>petal width (cm)</th>\n",
              "    </tr>\n",
              "  </thead>\n",
              "  <tbody>\n",
              "    <tr>\n",
              "      <th>145</th>\n",
              "      <td>6.7</td>\n",
              "      <td>3.0</td>\n",
              "      <td>5.2</td>\n",
              "      <td>2.3</td>\n",
              "    </tr>\n",
              "    <tr>\n",
              "      <th>146</th>\n",
              "      <td>6.3</td>\n",
              "      <td>2.5</td>\n",
              "      <td>5.0</td>\n",
              "      <td>1.9</td>\n",
              "    </tr>\n",
              "    <tr>\n",
              "      <th>147</th>\n",
              "      <td>6.5</td>\n",
              "      <td>3.0</td>\n",
              "      <td>5.2</td>\n",
              "      <td>2.0</td>\n",
              "    </tr>\n",
              "    <tr>\n",
              "      <th>148</th>\n",
              "      <td>6.2</td>\n",
              "      <td>3.4</td>\n",
              "      <td>5.4</td>\n",
              "      <td>2.3</td>\n",
              "    </tr>\n",
              "    <tr>\n",
              "      <th>149</th>\n",
              "      <td>5.9</td>\n",
              "      <td>3.0</td>\n",
              "      <td>5.1</td>\n",
              "      <td>1.8</td>\n",
              "    </tr>\n",
              "  </tbody>\n",
              "</table>\n",
              "</div>"
            ],
            "text/plain": [
              "     sepal length (cm)  sepal width (cm)  petal length (cm)  petal width (cm)\n",
              "145                6.7               3.0                5.2               2.3\n",
              "146                6.3               2.5                5.0               1.9\n",
              "147                6.5               3.0                5.2               2.0\n",
              "148                6.2               3.4                5.4               2.3\n",
              "149                5.9               3.0                5.1               1.8"
            ]
          },
          "metadata": {
            "tags": []
          },
          "execution_count": 21
        }
      ]
    },
    {
      "cell_type": "code",
      "metadata": {
        "id": "mEoXpAzZ5qu8",
        "colab_type": "code",
        "colab": {}
      },
      "source": [
        ""
      ],
      "execution_count": 0,
      "outputs": []
    }
  ]
}