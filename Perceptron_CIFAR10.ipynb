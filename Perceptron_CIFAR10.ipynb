{
  "nbformat": 4,
  "nbformat_minor": 0,
  "metadata": {
    "colab": {
      "name": "Perceptron CIFAR10 ",
      "provenance": [],
      "collapsed_sections": []
    },
    "kernelspec": {
      "display_name": "Python 3",
      "language": "python",
      "name": "python3"
    },
    "widgets": {
      "application/vnd.jupyter.widget-state+json": {
        "995aff2d61724daabcec4512d07f4156": {
          "model_module": "@jupyter-widgets/controls",
          "model_name": "HBoxModel",
          "state": {
            "_view_name": "HBoxView",
            "_dom_classes": [],
            "_model_name": "HBoxModel",
            "_view_module": "@jupyter-widgets/controls",
            "_model_module_version": "1.5.0",
            "_view_count": null,
            "_view_module_version": "1.5.0",
            "box_style": "",
            "layout": "IPY_MODEL_271d41a4223748b6a049d46c8b3054f6",
            "_model_module": "@jupyter-widgets/controls",
            "children": [
              "IPY_MODEL_8751eb6ccb914e769970efcc88eff2f6",
              "IPY_MODEL_db507611247146478a3abb8de816ae79"
            ]
          }
        },
        "271d41a4223748b6a049d46c8b3054f6": {
          "model_module": "@jupyter-widgets/base",
          "model_name": "LayoutModel",
          "state": {
            "_view_name": "LayoutView",
            "grid_template_rows": null,
            "right": null,
            "justify_content": null,
            "_view_module": "@jupyter-widgets/base",
            "overflow": null,
            "_model_module_version": "1.2.0",
            "_view_count": null,
            "flex_flow": null,
            "width": null,
            "min_width": null,
            "border": null,
            "align_items": null,
            "bottom": null,
            "_model_module": "@jupyter-widgets/base",
            "top": null,
            "grid_column": null,
            "overflow_y": null,
            "overflow_x": null,
            "grid_auto_flow": null,
            "grid_area": null,
            "grid_template_columns": null,
            "flex": null,
            "_model_name": "LayoutModel",
            "justify_items": null,
            "grid_row": null,
            "max_height": null,
            "align_content": null,
            "visibility": null,
            "align_self": null,
            "height": null,
            "min_height": null,
            "padding": null,
            "grid_auto_rows": null,
            "grid_gap": null,
            "max_width": null,
            "order": null,
            "_view_module_version": "1.2.0",
            "grid_template_areas": null,
            "object_position": null,
            "object_fit": null,
            "grid_auto_columns": null,
            "margin": null,
            "display": null,
            "left": null
          }
        },
        "8751eb6ccb914e769970efcc88eff2f6": {
          "model_module": "@jupyter-widgets/controls",
          "model_name": "IntProgressModel",
          "state": {
            "_view_name": "ProgressView",
            "style": "IPY_MODEL_c23f193bd0394d1395e93429e445e501",
            "_dom_classes": [],
            "description": "",
            "_model_name": "IntProgressModel",
            "bar_style": "info",
            "max": 1,
            "_view_module": "@jupyter-widgets/controls",
            "_model_module_version": "1.5.0",
            "value": 1,
            "_view_count": null,
            "_view_module_version": "1.5.0",
            "orientation": "horizontal",
            "min": 0,
            "description_tooltip": null,
            "_model_module": "@jupyter-widgets/controls",
            "layout": "IPY_MODEL_8bf813c97fa94533beba524ba4dcfd04"
          }
        },
        "db507611247146478a3abb8de816ae79": {
          "model_module": "@jupyter-widgets/controls",
          "model_name": "HTMLModel",
          "state": {
            "_view_name": "HTMLView",
            "style": "IPY_MODEL_c263d0f86d4748e0add137de1b742207",
            "_dom_classes": [],
            "description": "",
            "_model_name": "HTMLModel",
            "placeholder": "​",
            "_view_module": "@jupyter-widgets/controls",
            "_model_module_version": "1.5.0",
            "value": "170500096it [00:30, 17096158.68it/s]",
            "_view_count": null,
            "_view_module_version": "1.5.0",
            "description_tooltip": null,
            "_model_module": "@jupyter-widgets/controls",
            "layout": "IPY_MODEL_3480f66d237a46d4ab6e5d746d1a0b43"
          }
        },
        "c23f193bd0394d1395e93429e445e501": {
          "model_module": "@jupyter-widgets/controls",
          "model_name": "ProgressStyleModel",
          "state": {
            "_view_name": "StyleView",
            "_model_name": "ProgressStyleModel",
            "description_width": "",
            "_view_module": "@jupyter-widgets/base",
            "_model_module_version": "1.5.0",
            "_view_count": null,
            "_view_module_version": "1.2.0",
            "bar_color": null,
            "_model_module": "@jupyter-widgets/controls"
          }
        },
        "8bf813c97fa94533beba524ba4dcfd04": {
          "model_module": "@jupyter-widgets/base",
          "model_name": "LayoutModel",
          "state": {
            "_view_name": "LayoutView",
            "grid_template_rows": null,
            "right": null,
            "justify_content": null,
            "_view_module": "@jupyter-widgets/base",
            "overflow": null,
            "_model_module_version": "1.2.0",
            "_view_count": null,
            "flex_flow": null,
            "width": null,
            "min_width": null,
            "border": null,
            "align_items": null,
            "bottom": null,
            "_model_module": "@jupyter-widgets/base",
            "top": null,
            "grid_column": null,
            "overflow_y": null,
            "overflow_x": null,
            "grid_auto_flow": null,
            "grid_area": null,
            "grid_template_columns": null,
            "flex": null,
            "_model_name": "LayoutModel",
            "justify_items": null,
            "grid_row": null,
            "max_height": null,
            "align_content": null,
            "visibility": null,
            "align_self": null,
            "height": null,
            "min_height": null,
            "padding": null,
            "grid_auto_rows": null,
            "grid_gap": null,
            "max_width": null,
            "order": null,
            "_view_module_version": "1.2.0",
            "grid_template_areas": null,
            "object_position": null,
            "object_fit": null,
            "grid_auto_columns": null,
            "margin": null,
            "display": null,
            "left": null
          }
        },
        "c263d0f86d4748e0add137de1b742207": {
          "model_module": "@jupyter-widgets/controls",
          "model_name": "DescriptionStyleModel",
          "state": {
            "_view_name": "StyleView",
            "_model_name": "DescriptionStyleModel",
            "description_width": "",
            "_view_module": "@jupyter-widgets/base",
            "_model_module_version": "1.5.0",
            "_view_count": null,
            "_view_module_version": "1.2.0",
            "_model_module": "@jupyter-widgets/controls"
          }
        },
        "3480f66d237a46d4ab6e5d746d1a0b43": {
          "model_module": "@jupyter-widgets/base",
          "model_name": "LayoutModel",
          "state": {
            "_view_name": "LayoutView",
            "grid_template_rows": null,
            "right": null,
            "justify_content": null,
            "_view_module": "@jupyter-widgets/base",
            "overflow": null,
            "_model_module_version": "1.2.0",
            "_view_count": null,
            "flex_flow": null,
            "width": null,
            "min_width": null,
            "border": null,
            "align_items": null,
            "bottom": null,
            "_model_module": "@jupyter-widgets/base",
            "top": null,
            "grid_column": null,
            "overflow_y": null,
            "overflow_x": null,
            "grid_auto_flow": null,
            "grid_area": null,
            "grid_template_columns": null,
            "flex": null,
            "_model_name": "LayoutModel",
            "justify_items": null,
            "grid_row": null,
            "max_height": null,
            "align_content": null,
            "visibility": null,
            "align_self": null,
            "height": null,
            "min_height": null,
            "padding": null,
            "grid_auto_rows": null,
            "grid_gap": null,
            "max_width": null,
            "order": null,
            "_view_module_version": "1.2.0",
            "grid_template_areas": null,
            "object_position": null,
            "object_fit": null,
            "grid_auto_columns": null,
            "margin": null,
            "display": null,
            "left": null
          }
        }
      }
    }
  },
  "cells": [
    {
      "cell_type": "markdown",
      "metadata": {
        "id": "gYq3cDmXRi7m",
        "colab_type": "text"
      },
      "source": [
        "# <center>**The Perceptron**\n",
        "\n",
        "![perceptron](https://letscode-academy.com/blog/wp-content/uploads/2019/07/perceptron-01-250x234.png)"
      ]
    },
    {
      "cell_type": "markdown",
      "metadata": {
        "id": "qePwaXbHLV38",
        "colab_type": "text"
      },
      "source": [
        " # <center>Learning a linear function</center>\n",
        " ## We want to fit a perceptron to the function $y = 45*x + 23$\n",
        " First we need to generate a dataset\n",
        "\n",
        " Let x be a vector of 1000 random numbers:\n",
        "\n",
        "```\n",
        "import numpy as np\n",
        "\n",
        "size = 1000\n",
        "x = np.random(1, size)\n",
        "\n",
        "```\n",
        "\n",
        "let y the labels of each x entry:\n",
        "```\n",
        "y = 45*x + 23\n",
        "```\n",
        "Note: the code in the cell adds noise to the labels based on a gaussian distribution with 5 as mean and 5 as variance (it can be modified to better visualization) Now we have an 1000 sized labeled dataset. We need to split it into train, validation and test. The portion for each set will be considered as used in the literarture (70%, 15%, 15%).\n",
        "\n",
        "```\n",
        "training = x[:700]\n",
        "validation = x[700:850]\n",
        "test = x[850:]\n",
        "```\n",
        "\n",
        "Now we can fit the perceptron\n",
        "```\n",
        "fit(dataset, weights)\n",
        "```"
      ]
    },
    {
      "cell_type": "code",
      "metadata": {
        "id": "JAnQq5oOzyyN",
        "colab_type": "code",
        "colab": {}
      },
      "source": [
        "import numpy as np\n",
        "import random\n",
        "import time\n",
        "import sklearn\n",
        "import matplotlib.pyplot as plt\n",
        "from random import shuffle"
      ],
      "execution_count": 0,
      "outputs": []
    },
    {
      "cell_type": "markdown",
      "metadata": {
        "id": "yNO-w7DY7GJS",
        "colab_type": "text"
      },
      "source": [
        "# Defining the perceptron"
      ]
    },
    {
      "cell_type": "code",
      "metadata": {
        "id": "UVGPO9j67GJT",
        "colab_type": "code",
        "colab": {}
      },
      "source": [
        "def sigmoid(x):\n",
        "    return 1/(1+np.exp(-x))\n",
        "\n",
        "def perceptron(inputs, weights):\n",
        "    inputs_bias = np.append(inputs,1)\n",
        "    output = np.dot(inputs_bias.T, weights)\n",
        "    return output"
      ],
      "execution_count": 0,
      "outputs": []
    },
    {
      "cell_type": "code",
      "metadata": {
        "id": "dx5GRc3W0Bgl",
        "colab_type": "code",
        "colab": {}
      },
      "source": [
        "def init(size):\n",
        "  weights = (np.random.rand(1,size) - 0.5)[0]\n",
        "  bias = (np.random.rand(1) - 0.5) \n",
        "  weights = np.append(weights, bias) \n",
        "  return weights\n"
      ],
      "execution_count": 0,
      "outputs": []
    },
    {
      "cell_type": "code",
      "metadata": {
        "id": "bdTNmoN3dFH9",
        "colab_type": "code",
        "colab": {}
      },
      "source": [
        "size = 1000\n",
        "x = np.random.rand(size)"
      ],
      "execution_count": 0,
      "outputs": []
    },
    {
      "cell_type": "code",
      "metadata": {
        "id": "aiH_reDDdG2S",
        "colab_type": "code",
        "colab": {},
        "cellView": "both"
      },
      "source": [
        "#@title Adding random noise to the function will be learned\n",
        "y = 45*x + 23 + np.random.rand(size)*10\n"
      ],
      "execution_count": 0,
      "outputs": []
    },
    {
      "cell_type": "code",
      "metadata": {
        "id": "bUgug7E0dIwa",
        "colab_type": "code",
        "colab": {}
      },
      "source": [
        "training = x[:700]\n",
        "validation = x[700:850]\n",
        "test = x[850:]"
      ],
      "execution_count": 0,
      "outputs": []
    },
    {
      "cell_type": "code",
      "metadata": {
        "id": "8eFU9yj3dOFC",
        "colab_type": "code",
        "colab": {}
      },
      "source": [
        "dataset =[]\n",
        "for  i,x_ in enumerate(training):\n",
        "  dataset.append((x_, y[i]))\n"
      ],
      "execution_count": 0,
      "outputs": []
    },
    {
      "cell_type": "markdown",
      "metadata": {
        "id": "X5rW53I9cl7o",
        "colab_type": "text"
      },
      "source": [
        "#Training with Gradient Descent given batch_size = Training set, batch_size = 1 and batch_size = num"
      ]
    },
    {
      "cell_type": "markdown",
      "metadata": {
        "id": "DzKJxNDSIwzl",
        "colab_type": "text"
      },
      "source": [
        "# Fitting the model\n",
        "\n",
        "The weights' update function can be calculated as:<br>\n",
        "<center>$\\begin{equation}\\Delta w_{i} =  - \\eta.\\nabla_{w}^E\\end{equation}$</center> \n",
        "\n",
        "where $\\nabla_{w}^E$ is the gradient function of the error function over the weights. Assuming that each weight is linearly independent, we can rewrite this equation as:<br>\n",
        "let $\\textbf{w}$ be a vector of weights and $\\nabla_{\\textbf{w}}^E$ a vector of partial devarivatives of the Error function over the weights:\n",
        "\n",
        "$\\begin{equation}\n",
        "  \\textbf{w} = \\begin{pmatrix} w_{1} \\\\ w_{2} \\\\ \\vdots \\\\ w_{n} \\end{pmatrix} ; \\nabla_{\\textbf{w}}^E = \\begin{pmatrix} \\frac{\\partial E}{\\partial w_{1}} \\\\ \\frac{\\partial E}{\\partial w_{2}}\\\\ \\vdots \\\\ \\frac{\\partial E}{\\partial w_{n}}\\end{pmatrix} \\end{equation}\n",
        "  $\n",
        "\n",
        "  $\\textbf{w}_{t+1} = \\textbf{w}_{t} - \\eta.\\nabla_{\\textbf{w}}^E$"
      ]
    },
    {
      "cell_type": "markdown",
      "metadata": {
        "id": "t7Stw8VUI0Z6",
        "colab_type": "text"
      },
      "source": [
        "We assume the Error function to be the Mean Square Error. Therefore, it can be calculated by the following equation:\n",
        "\n",
        "$\\mathcal{L}(y, \\hat{y}) = \\frac{1}{N}\\sum_{i = 0}^N (y - \\hat{y})^2$\n",
        "\n",
        "lines `27` and `34` of the next cell are the implementation of the error function $\\mathcal{L}$ and weights' updating  $\\textbf{w}_{t+1} = \\textbf{w}_{t} - \\eta.\\nabla_{\\textbf{w}}^E$ , respectively."
      ]
    },
    {
      "cell_type": "code",
      "metadata": {
        "id": "OTONal707GJb",
        "colab_type": "code",
        "colab": {}
      },
      "source": [
        "# Inicialização\n",
        "import matplotlib.pyplot as plt\n",
        "from IPython.display import clear_output\n",
        "from time import sleep\n",
        "\n",
        "def fit(dataset, weights, epochs, neta = 0.00001, batch_size = 1):\n",
        "  loss_plot = []\n",
        "  acc = []\n",
        "  \n",
        "  if batch_size == 'dataset':\n",
        "    batch_size = len(dataset)- 1\n",
        "\n",
        "  update_weights = batch_size \n",
        "\n",
        "  for i, epoch in enumerate(range(epochs)):\n",
        "  \n",
        "    loss_sum = 0\n",
        "    dLoss = np.empty(2)\n",
        "\n",
        "    shuffle(dataset)\n",
        "    batch_counter = 0\n",
        "    for input_value, output_gt in dataset:\n",
        "      batch_counter += 1\n",
        "\n",
        "      out = perceptron(input_value, weights)\n",
        "      \n",
        "      loss = ((output_gt - out)**2)/(2*len(dataset)) #MSE loss\n",
        "      \n",
        "      loss_sum += loss\n",
        "\n",
        "      dLoss += (output_gt - out)*(-np.append(input_value, 1))\n",
        "\n",
        "      if batch_counter == update_weights:\n",
        "        weights -= neta*(dLoss/batch_counter) # Dwi = -neta*wb*loss_sum\n",
        "        dLoss = 0\n",
        "        batch_counter = 0\n",
        "        \n",
        "       \n",
        "\n",
        "    if (i % (epochs*0.1)) == 0:\n",
        "    \n",
        "      x_ = validation\n",
        "      y_ = weights[0]*x_ + weights[1]\n",
        "      sleep(1)\n",
        "      clear_output(wait = True)\n",
        "      plt.plot(np.sort(x_), np.sort(y_))\n",
        "      \n",
        "      y_ = y[700:850]\n",
        "      print(weights)\n",
        "      plt.plot(np.sort(x_), np.sort(y_), 'bo')\n",
        "      plt.show()\n",
        "\n",
        "    loss_plot.append(loss_sum)\n",
        "\n",
        "  plt.plot(loss_plot )\n",
        "  plt.show()\n",
        "    "
      ],
      "execution_count": 0,
      "outputs": []
    },
    {
      "cell_type": "markdown",
      "metadata": {
        "id": "vIJUF5QddkZ9",
        "colab_type": "text"
      },
      "source": [
        "#Weights initialization "
      ]
    },
    {
      "cell_type": "code",
      "metadata": {
        "id": "YkcgT64UdLNq",
        "colab_type": "code",
        "cellView": "both",
        "colab": {}
      },
      "source": [
        "#@title The function Init() waits for a dimension value (how many weights the model will have)\n",
        "weights = init(x.ndim)"
      ],
      "execution_count": 0,
      "outputs": []
    },
    {
      "cell_type": "code",
      "metadata": {
        "id": "InoVSHkHdPKq",
        "colab_type": "code",
        "outputId": "3f7f2f47-79ee-40ce-e256-262cbbe1ffb4",
        "colab": {
          "base_uri": "https://localhost:8080/",
          "height": 547
        }
      },
      "source": [
        "t1 = time.time()\n",
        "print(weights)\n",
        "epochs  = 300 #@param\n",
        "neta = 1e-2 #@param\n",
        "batch_size = 100 #@param\n",
        "fit(dataset = dataset, weights = weights, epochs = epochs,\n",
        "    neta = neta, batch_size = batch_size)\n",
        "t2 = time.time()\n",
        "\n",
        "print(10*'-' + \"Time:\" + str(t2 - t1) + 10*'-')"
      ],
      "execution_count": 27,
      "outputs": [
        {
          "output_type": "stream",
          "text": [
            "[42.78148555 29.12214288]\n"
          ],
          "name": "stdout"
        },
        {
          "output_type": "display_data",
          "data": {
            "image/png": "[encoded data removed]",
            "text/plain": [
              "<Figure size 432x288 with 1 Axes>"
            ]
          },
          "metadata": {
            "tags": []
          }
        },
        {
          "output_type": "display_data",
          "data": {
            "image/png": "[encoded data removed]",
            "text/plain": [
              "<Figure size 432x288 with 1 Axes>"
            ]
          },
          "metadata": {
            "tags": []
          }
        },
        {
          "output_type": "stream",
          "text": [
            "----------Time:17.092875480651855----------\n"
          ],
          "name": "stdout"
        }
      ]
    },
    {
      "cell_type": "code",
      "metadata": {
        "id": "XWnftoT87GJe",
        "colab_type": "code",
        "outputId": "6eb9eeab-274c-4002-e614-f8c085b92055",
        "colab": {
          "base_uri": "https://localhost:8080/",
          "height": 282
        }
      },
      "source": [
        "# Avalie o modelo treinado aqui\n",
        "# Como a acurácia no conjunto de teste se compara com a acurácia obtida no conjunto de treino?\n",
        "from sklearn.metrics import r2_score\n",
        "from sklearn.metrics import roc_auc_score\n",
        "\n",
        "y_true = y[850:]\n",
        "y_pred = weights[0]*test + weights[1]\n",
        "\n",
        "\n",
        "plt.plot(np.sort(test),np.sort(y_true), 'bo')\n",
        "plt.plot(np.sort(test),np.sort(y_pred))\n",
        "plt.show()\n",
        "print(r2_score(y_true, y_pred))\n",
        "#evaluate(weights,linear_dataset_test)\n",
        "  \n",
        "  "
      ],
      "execution_count": 28,
      "outputs": [
        {
          "output_type": "display_data",
          "data": {
            "image/png": "[encoded data removed]",
            "text/plain": [
              "<Figure size 432x288 with 1 Axes>"
            ]
          },
          "metadata": {
            "tags": []
          }
        },
        {
          "output_type": "stream",
          "text": [
            "0.9536757277978617\n"
          ],
          "name": "stdout"
        }
      ]
    },
    {
      "cell_type": "markdown",
      "metadata": {
        "id": "W-CNDW_dirFh",
        "colab_type": "text"
      },
      "source": [
        "#The cells above show how to fit a perceptron as a regressor. Next, we will fit the perceptron as a classifier. So we don't want to predict where a new entry would most likely be in a linear behavior, but we do want to discriminate to which class this entry belongs."
      ]
    },
    {
      "cell_type": "code",
      "metadata": {
        "id": "8X6pMQuoy4um",
        "colab_type": "code",
        "outputId": "ff72ceb0-6b91-4413-f9fd-0c668c4721d7",
        "colab": {
          "base_uri": "https://localhost:8080/",
          "height": 265
        }
      },
      "source": [
        "#@title This cell creates a linearly separable dataset of two features\n",
        "from sklearn import datasets\n",
        "\n",
        "separable = False\n",
        "while not separable:\n",
        "    samples = datasets.make_classification(n_samples=100, n_features=2, n_redundant=0, n_informative=1, n_clusters_per_class=1, flip_y=-1)\n",
        "    red = samples[0][samples[1] == 0]\n",
        "    blue = samples[0][samples[1] == 1]\n",
        "    separable = any([red[:, k].max() < blue[:, k].min() or red[:, k].min() > blue[:, k].max() for k in range(2)])\n",
        "plt.plot(red[:, 0], red[:, 1], 'r.')\n",
        "plt.plot(blue[:, 0], blue[:, 1], 'b.')\n",
        "plt.show()"
      ],
      "execution_count": 0,
      "outputs": [
        {
          "output_type": "display_data",
          "data": {
            "image/png": "[encoded data removed]",
            "text/plain": [
              "<Figure size 432x288 with 1 Axes>"
            ]
          },
          "metadata": {
            "tags": []
          }
        }
      ]
    },
    {
      "cell_type": "markdown",
      "metadata": {
        "id": "6QWQWT5ho4Qe",
        "colab_type": "text"
      },
      "source": [
        "#Training a classifier"
      ]
    },
    {
      "cell_type": "code",
      "metadata": {
        "id": "XEm_Cmw6xvZ7",
        "colab_type": "code",
        "colab": {}
      },
      "source": [
        "#@title Now the perceptron uses an activation function called sigmoid\n",
        "def sigmoid(x):\n",
        "    return 1/(1+np.exp(-x))\n",
        "\n",
        "def perceptron(inputs, weights):\n",
        "    # Defina o perceptron aqui\n",
        "    inputs_bias = np.append(inputs,1)\n",
        "    output = np.dot(inputs_bias.T, weights)\n",
        "    return sigmoid(output)"
      ],
      "execution_count": 0,
      "outputs": []
    },
    {
      "cell_type": "code",
      "metadata": {
        "id": "lx85iALZo3XB",
        "colab_type": "code",
        "colab": {}
      },
      "source": [
        "def fit(dataset, weights, epochs, batch_size = 1, neta = 0.00001):\n",
        "  loss_plot = []\n",
        "  acc = []\n",
        "\n",
        "  if batch_size == 'dataset':\n",
        "    batch_size = len(dataset)- 1\n",
        "\n",
        "  update_weights = batch_size\n",
        "\n",
        "  for i, epoch in enumerate(range(epochs)):\n",
        "    \n",
        "    loss_sum = 0\n",
        "    acc_sum = 0\n",
        "    dLoss = 0\n",
        "    batch_counter = 0\n",
        "    for input_value, output_gt in dataset:\n",
        "      \n",
        "      batch_counter += 1\n",
        "\n",
        "      out = perceptron(input_value, weights)\n",
        "      \n",
        "      loss = ((output_gt - out)**2)/(2*len(dataset)) #MSE loss\n",
        "      \n",
        "      loss_sum += loss\n",
        "\n",
        "      dLoss += (output_gt - out)*(-np.append(input_value, 1))\n",
        "      if (out < 0.5 and output_gt > 0.5) or (out > 0.5 and output_gt < 0.5):\n",
        "        pass\n",
        "      else:\n",
        "          acc_sum += 1\n",
        "      if batch_counter == update_weights:\n",
        "       \n",
        "        \n",
        "        weights -= neta*(dLoss/batch_counter)\n",
        "    \n",
        "        dLoss = 0\n",
        "        batch_counter = 0\n",
        "    \n",
        "    acc.append(acc_sum/len(dataset))\n",
        "  \n",
        "    loss_plot.append(loss_sum)\n",
        "    if (epoch % 100) == 0:\n",
        "      evaluate(weights, dataset)\n",
        "\n",
        "  fig, ax1 = plt.subplots()\n",
        "\n",
        "  ax2 = ax1.twinx()\n",
        "\n",
        "  color = 'tab:blue'\n",
        "  ax2.set_ylabel('accuracy', color=color)  # we already handled the x-label with ax1\n",
        "  ax2.plot(acc, color=color)\n",
        "\n",
        "  color = 'tab:red'\n",
        "  ax1.set_ylabel('loss', color=color)  # we already handled the x-label with ax1\n",
        "  ax1.plot(loss_plot, color=color)\n",
        "  fig.tight_layout()\n",
        "  plt.show()\n",
        "    "
      ],
      "execution_count": 0,
      "outputs": []
    },
    {
      "cell_type": "code",
      "metadata": {
        "id": "TLo71W3kqMzM",
        "colab_type": "code",
        "colab": {}
      },
      "source": [
        "from sklearn import metrics as mtr\n",
        "\n",
        "def evaluate(weights,dataset):\n",
        "\n",
        "    y_hat = []\n",
        "    for img,label in dataset:\n",
        "        # Defina a métrica de avaliação do perceptron aqui (e.g. acurácia)\n",
        "        y = perceptron(img, weights)\n",
        "        \n",
        "        if y > 0.5:\n",
        "          y_hat.append(1) \n",
        "         \n",
        "        else:\n",
        "          y_hat.append(0)\n",
        "          \n",
        "        \n",
        "    print(mtr.classification_report([y_true for _, y_true in dataset], y_hat ))\n",
        "        \n",
        "    \n",
        "    "
      ],
      "execution_count": 0,
      "outputs": []
    },
    {
      "cell_type": "code",
      "metadata": {
        "id": "9Y5sJq7D4oOF",
        "colab_type": "code",
        "outputId": "ca41597d-1478-4eff-d7ee-0e75fe81fbfd",
        "colab": {
          "base_uri": "https://localhost:8080/",
          "height": 1000
        }
      },
      "source": [
        "from random import shuffle\n",
        "\n",
        "weights = init(2)\n",
        "\n",
        "inputs = samples[0][:]\n",
        "labels = samples[1][:]\n",
        "\n",
        "dataset = [(inp, labels[i]) for i,inp in enumerate(inputs)]\n",
        "\n",
        "shuffle(dataset)\n",
        "fit(dataset,weights, 10000, neta = 1e-4)"
      ],
      "execution_count": 0,
      "outputs": [
        {
          "output_type": "stream",
          "text": [
            "              precision    recall  f1-score   support\n",
            "\n",
            "           0       0.06      0.04      0.05        50\n",
            "           1       0.25      0.32      0.28        50\n",
            "\n",
            "    accuracy                           0.18       100\n",
            "   macro avg       0.15      0.18      0.16       100\n",
            "weighted avg       0.15      0.18      0.16       100\n",
            "\n",
            "              precision    recall  f1-score   support\n",
            "\n",
            "           0       0.63      0.38      0.48        50\n",
            "           1       0.56      0.78      0.65        50\n",
            "\n",
            "    accuracy                           0.58       100\n",
            "   macro avg       0.60      0.58      0.56       100\n",
            "weighted avg       0.60      0.58      0.56       100\n",
            "\n",
            "              precision    recall  f1-score   support\n",
            "\n",
            "           0       0.93      0.80      0.86        50\n",
            "           1       0.82      0.94      0.88        50\n",
            "\n",
            "    accuracy                           0.87       100\n",
            "   macro avg       0.88      0.87      0.87       100\n",
            "weighted avg       0.88      0.87      0.87       100\n",
            "\n",
            "              precision    recall  f1-score   support\n",
            "\n",
            "           0       0.96      0.98      0.97        50\n",
            "           1       0.98      0.96      0.97        50\n",
            "\n",
            "    accuracy                           0.97       100\n",
            "   macro avg       0.97      0.97      0.97       100\n",
            "weighted avg       0.97      0.97      0.97       100\n",
            "\n",
            "              precision    recall  f1-score   support\n",
            "\n",
            "           0       0.96      1.00      0.98        50\n",
            "           1       1.00      0.96      0.98        50\n",
            "\n",
            "    accuracy                           0.98       100\n",
            "   macro avg       0.98      0.98      0.98       100\n",
            "weighted avg       0.98      0.98      0.98       100\n",
            "\n",
            "              precision    recall  f1-score   support\n",
            "\n",
            "           0       1.00      1.00      1.00        50\n",
            "           1       1.00      1.00      1.00        50\n",
            "\n",
            "    accuracy                           1.00       100\n",
            "   macro avg       1.00      1.00      1.00       100\n",
            "weighted avg       1.00      1.00      1.00       100\n",
            "\n",
            "              precision    recall  f1-score   support\n",
            "\n",
            "           0       1.00      1.00      1.00        50\n",
            "           1       1.00      1.00      1.00        50\n",
            "\n",
            "    accuracy                           1.00       100\n",
            "   macro avg       1.00      1.00      1.00       100\n",
            "weighted avg       1.00      1.00      1.00       100\n",
            "\n",
            "              precision    recall  f1-score   support\n",
            "\n",
            "           0       1.00      1.00      1.00        50\n",
            "           1       1.00      1.00      1.00        50\n",
            "\n",
            "    accuracy                           1.00       100\n",
            "   macro avg       1.00      1.00      1.00       100\n",
            "weighted avg       1.00      1.00      1.00       100\n",
            "\n",
            "              precision    recall  f1-score   support\n",
            "\n",
            "           0       1.00      1.00      1.00        50\n",
            "           1       1.00      1.00      1.00        50\n",
            "\n",
            "    accuracy                           1.00       100\n",
            "   macro avg       1.00      1.00      1.00       100\n",
            "weighted avg       1.00      1.00      1.00       100\n",
            "\n",
            "              precision    recall  f1-score   support\n",
            "\n",
            "           0       1.00      1.00      1.00        50\n",
            "           1       1.00      1.00      1.00        50\n",
            "\n",
            "    accuracy                           1.00       100\n",
            "   macro avg       1.00      1.00      1.00       100\n",
            "weighted avg       1.00      1.00      1.00       100\n",
            "\n",
            "              precision    recall  f1-score   support\n",
            "\n",
            "           0       1.00      1.00      1.00        50\n",
            "           1       1.00      1.00      1.00        50\n",
            "\n",
            "    accuracy                           1.00       100\n",
            "   macro avg       1.00      1.00      1.00       100\n",
            "weighted avg       1.00      1.00      1.00       100\n",
            "\n",
            "              precision    recall  f1-score   support\n",
            "\n",
            "           0       1.00      1.00      1.00        50\n",
            "           1       1.00      1.00      1.00        50\n",
            "\n",
            "    accuracy                           1.00       100\n",
            "   macro avg       1.00      1.00      1.00       100\n",
            "weighted avg       1.00      1.00      1.00       100\n",
            "\n",
            "              precision    recall  f1-score   support\n",
            "\n",
            "           0       1.00      1.00      1.00        50\n",
            "           1       1.00      1.00      1.00        50\n",
            "\n",
            "    accuracy                           1.00       100\n",
            "   macro avg       1.00      1.00      1.00       100\n",
            "weighted avg       1.00      1.00      1.00       100\n",
            "\n",
            "              precision    recall  f1-score   support\n",
            "\n",
            "           0       1.00      1.00      1.00        50\n",
            "           1       1.00      1.00      1.00        50\n",
            "\n",
            "    accuracy                           1.00       100\n",
            "   macro avg       1.00      1.00      1.00       100\n",
            "weighted avg       1.00      1.00      1.00       100\n",
            "\n",
            "              precision    recall  f1-score   support\n",
            "\n",
            "           0       1.00      1.00      1.00        50\n",
            "           1       1.00      1.00      1.00        50\n",
            "\n",
            "    accuracy                           1.00       100\n",
            "   macro avg       1.00      1.00      1.00       100\n",
            "weighted avg       1.00      1.00      1.00       100\n",
            "\n",
            "              precision    recall  f1-score   support\n",
            "\n",
            "           0       1.00      1.00      1.00        50\n",
            "           1       1.00      1.00      1.00        50\n",
            "\n",
            "    accuracy                           1.00       100\n",
            "   macro avg       1.00      1.00      1.00       100\n",
            "weighted avg       1.00      1.00      1.00       100\n",
            "\n",
            "              precision    recall  f1-score   support\n",
            "\n",
            "           0       1.00      1.00      1.00        50\n",
            "           1       1.00      1.00      1.00        50\n",
            "\n",
            "    accuracy                           1.00       100\n",
            "   macro avg       1.00      1.00      1.00       100\n",
            "weighted avg       1.00      1.00      1.00       100\n",
            "\n",
            "              precision    recall  f1-score   support\n",
            "\n",
            "           0       1.00      1.00      1.00        50\n",
            "           1       1.00      1.00      1.00        50\n",
            "\n",
            "    accuracy                           1.00       100\n",
            "   macro avg       1.00      1.00      1.00       100\n",
            "weighted avg       1.00      1.00      1.00       100\n",
            "\n",
            "              precision    recall  f1-score   support\n",
            "\n",
            "           0       1.00      1.00      1.00        50\n",
            "           1       1.00      1.00      1.00        50\n",
            "\n",
            "    accuracy                           1.00       100\n",
            "   macro avg       1.00      1.00      1.00       100\n",
            "weighted avg       1.00      1.00      1.00       100\n",
            "\n",
            "              precision    recall  f1-score   support\n",
            "\n",
            "           0       1.00      1.00      1.00        50\n",
            "           1       1.00      1.00      1.00        50\n",
            "\n",
            "    accuracy                           1.00       100\n",
            "   macro avg       1.00      1.00      1.00       100\n",
            "weighted avg       1.00      1.00      1.00       100\n",
            "\n",
            "              precision    recall  f1-score   support\n",
            "\n",
            "           0       1.00      1.00      1.00        50\n",
            "           1       1.00      1.00      1.00        50\n",
            "\n",
            "    accuracy                           1.00       100\n",
            "   macro avg       1.00      1.00      1.00       100\n",
            "weighted avg       1.00      1.00      1.00       100\n",
            "\n",
            "              precision    recall  f1-score   support\n",
            "\n",
            "           0       1.00      1.00      1.00        50\n",
            "           1       1.00      1.00      1.00        50\n",
            "\n",
            "    accuracy                           1.00       100\n",
            "   macro avg       1.00      1.00      1.00       100\n",
            "weighted avg       1.00      1.00      1.00       100\n",
            "\n",
            "              precision    recall  f1-score   support\n",
            "\n",
            "           0       1.00      1.00      1.00        50\n",
            "           1       1.00      1.00      1.00        50\n",
            "\n",
            "    accuracy                           1.00       100\n",
            "   macro avg       1.00      1.00      1.00       100\n",
            "weighted avg       1.00      1.00      1.00       100\n",
            "\n",
            "              precision    recall  f1-score   support\n",
            "\n",
            "           0       1.00      1.00      1.00        50\n",
            "           1       1.00      1.00      1.00        50\n",
            "\n",
            "    accuracy                           1.00       100\n",
            "   macro avg       1.00      1.00      1.00       100\n",
            "weighted avg       1.00      1.00      1.00       100\n",
            "\n",
            "              precision    recall  f1-score   support\n",
            "\n",
            "           0       1.00      1.00      1.00        50\n",
            "           1       1.00      1.00      1.00        50\n",
            "\n",
            "    accuracy                           1.00       100\n",
            "   macro avg       1.00      1.00      1.00       100\n",
            "weighted avg       1.00      1.00      1.00       100\n",
            "\n",
            "              precision    recall  f1-score   support\n",
            "\n",
            "           0       1.00      1.00      1.00        50\n",
            "           1       1.00      1.00      1.00        50\n",
            "\n",
            "    accuracy                           1.00       100\n",
            "   macro avg       1.00      1.00      1.00       100\n",
            "weighted avg       1.00      1.00      1.00       100\n",
            "\n",
            "              precision    recall  f1-score   support\n",
            "\n",
            "           0       1.00      1.00      1.00        50\n",
            "           1       1.00      1.00      1.00        50\n",
            "\n",
            "    accuracy                           1.00       100\n",
            "   macro avg       1.00      1.00      1.00       100\n",
            "weighted avg       1.00      1.00      1.00       100\n",
            "\n",
            "              precision    recall  f1-score   support\n",
            "\n",
            "           0       1.00      1.00      1.00        50\n",
            "           1       1.00      1.00      1.00        50\n",
            "\n",
            "    accuracy                           1.00       100\n",
            "   macro avg       1.00      1.00      1.00       100\n",
            "weighted avg       1.00      1.00      1.00       100\n",
            "\n",
            "              precision    recall  f1-score   support\n",
            "\n",
            "           0       1.00      1.00      1.00        50\n",
            "           1       1.00      1.00      1.00        50\n",
            "\n",
            "    accuracy                           1.00       100\n",
            "   macro avg       1.00      1.00      1.00       100\n",
            "weighted avg       1.00      1.00      1.00       100\n",
            "\n",
            "              precision    recall  f1-score   support\n",
            "\n",
            "           0       1.00      1.00      1.00        50\n",
            "           1       1.00      1.00      1.00        50\n",
            "\n",
            "    accuracy                           1.00       100\n",
            "   macro avg       1.00      1.00      1.00       100\n",
            "weighted avg       1.00      1.00      1.00       100\n",
            "\n",
            "              precision    recall  f1-score   support\n",
            "\n",
            "           0       1.00      1.00      1.00        50\n",
            "           1       1.00      1.00      1.00        50\n",
            "\n",
            "    accuracy                           1.00       100\n",
            "   macro avg       1.00      1.00      1.00       100\n",
            "weighted avg       1.00      1.00      1.00       100\n",
            "\n",
            "              precision    recall  f1-score   support\n",
            "\n",
            "           0       1.00      1.00      1.00        50\n",
            "           1       1.00      1.00      1.00        50\n",
            "\n",
            "    accuracy                           1.00       100\n",
            "   macro avg       1.00      1.00      1.00       100\n",
            "weighted avg       1.00      1.00      1.00       100\n",
            "\n",
            "              precision    recall  f1-score   support\n",
            "\n",
            "           0       1.00      1.00      1.00        50\n",
            "           1       1.00      1.00      1.00        50\n",
            "\n",
            "    accuracy                           1.00       100\n",
            "   macro avg       1.00      1.00      1.00       100\n",
            "weighted avg       1.00      1.00      1.00       100\n",
            "\n",
            "              precision    recall  f1-score   support\n",
            "\n",
            "           0       1.00      1.00      1.00        50\n",
            "           1       1.00      1.00      1.00        50\n",
            "\n",
            "    accuracy                           1.00       100\n",
            "   macro avg       1.00      1.00      1.00       100\n",
            "weighted avg       1.00      1.00      1.00       100\n",
            "\n",
            "              precision    recall  f1-score   support\n",
            "\n",
            "           0       1.00      1.00      1.00        50\n",
            "           1       1.00      1.00      1.00        50\n",
            "\n",
            "    accuracy                           1.00       100\n",
            "   macro avg       1.00      1.00      1.00       100\n",
            "weighted avg       1.00      1.00      1.00       100\n",
            "\n",
            "              precision    recall  f1-score   support\n",
            "\n",
            "           0       1.00      1.00      1.00        50\n",
            "           1       1.00      1.00      1.00        50\n",
            "\n",
            "    accuracy                           1.00       100\n",
            "   macro avg       1.00      1.00      1.00       100\n",
            "weighted avg       1.00      1.00      1.00       100\n",
            "\n",
            "              precision    recall  f1-score   support\n",
            "\n",
            "           0       1.00      1.00      1.00        50\n",
            "           1       1.00      1.00      1.00        50\n",
            "\n",
            "    accuracy                           1.00       100\n",
            "   macro avg       1.00      1.00      1.00       100\n",
            "weighted avg       1.00      1.00      1.00       100\n",
            "\n",
            "              precision    recall  f1-score   support\n",
            "\n",
            "           0       1.00      1.00      1.00        50\n",
            "           1       1.00      1.00      1.00        50\n",
            "\n",
            "    accuracy                           1.00       100\n",
            "   macro avg       1.00      1.00      1.00       100\n",
            "weighted avg       1.00      1.00      1.00       100\n",
            "\n",
            "              precision    recall  f1-score   support\n",
            "\n",
            "           0       1.00      1.00      1.00        50\n",
            "           1       1.00      1.00      1.00        50\n",
            "\n",
            "    accuracy                           1.00       100\n",
            "   macro avg       1.00      1.00      1.00       100\n",
            "weighted avg       1.00      1.00      1.00       100\n",
            "\n",
            "              precision    recall  f1-score   support\n",
            "\n",
            "           0       1.00      1.00      1.00        50\n",
            "           1       1.00      1.00      1.00        50\n",
            "\n",
            "    accuracy                           1.00       100\n",
            "   macro avg       1.00      1.00      1.00       100\n",
            "weighted avg       1.00      1.00      1.00       100\n",
            "\n",
            "              precision    recall  f1-score   support\n",
            "\n",
            "           0       1.00      1.00      1.00        50\n",
            "           1       1.00      1.00      1.00        50\n",
            "\n",
            "    accuracy                           1.00       100\n",
            "   macro avg       1.00      1.00      1.00       100\n",
            "weighted avg       1.00      1.00      1.00       100\n",
            "\n",
            "              precision    recall  f1-score   support\n",
            "\n",
            "           0       1.00      1.00      1.00        50\n",
            "           1       1.00      1.00      1.00        50\n",
            "\n",
            "    accuracy                           1.00       100\n",
            "   macro avg       1.00      1.00      1.00       100\n",
            "weighted avg       1.00      1.00      1.00       100\n",
            "\n",
            "              precision    recall  f1-score   support\n",
            "\n",
            "           0       1.00      1.00      1.00        50\n",
            "           1       1.00      1.00      1.00        50\n",
            "\n",
            "    accuracy                           1.00       100\n",
            "   macro avg       1.00      1.00      1.00       100\n",
            "weighted avg       1.00      1.00      1.00       100\n",
            "\n",
            "              precision    recall  f1-score   support\n",
            "\n",
            "           0       1.00      1.00      1.00        50\n",
            "           1       1.00      1.00      1.00        50\n",
            "\n",
            "    accuracy                           1.00       100\n",
            "   macro avg       1.00      1.00      1.00       100\n",
            "weighted avg       1.00      1.00      1.00       100\n",
            "\n",
            "              precision    recall  f1-score   support\n",
            "\n",
            "           0       1.00      1.00      1.00        50\n",
            "           1       1.00      1.00      1.00        50\n",
            "\n",
            "    accuracy                           1.00       100\n",
            "   macro avg       1.00      1.00      1.00       100\n",
            "weighted avg       1.00      1.00      1.00       100\n",
            "\n",
            "              precision    recall  f1-score   support\n",
            "\n",
            "           0       1.00      1.00      1.00        50\n",
            "           1       1.00      1.00      1.00        50\n",
            "\n",
            "    accuracy                           1.00       100\n",
            "   macro avg       1.00      1.00      1.00       100\n",
            "weighted avg       1.00      1.00      1.00       100\n",
            "\n",
            "              precision    recall  f1-score   support\n",
            "\n",
            "           0       1.00      1.00      1.00        50\n",
            "           1       1.00      1.00      1.00        50\n",
            "\n",
            "    accuracy                           1.00       100\n",
            "   macro avg       1.00      1.00      1.00       100\n",
            "weighted avg       1.00      1.00      1.00       100\n",
            "\n",
            "              precision    recall  f1-score   support\n",
            "\n",
            "           0       1.00      1.00      1.00        50\n",
            "           1       1.00      1.00      1.00        50\n",
            "\n",
            "    accuracy                           1.00       100\n",
            "   macro avg       1.00      1.00      1.00       100\n",
            "weighted avg       1.00      1.00      1.00       100\n",
            "\n",
            "              precision    recall  f1-score   support\n",
            "\n",
            "           0       1.00      1.00      1.00        50\n",
            "           1       1.00      1.00      1.00        50\n",
            "\n",
            "    accuracy                           1.00       100\n",
            "   macro avg       1.00      1.00      1.00       100\n",
            "weighted avg       1.00      1.00      1.00       100\n",
            "\n",
            "              precision    recall  f1-score   support\n",
            "\n",
            "           0       1.00      1.00      1.00        50\n",
            "           1       1.00      1.00      1.00        50\n",
            "\n",
            "    accuracy                           1.00       100\n",
            "   macro avg       1.00      1.00      1.00       100\n",
            "weighted avg       1.00      1.00      1.00       100\n",
            "\n",
            "              precision    recall  f1-score   support\n",
            "\n",
            "           0       1.00      1.00      1.00        50\n",
            "           1       1.00      1.00      1.00        50\n",
            "\n",
            "    accuracy                           1.00       100\n",
            "   macro avg       1.00      1.00      1.00       100\n",
            "weighted avg       1.00      1.00      1.00       100\n",
            "\n",
            "              precision    recall  f1-score   support\n",
            "\n",
            "           0       1.00      1.00      1.00        50\n",
            "           1       1.00      1.00      1.00        50\n",
            "\n",
            "    accuracy                           1.00       100\n",
            "   macro avg       1.00      1.00      1.00       100\n",
            "weighted avg       1.00      1.00      1.00       100\n",
            "\n",
            "              precision    recall  f1-score   support\n",
            "\n",
            "           0       1.00      1.00      1.00        50\n",
            "           1       1.00      1.00      1.00        50\n",
            "\n",
            "    accuracy                           1.00       100\n",
            "   macro avg       1.00      1.00      1.00       100\n",
            "weighted avg       1.00      1.00      1.00       100\n",
            "\n",
            "              precision    recall  f1-score   support\n",
            "\n",
            "           0       1.00      1.00      1.00        50\n",
            "           1       1.00      1.00      1.00        50\n",
            "\n",
            "    accuracy                           1.00       100\n",
            "   macro avg       1.00      1.00      1.00       100\n",
            "weighted avg       1.00      1.00      1.00       100\n",
            "\n",
            "              precision    recall  f1-score   support\n",
            "\n",
            "           0       1.00      1.00      1.00        50\n",
            "           1       1.00      1.00      1.00        50\n",
            "\n",
            "    accuracy                           1.00       100\n",
            "   macro avg       1.00      1.00      1.00       100\n",
            "weighted avg       1.00      1.00      1.00       100\n",
            "\n",
            "              precision    recall  f1-score   support\n",
            "\n",
            "           0       1.00      1.00      1.00        50\n",
            "           1       1.00      1.00      1.00        50\n",
            "\n",
            "    accuracy                           1.00       100\n",
            "   macro avg       1.00      1.00      1.00       100\n",
            "weighted avg       1.00      1.00      1.00       100\n",
            "\n",
            "              precision    recall  f1-score   support\n",
            "\n",
            "           0       1.00      1.00      1.00        50\n",
            "           1       1.00      1.00      1.00        50\n",
            "\n",
            "    accuracy                           1.00       100\n",
            "   macro avg       1.00      1.00      1.00       100\n",
            "weighted avg       1.00      1.00      1.00       100\n",
            "\n",
            "              precision    recall  f1-score   support\n",
            "\n",
            "           0       1.00      1.00      1.00        50\n",
            "           1       1.00      1.00      1.00        50\n",
            "\n",
            "    accuracy                           1.00       100\n",
            "   macro avg       1.00      1.00      1.00       100\n",
            "weighted avg       1.00      1.00      1.00       100\n",
            "\n",
            "              precision    recall  f1-score   support\n",
            "\n",
            "           0       1.00      1.00      1.00        50\n",
            "           1       1.00      1.00      1.00        50\n",
            "\n",
            "    accuracy                           1.00       100\n",
            "   macro avg       1.00      1.00      1.00       100\n",
            "weighted avg       1.00      1.00      1.00       100\n",
            "\n",
            "              precision    recall  f1-score   support\n",
            "\n",
            "           0       1.00      1.00      1.00        50\n",
            "           1       1.00      1.00      1.00        50\n",
            "\n",
            "    accuracy                           1.00       100\n",
            "   macro avg       1.00      1.00      1.00       100\n",
            "weighted avg       1.00      1.00      1.00       100\n",
            "\n",
            "              precision    recall  f1-score   support\n",
            "\n",
            "           0       1.00      1.00      1.00        50\n",
            "           1       1.00      1.00      1.00        50\n",
            "\n",
            "    accuracy                           1.00       100\n",
            "   macro avg       1.00      1.00      1.00       100\n",
            "weighted avg       1.00      1.00      1.00       100\n",
            "\n",
            "              precision    recall  f1-score   support\n",
            "\n",
            "           0       1.00      1.00      1.00        50\n",
            "           1       1.00      1.00      1.00        50\n",
            "\n",
            "    accuracy                           1.00       100\n",
            "   macro avg       1.00      1.00      1.00       100\n",
            "weighted avg       1.00      1.00      1.00       100\n",
            "\n",
            "              precision    recall  f1-score   support\n",
            "\n",
            "           0       1.00      1.00      1.00        50\n",
            "           1       1.00      1.00      1.00        50\n",
            "\n",
            "    accuracy                           1.00       100\n",
            "   macro avg       1.00      1.00      1.00       100\n",
            "weighted avg       1.00      1.00      1.00       100\n",
            "\n",
            "              precision    recall  f1-score   support\n",
            "\n",
            "           0       1.00      1.00      1.00        50\n",
            "           1       1.00      1.00      1.00        50\n",
            "\n",
            "    accuracy                           1.00       100\n",
            "   macro avg       1.00      1.00      1.00       100\n",
            "weighted avg       1.00      1.00      1.00       100\n",
            "\n",
            "              precision    recall  f1-score   support\n",
            "\n",
            "           0       1.00      1.00      1.00        50\n",
            "           1       1.00      1.00      1.00        50\n",
            "\n",
            "    accuracy                           1.00       100\n",
            "   macro avg       1.00      1.00      1.00       100\n",
            "weighted avg       1.00      1.00      1.00       100\n",
            "\n",
            "              precision    recall  f1-score   support\n",
            "\n",
            "           0       1.00      1.00      1.00        50\n",
            "           1       1.00      1.00      1.00        50\n",
            "\n",
            "    accuracy                           1.00       100\n",
            "   macro avg       1.00      1.00      1.00       100\n",
            "weighted avg       1.00      1.00      1.00       100\n",
            "\n",
            "              precision    recall  f1-score   support\n",
            "\n",
            "           0       1.00      1.00      1.00        50\n",
            "           1       1.00      1.00      1.00        50\n",
            "\n",
            "    accuracy                           1.00       100\n",
            "   macro avg       1.00      1.00      1.00       100\n",
            "weighted avg       1.00      1.00      1.00       100\n",
            "\n",
            "              precision    recall  f1-score   support\n",
            "\n",
            "           0       1.00      1.00      1.00        50\n",
            "           1       1.00      1.00      1.00        50\n",
            "\n",
            "    accuracy                           1.00       100\n",
            "   macro avg       1.00      1.00      1.00       100\n",
            "weighted avg       1.00      1.00      1.00       100\n",
            "\n",
            "              precision    recall  f1-score   support\n",
            "\n",
            "           0       1.00      1.00      1.00        50\n",
            "           1       1.00      1.00      1.00        50\n",
            "\n",
            "    accuracy                           1.00       100\n",
            "   macro avg       1.00      1.00      1.00       100\n",
            "weighted avg       1.00      1.00      1.00       100\n",
            "\n",
            "              precision    recall  f1-score   support\n",
            "\n",
            "           0       1.00      1.00      1.00        50\n",
            "           1       1.00      1.00      1.00        50\n",
            "\n",
            "    accuracy                           1.00       100\n",
            "   macro avg       1.00      1.00      1.00       100\n",
            "weighted avg       1.00      1.00      1.00       100\n",
            "\n",
            "              precision    recall  f1-score   support\n",
            "\n",
            "           0       1.00      1.00      1.00        50\n",
            "           1       1.00      1.00      1.00        50\n",
            "\n",
            "    accuracy                           1.00       100\n",
            "   macro avg       1.00      1.00      1.00       100\n",
            "weighted avg       1.00      1.00      1.00       100\n",
            "\n",
            "              precision    recall  f1-score   support\n",
            "\n",
            "           0       1.00      1.00      1.00        50\n",
            "           1       1.00      1.00      1.00        50\n",
            "\n",
            "    accuracy                           1.00       100\n",
            "   macro avg       1.00      1.00      1.00       100\n",
            "weighted avg       1.00      1.00      1.00       100\n",
            "\n",
            "              precision    recall  f1-score   support\n",
            "\n",
            "           0       1.00      1.00      1.00        50\n",
            "           1       1.00      1.00      1.00        50\n",
            "\n",
            "    accuracy                           1.00       100\n",
            "   macro avg       1.00      1.00      1.00       100\n",
            "weighted avg       1.00      1.00      1.00       100\n",
            "\n",
            "              precision    recall  f1-score   support\n",
            "\n",
            "           0       1.00      1.00      1.00        50\n",
            "           1       1.00      1.00      1.00        50\n",
            "\n",
            "    accuracy                           1.00       100\n",
            "   macro avg       1.00      1.00      1.00       100\n",
            "weighted avg       1.00      1.00      1.00       100\n",
            "\n",
            "              precision    recall  f1-score   support\n",
            "\n",
            "           0       1.00      1.00      1.00        50\n",
            "           1       1.00      1.00      1.00        50\n",
            "\n",
            "    accuracy                           1.00       100\n",
            "   macro avg       1.00      1.00      1.00       100\n",
            "weighted avg       1.00      1.00      1.00       100\n",
            "\n",
            "              precision    recall  f1-score   support\n",
            "\n",
            "           0       1.00      1.00      1.00        50\n",
            "           1       1.00      1.00      1.00        50\n",
            "\n",
            "    accuracy                           1.00       100\n",
            "   macro avg       1.00      1.00      1.00       100\n",
            "weighted avg       1.00      1.00      1.00       100\n",
            "\n",
            "              precision    recall  f1-score   support\n",
            "\n",
            "           0       1.00      1.00      1.00        50\n",
            "           1       1.00      1.00      1.00        50\n",
            "\n",
            "    accuracy                           1.00       100\n",
            "   macro avg       1.00      1.00      1.00       100\n",
            "weighted avg       1.00      1.00      1.00       100\n",
            "\n",
            "              precision    recall  f1-score   support\n",
            "\n",
            "           0       1.00      1.00      1.00        50\n",
            "           1       1.00      1.00      1.00        50\n",
            "\n",
            "    accuracy                           1.00       100\n",
            "   macro avg       1.00      1.00      1.00       100\n",
            "weighted avg       1.00      1.00      1.00       100\n",
            "\n",
            "              precision    recall  f1-score   support\n",
            "\n",
            "           0       1.00      1.00      1.00        50\n",
            "           1       1.00      1.00      1.00        50\n",
            "\n",
            "    accuracy                           1.00       100\n",
            "   macro avg       1.00      1.00      1.00       100\n",
            "weighted avg       1.00      1.00      1.00       100\n",
            "\n",
            "              precision    recall  f1-score   support\n",
            "\n",
            "           0       1.00      1.00      1.00        50\n",
            "           1       1.00      1.00      1.00        50\n",
            "\n",
            "    accuracy                           1.00       100\n",
            "   macro avg       1.00      1.00      1.00       100\n",
            "weighted avg       1.00      1.00      1.00       100\n",
            "\n",
            "              precision    recall  f1-score   support\n",
            "\n",
            "           0       1.00      1.00      1.00        50\n",
            "           1       1.00      1.00      1.00        50\n",
            "\n",
            "    accuracy                           1.00       100\n",
            "   macro avg       1.00      1.00      1.00       100\n",
            "weighted avg       1.00      1.00      1.00       100\n",
            "\n",
            "              precision    recall  f1-score   support\n",
            "\n",
            "           0       1.00      1.00      1.00        50\n",
            "           1       1.00      1.00      1.00        50\n",
            "\n",
            "    accuracy                           1.00       100\n",
            "   macro avg       1.00      1.00      1.00       100\n",
            "weighted avg       1.00      1.00      1.00       100\n",
            "\n",
            "              precision    recall  f1-score   support\n",
            "\n",
            "           0       1.00      1.00      1.00        50\n",
            "           1       1.00      1.00      1.00        50\n",
            "\n",
            "    accuracy                           1.00       100\n",
            "   macro avg       1.00      1.00      1.00       100\n",
            "weighted avg       1.00      1.00      1.00       100\n",
            "\n",
            "              precision    recall  f1-score   support\n",
            "\n",
            "           0       1.00      1.00      1.00        50\n",
            "           1       1.00      1.00      1.00        50\n",
            "\n",
            "    accuracy                           1.00       100\n",
            "   macro avg       1.00      1.00      1.00       100\n",
            "weighted avg       1.00      1.00      1.00       100\n",
            "\n",
            "              precision    recall  f1-score   support\n",
            "\n",
            "           0       1.00      1.00      1.00        50\n",
            "           1       1.00      1.00      1.00        50\n",
            "\n",
            "    accuracy                           1.00       100\n",
            "   macro avg       1.00      1.00      1.00       100\n",
            "weighted avg       1.00      1.00      1.00       100\n",
            "\n",
            "              precision    recall  f1-score   support\n",
            "\n",
            "           0       1.00      1.00      1.00        50\n",
            "           1       1.00      1.00      1.00        50\n",
            "\n",
            "    accuracy                           1.00       100\n",
            "   macro avg       1.00      1.00      1.00       100\n",
            "weighted avg       1.00      1.00      1.00       100\n",
            "\n",
            "              precision    recall  f1-score   support\n",
            "\n",
            "           0       1.00      1.00      1.00        50\n",
            "           1       1.00      1.00      1.00        50\n",
            "\n",
            "    accuracy                           1.00       100\n",
            "   macro avg       1.00      1.00      1.00       100\n",
            "weighted avg       1.00      1.00      1.00       100\n",
            "\n",
            "              precision    recall  f1-score   support\n",
            "\n",
            "           0       1.00      1.00      1.00        50\n",
            "           1       1.00      1.00      1.00        50\n",
            "\n",
            "    accuracy                           1.00       100\n",
            "   macro avg       1.00      1.00      1.00       100\n",
            "weighted avg       1.00      1.00      1.00       100\n",
            "\n",
            "              precision    recall  f1-score   support\n",
            "\n",
            "           0       1.00      1.00      1.00        50\n",
            "           1       1.00      1.00      1.00        50\n",
            "\n",
            "    accuracy                           1.00       100\n",
            "   macro avg       1.00      1.00      1.00       100\n",
            "weighted avg       1.00      1.00      1.00       100\n",
            "\n",
            "              precision    recall  f1-score   support\n",
            "\n",
            "           0       1.00      1.00      1.00        50\n",
            "           1       1.00      1.00      1.00        50\n",
            "\n",
            "    accuracy                           1.00       100\n",
            "   macro avg       1.00      1.00      1.00       100\n",
            "weighted avg       1.00      1.00      1.00       100\n",
            "\n",
            "              precision    recall  f1-score   support\n",
            "\n",
            "           0       1.00      1.00      1.00        50\n",
            "           1       1.00      1.00      1.00        50\n",
            "\n",
            "    accuracy                           1.00       100\n",
            "   macro avg       1.00      1.00      1.00       100\n",
            "weighted avg       1.00      1.00      1.00       100\n",
            "\n",
            "              precision    recall  f1-score   support\n",
            "\n",
            "           0       1.00      1.00      1.00        50\n",
            "           1       1.00      1.00      1.00        50\n",
            "\n",
            "    accuracy                           1.00       100\n",
            "   macro avg       1.00      1.00      1.00       100\n",
            "weighted avg       1.00      1.00      1.00       100\n",
            "\n",
            "              precision    recall  f1-score   support\n",
            "\n",
            "           0       1.00      1.00      1.00        50\n",
            "           1       1.00      1.00      1.00        50\n",
            "\n",
            "    accuracy                           1.00       100\n",
            "   macro avg       1.00      1.00      1.00       100\n",
            "weighted avg       1.00      1.00      1.00       100\n",
            "\n",
            "              precision    recall  f1-score   support\n",
            "\n",
            "           0       1.00      1.00      1.00        50\n",
            "           1       1.00      1.00      1.00        50\n",
            "\n",
            "    accuracy                           1.00       100\n",
            "   macro avg       1.00      1.00      1.00       100\n",
            "weighted avg       1.00      1.00      1.00       100\n",
            "\n",
            "              precision    recall  f1-score   support\n",
            "\n",
            "           0       1.00      1.00      1.00        50\n",
            "           1       1.00      1.00      1.00        50\n",
            "\n",
            "    accuracy                           1.00       100\n",
            "   macro avg       1.00      1.00      1.00       100\n",
            "weighted avg       1.00      1.00      1.00       100\n",
            "\n",
            "              precision    recall  f1-score   support\n",
            "\n",
            "           0       1.00      1.00      1.00        50\n",
            "           1       1.00      1.00      1.00        50\n",
            "\n",
            "    accuracy                           1.00       100\n",
            "   macro avg       1.00      1.00      1.00       100\n",
            "weighted avg       1.00      1.00      1.00       100\n",
            "\n",
            "              precision    recall  f1-score   support\n",
            "\n",
            "           0       1.00      1.00      1.00        50\n",
            "           1       1.00      1.00      1.00        50\n",
            "\n",
            "    accuracy                           1.00       100\n",
            "   macro avg       1.00      1.00      1.00       100\n",
            "weighted avg       1.00      1.00      1.00       100\n",
            "\n",
            "              precision    recall  f1-score   support\n",
            "\n",
            "           0       1.00      1.00      1.00        50\n",
            "           1       1.00      1.00      1.00        50\n",
            "\n",
            "    accuracy                           1.00       100\n",
            "   macro avg       1.00      1.00      1.00       100\n",
            "weighted avg       1.00      1.00      1.00       100\n",
            "\n",
            "              precision    recall  f1-score   support\n",
            "\n",
            "           0       1.00      1.00      1.00        50\n",
            "           1       1.00      1.00      1.00        50\n",
            "\n",
            "    accuracy                           1.00       100\n",
            "   macro avg       1.00      1.00      1.00       100\n",
            "weighted avg       1.00      1.00      1.00       100\n",
            "\n",
            "              precision    recall  f1-score   support\n",
            "\n",
            "           0       1.00      1.00      1.00        50\n",
            "           1       1.00      1.00      1.00        50\n",
            "\n",
            "    accuracy                           1.00       100\n",
            "   macro avg       1.00      1.00      1.00       100\n",
            "weighted avg       1.00      1.00      1.00       100\n",
            "\n"
          ],
          "name": "stdout"
        },
        {
          "output_type": "display_data",
          "data": {
            "image/png": "[encoded data removed]",
            "text/plain": [
              "<Figure size 432x288 with 2 Axes>"
            ]
          },
          "metadata": {
            "tags": []
          }
        }
      ]
    },
    {
      "cell_type": "code",
      "metadata": {
        "id": "LKgO6n74JaCg",
        "colab_type": "code",
        "outputId": "28928b2d-0dd4-4f8f-ed8a-14e658487fe9",
        "cellView": "both",
        "colab": {
          "base_uri": "https://localhost:8080/",
          "height": 282
        }
      },
      "source": [
        "#@title Seeing the learned surface projected on the feature space\n",
        "print(weights)\n",
        "x = np.linspace(min((red[:,0].min(),blue[:,0].min())),max(red[:,0].max(),blue[:,0].max()), num = 100)\n",
        "y = -(x*weights[0] + weights[2])/weights[1]\n",
        "plt.plot(x, y)\n",
        "plt.plot(red[:, 0], red[:, 1], 'r.')\n",
        "plt.plot(blue[:, 0], blue[:, 1], 'b.')\n",
        "plt.show()"
      ],
      "execution_count": 0,
      "outputs": [
        {
          "output_type": "stream",
          "text": [
            "[-0.24306467  4.7910317   1.01550893]\n"
          ],
          "name": "stdout"
        },
        {
          "output_type": "display_data",
          "data": {
            "image/png": "[encoded data removed]",
            "text/plain": [
              "<Figure size 432x288 with 1 Axes>"
            ]
          },
          "metadata": {
            "tags": []
          }
        }
      ]
    },
    {
      "cell_type": "code",
      "metadata": {
        "id": "DA7XXYSkxbrF",
        "colab_type": "code",
        "outputId": "477d5df6-1432-407a-873b-7ec8a4d04f87",
        "colab": {
          "base_uri": "https://localhost:8080/",
          "height": 279
        },
        "cellView": "both"
      },
      "source": [
        "#@title Let's instantiate a Perceptron object from sklearn framework and compare it against ours\n",
        "from sklearn.linear_model import Perceptron\n",
        "from sklearn.metrics import plot_roc_curve\n",
        "neuron = Perceptron()\n",
        "neuron.fit(samples[0], samples[1])\n",
        "disp = plot_roc_curve(neuron, samples[0], samples[1])\n",
        "plt.show()"
      ],
      "execution_count": 0,
      "outputs": [
        {
          "output_type": "display_data",
          "data": {
            "image/png": "[encoded data removed]",
            "text/plain": [
              "<Figure size 432x288 with 1 Axes>"
            ]
          },
          "metadata": {
            "tags": []
          }
        }
      ]
    },
    {
      "cell_type": "code",
      "metadata": {
        "id": "7bPG3LHm34QW",
        "colab_type": "code",
        "outputId": "f7ee24ec-2cd7-46e8-8cfb-6017b3b8bcd1",
        "colab": {
          "base_uri": "https://localhost:8080/",
          "height": 265
        }
      },
      "source": [
        "x = np.linspace(min((red[:,0].min(),blue[:,0].min())),max(red[:,0].max(),blue[:,0].max()), num = 100)\n",
        "y = -(x*neuron.coef_[0][0] + 0)/neuron.coef_[0][1]\n",
        "plt.plot(x, y)\n",
        "plt.plot(red[:, 0], red[:, 1], 'r.')\n",
        "plt.plot(blue[:, 0], blue[:, 1], 'b.')\n",
        "plt.show()"
      ],
      "execution_count": 0,
      "outputs": [
        {
          "output_type": "display_data",
          "data": {
            "image/png": "[encoded data removed]",
            "text/plain": [
              "<Figure size 432x288 with 1 Axes>"
            ]
          },
          "metadata": {
            "tags": []
          }
        }
      ]
    },
    {
      "cell_type": "markdown",
      "metadata": {
        "id": "s_zvypR5rwNm",
        "colab_type": "text"
      },
      "source": [
        "# Going Further in Deep Learning"
      ]
    },
    {
      "cell_type": "markdown",
      "metadata": {
        "id": "YIIRMBEYPKjR",
        "colab_type": "text"
      },
      "source": [
        "\n",
        "These initial cells were an introduction to what deep learning can really be. We saw how to fit the perceptron as a regressor and as a classifier, but in a special case where the data follow a good patterned behavior - we fitted a linear function with some noise added and classified a linearly separable dataset. Often, in real problems, we face multidimensional data, thereby the difficulty in finding patterns is enhanced and the spatial distribution of the data turns unseeable and noisy. We will see in the next colab notebook (MLP) by adding hierarchical layers of neurons, the model will learn how to map the initial representation of the data into another, allowing multiclass learning and improving the model's accuracy.\n",
        "In the following cells, we will keep the idea of training a single perceptron to classify two classes, but we will see how it performs in a real image dataset called CIFAR10."
      ]
    },
    {
      "cell_type": "markdown",
      "metadata": {
        "id": "plTUvvXmU1uj",
        "colab_type": "text"
      },
      "source": [
        "#**CIFAR 10**\n",
        "is a dataset composed of 50000 image samples of 10 stratified classes for the training set and 100000 image samples of 10 stratified classes for the testing set. We can see bellow how this dataset looks like.\n",
        "![cifar 10](https://cdn-images-1.medium.com/max/700/1*83CuvBlu2iosnewOQSeiPg.jpeg)\n",
        "<br>\n",
        "We will group 6 classes into one and 4 into another, thereby we can fit a perceptron to learn a binary classification over the dataset."
      ]
    },
    {
      "cell_type": "code",
      "metadata": {
        "id": "zFIsXP2Z7GI5",
        "colab_type": "code",
        "outputId": "c82cf750-c50c-47fb-a5c5-d3b606dc4dfe",
        "colab": {
          "base_uri": "https://localhost:8080/",
          "height": 34
        }
      },
      "source": [
        "%matplotlib inline\n",
        "\n",
        "import torch #@markdown Torch is a deeplearning framework mainly developed by Facebook AI Researchers\n",
        "import torchvision #@markdown torchvision is a collection of datasets and models we can use as much to evaluate our knowledge in Deep Learning as to avail it in our projects\n",
        "import numpy as np\n",
        "\n",
        "np.seterr(all='raise')"
      ],
      "execution_count": 0,
      "outputs": [
        {
          "output_type": "execute_result",
          "data": {
            "text/plain": [
              "{'divide': 'warn', 'invalid': 'warn', 'over': 'warn', 'under': 'ignore'}"
            ]
          },
          "metadata": {
            "tags": []
          },
          "execution_count": 20
        }
      ]
    },
    {
      "cell_type": "code",
      "metadata": {
        "id": "uGIWEwFz7GI8",
        "colab_type": "code",
        "outputId": "cf4ecfad-a698-436e-8385-bc1b275687db",
        "colab": {
          "base_uri": "https://localhost:8080/",
          "height": 100,
          "referenced_widgets": [
            "995aff2d61724daabcec4512d07f4156",
            "271d41a4223748b6a049d46c8b3054f6",
            "8751eb6ccb914e769970efcc88eff2f6",
            "db507611247146478a3abb8de816ae79",
            "c23f193bd0394d1395e93429e445e501",
            "8bf813c97fa94533beba524ba4dcfd04",
            "c263d0f86d4748e0add137de1b742207",
            "3480f66d237a46d4ab6e5d746d1a0b43"
          ]
        }
      },
      "source": [
        "# Carregar os datasets\n",
        "\n",
        "dataset_train = torchvision.datasets.CIFAR10(root='./data', train=True,\n",
        "                                        download=True)\n",
        "\n",
        "dataset_test = torchvision.datasets.CIFAR10(root='./data', train=False,\n",
        "                                        download=True)"
      ],
      "execution_count": 0,
      "outputs": [
        {
          "output_type": "stream",
          "text": [
            "Downloading https://www.cs.toronto.edu/~kriz/cifar-10-python.tar.gz to ./data/cifar-10-python.tar.gz\n"
          ],
          "name": "stdout"
        },
        {
          "output_type": "display_data",
          "data": {
            "application/vnd.jupyter.widget-view+json": {
              "model_id": "995aff2d61724daabcec4512d07f4156",
              "version_minor": 0,
              "version_major": 2
            },
            "text/plain": [
              "HBox(children=(IntProgress(value=1, bar_style='info', max=1), HTML(value='')))"
            ]
          },
          "metadata": {
            "tags": []
          }
        },
        {
          "output_type": "stream",
          "text": [
            "Extracting ./data/cifar-10-python.tar.gz to ./data\n",
            "Files already downloaded and verified\n"
          ],
          "name": "stdout"
        }
      ]
    },
    {
      "cell_type": "code",
      "metadata": {
        "id": "LHa_me4G7GI_",
        "colab_type": "code",
        "colab": {}
      },
      "source": [
        "classes = ('plane', 'car', 'bird', 'cat',\n",
        "           'deer', 'dog', 'frog', 'horse', 'ship', 'truck')"
      ],
      "execution_count": 0,
      "outputs": []
    },
    {
      "cell_type": "code",
      "metadata": {
        "id": "0IcCvfSx7GJC",
        "colab_type": "code",
        "outputId": "50b42889-f4d6-481d-efb6-e72ab20dd366",
        "colab": {
          "base_uri": "https://localhost:8080/",
          "height": 34
        }
      },
      "source": [
        "print(len(dataset_train), len(dataset_test))"
      ],
      "execution_count": 0,
      "outputs": [
        {
          "output_type": "stream",
          "text": [
            "50000 10000\n"
          ],
          "name": "stdout"
        }
      ]
    },
    {
      "cell_type": "code",
      "metadata": {
        "id": "SnBy2HoR7GJF",
        "colab_type": "code",
        "colab": {}
      },
      "source": [
        "# greyscale transformation\n",
        "\n",
        "# Train\n",
        "grayscale_dataset_train = []\n",
        "for img,label in dataset_train:\n",
        "    category = classes[label]\n",
        "    gray_npimg = np.array(img.convert('L'))\n",
        "    grayscale_dataset_train.append((gray_npimg,category))\n",
        "    \n",
        "# Test\n",
        "grayscale_dataset_test = []\n",
        "for img,label in dataset_test:\n",
        "    category = classes[label]\n",
        "    gray_npimg = np.array(img.convert('L'))\n",
        "    grayscale_dataset_test.append((gray_npimg,category))    "
      ],
      "execution_count": 0,
      "outputs": []
    },
    {
      "cell_type": "code",
      "metadata": {
        "id": "6wdROBiU7tBb",
        "colab_type": "code",
        "colab": {}
      },
      "source": [
        ""
      ],
      "execution_count": 0,
      "outputs": []
    },
    {
      "cell_type": "code",
      "metadata": {
        "id": "iyQxp1X47GJI",
        "colab_type": "code",
        "outputId": "03f4ad3a-81a4-4234-ed88-44ce877b40b5",
        "cellView": "form",
        "colab": {
          "base_uri": "https://localhost:8080/",
          "height": 281
        }
      },
      "source": [
        "#@title Selecting an image\n",
        "\n",
        "# Mostrar uma imagem\n",
        "\n",
        "import matplotlib.pyplot as plt\n",
        "import numpy as np\n",
        "\n",
        "image_index = 4024 #@param {type:\"slider\", min:0, max:10000, step:1}\n",
        "label = grayscale_dataset_train[image_index][1]\n",
        "npimg = grayscale_dataset_train[image_index][0]\n",
        "\n",
        "plt.imshow(npimg, cmap='gray')\n",
        "plt.title(label)\n",
        "plt.show()"
      ],
      "execution_count": 0,
      "outputs": [
        {
          "output_type": "display_data",
          "data": {
            "image/png": "[encoded data removed]",
            "text/plain": [
              "<Figure size 432x288 with 1 Axes>"
            ]
          },
          "metadata": {
            "tags": []
          }
        }
      ]
    },
    {
      "cell_type": "code",
      "metadata": {
        "id": "szYVtG4r7GJM",
        "colab_type": "code",
        "colab": {}
      },
      "source": [
        "# rectifing the image\n",
        "\n",
        "# the division by 255 is a normalization\n",
        "\n",
        "linear_dataset_train = []\n",
        "target_labels = ('plane', 'car', 'ship', 'truck')\n",
        "for img,category in grayscale_dataset_train:\n",
        "    linear_img = img.reshape(img.shape[0]*img.shape[1],1) / 255\n",
        "    if category in target_labels:\n",
        "        label = 1\n",
        "    else:\n",
        "        label = 0\n",
        "    linear_dataset_train.append((linear_img,label))\n",
        "    \n",
        "linear_dataset_test = []\n",
        "target_labels = ('plane', 'car', 'ship', 'truck')\n",
        "for img,category in grayscale_dataset_test:\n",
        "    linear_img = img.reshape(img.shape[0]*img.shape[1],1) / 255\n",
        "    if category in target_labels:\n",
        "        label = 1\n",
        "    else:\n",
        "        label = 0\n",
        "    linear_dataset_test.append((linear_img,label))    "
      ],
      "execution_count": 0,
      "outputs": []
    },
    {
      "cell_type": "code",
      "metadata": {
        "id": "AijKn_ao7GJP",
        "colab_type": "code",
        "outputId": "6035ca80-8c6d-4fc7-bb65-303f549bbfb1",
        "colab": {
          "base_uri": "https://localhost:8080/",
          "height": 34
        }
      },
      "source": [
        "size = len(linear_dataset_train[0][0])\n",
        "print(size)"
      ],
      "execution_count": 0,
      "outputs": [
        {
          "output_type": "stream",
          "text": [
            "1024\n"
          ],
          "name": "stdout"
        }
      ]
    },
    {
      "cell_type": "markdown",
      "metadata": {
        "id": "i0bD2fjVxr9s",
        "colab_type": "text"
      },
      "source": [
        "#Redefing the perceptron"
      ]
    },
    {
      "cell_type": "code",
      "metadata": {
        "id": "HtZsYKKEsgQQ",
        "colab_type": "code",
        "colab": {}
      },
      "source": [
        "def sigmoid(x):\n",
        "    return 1/(1+np.exp(-x))\n",
        "\n",
        "def perceptron(inputs, weights):\n",
        "\n",
        "    inputs_bias = np.append(inputs,1)\n",
        "    output = np.dot(inputs_bias.T, weights)\n",
        "    return sigmoid(output)"
      ],
      "execution_count": 0,
      "outputs": []
    },
    {
      "cell_type": "markdown",
      "metadata": {
        "id": "QBVOs_3U7GJX",
        "colab_type": "text"
      },
      "source": [
        "\n",
        "\n",
        "#Training the perceptron"
      ]
    },
    {
      "cell_type": "code",
      "metadata": {
        "id": "d381jFUFuSoV",
        "colab_type": "code",
        "colab": {}
      },
      "source": [
        "def fit(dataset, weights, epochs, batch_size = 1, neta = 0.00001):\n",
        "  loss_plot = []\n",
        "  acc = []\n",
        "\n",
        "  if batch_size == 'dataset':\n",
        "    batch_size = len(dataset)- 1\n",
        "\n",
        "  update_weights = batch_size\n",
        "\n",
        "  for i, epoch in enumerate(range(epochs)):\n",
        "    \n",
        "    loss_sum = 0\n",
        "    acc_sum = 0\n",
        "    dLoss = 0\n",
        "    batch_counter = 0\n",
        "    for input_value, output_gt in dataset['train']:\n",
        "      \n",
        "      batch_counter += 1\n",
        "\n",
        "      out = perceptron(input_value, weights)\n",
        "      \n",
        "      loss = ((output_gt - out)**2)/(2*len(dataset)) #MSE loss\n",
        "      \n",
        "      loss_sum += loss\n",
        "\n",
        "      dLoss += (output_gt - out)*(-np.append(input_value, 1))\n",
        "\n",
        "      if (out < 0.5 and output_gt > 0.5) or (out > 0.5 and output_gt < 0.5):\n",
        "        pass\n",
        "      else:\n",
        "        acc_sum += 1\n",
        "\n",
        "      if batch_counter == update_weights:\n",
        "       \n",
        "        #if (out < 0.5 and output_gt > 0.5) or (out > 0.5 and output_gt < 0.5):\n",
        "        weights -= neta*(dLoss/batch_counter) # Dwi = -neta*wb*loss_sum\n",
        "     \n",
        "        dLoss = 0\n",
        "        batch_counter = 0\n",
        "\n",
        "    acc.append(acc_sum/len(dataset['train']))\n",
        "  \n",
        "    loss_plot.append(loss_sum)\n",
        "    if (epoch % 100) == 0:\n",
        "     # plt.plot(loss_plot)\n",
        "     # plt.show()\n",
        "      evaluate(weights, dataset['val'])\n",
        "\n",
        "\n",
        "  fig, ax1 = plt.subplots()\n",
        "\n",
        "  ax2 = ax1.twinx()\n",
        "\n",
        "  color = 'tab:blue'\n",
        "  ax2.set_ylabel('accuracy', color=color) \n",
        "  ax2.plot(acc, color=color)\n",
        "\n",
        "  color = 'tab:red'\n",
        "  ax1.set_ylabel('loss', color=color)\n",
        "  ax1.plot(loss_plot, color=color)\n",
        "  fig.tight_layout()\n",
        "  plt.show()"
      ],
      "execution_count": 0,
      "outputs": []
    },
    {
      "cell_type": "code",
      "metadata": {
        "id": "XuvBJnAW7GJY",
        "colab_type": "code",
        "colab": {}
      },
      "source": [
        "from sklearn import metrics as mtr\n",
        "\n",
        "def evaluate(weights,dataset):\n",
        "    i = 0\n",
        "    tp = 0\n",
        "    tn = 0\n",
        "    fp = 0\n",
        "    fn = 0\n",
        "    y_hat = []\n",
        "    for img,label in dataset:\n",
        "        # Defina a métrica de avaliação do perceptron aqui (e.g. acurácia)\n",
        "        y = perceptron(img, weights)\n",
        "        \n",
        "        if y > 0.5:\n",
        "          y_hat.append(1) \n",
        "         \n",
        "        else:\n",
        "          y_hat.append(0)\n",
        "          \n",
        "    \n",
        "    print(mtr.classification_report([y_true for _, y_true in dataset], y_hat ))\n",
        "    return y_hat    \n",
        "    \n",
        "    "
      ],
      "execution_count": 0,
      "outputs": []
    },
    {
      "cell_type": "code",
      "metadata": {
        "id": "HD-JAGkiw5fl",
        "colab_type": "code",
        "cellView": "both",
        "colab": {}
      },
      "source": [
        "from random import shuffle \n",
        "\n",
        "shuffle(linear_dataset_train)\n",
        "shuffle(linear_dataset_test)\n",
        "weights = init(32*32)\n",
        "t1 = time.time()\n",
        "lr = 1e-4 #@param\n",
        "epochs = 1000 #@param\n",
        "size_train = 5000 #@param\n",
        "size_val = 3000#@param\n",
        "batch_size = 100 #@param\n",
        "fit({'train': linear_dataset_train[:size_train], 'val': linear_dataset_test[:size_val]}, weights, epochs, batch_size = batch_size, neta = lr)\n",
        "t2 = time.time()\n",
        "print(\"{} seconds to fit\".format(t2 - t1))"
      ],
      "execution_count": 0,
      "outputs": []
    },
    {
      "cell_type": "code",
      "metadata": {
        "id": "QOFmjLTM7GJi",
        "colab_type": "code",
        "outputId": "3f3aba36-8c67-4733-dca7-d2a6361d317e",
        "colab": {
          "base_uri": "https://localhost:8080/",
          "height": 449
        }
      },
      "source": [
        "# Caso queiram plotar alguma coisa\n",
        "\n",
        "import matplotlib.pyplot as plt\n",
        "yhat = evaluate(weights, linear_dataset_test)\n",
        "#plt.plot(accuracies)\n",
        "cm = mtr.confusion_matrix([x for _, x in linear_dataset_test],yhat,normalize = 'true')\n",
        "mtr.ConfusionMatrixDisplay(cm, np.array((0,1)), ).plot()\n"
      ],
      "execution_count": 0,
      "outputs": [
        {
          "output_type": "stream",
          "text": [
            "              precision    recall  f1-score   support\n",
            "\n",
            "           0       0.70      0.71      0.71      6000\n",
            "           1       0.56      0.54      0.55      4000\n",
            "\n",
            "    accuracy                           0.64     10000\n",
            "   macro avg       0.63      0.63      0.63     10000\n",
            "weighted avg       0.64      0.64      0.64     10000\n",
            "\n"
          ],
          "name": "stdout"
        },
        {
          "output_type": "execute_result",
          "data": {
            "text/plain": [
              "<sklearn.metrics._plot.confusion_matrix.ConfusionMatrixDisplay at 0x7ff58c0f6588>"
            ]
          },
          "metadata": {
            "tags": []
          },
          "execution_count": 32
        },
        {
          "output_type": "display_data",
          "data": {
            "image/png": "[encoded data removed]",
            "text/plain": [
              "<Figure size 432x288 with 2 Axes>"
            ]
          },
          "metadata": {
            "tags": []
          }
        }
      ]
    },
    {
      "cell_type": "markdown",
      "metadata": {
        "id": "TRDUi9Za1XWe",
        "colab_type": "text"
      },
      "source": [
        "# Using the sklearn's built-in percepton "
      ]
    },
    {
      "cell_type": "code",
      "metadata": {
        "id": "CzoVCRT07aDa",
        "colab_type": "code",
        "outputId": "127bc3a8-36ac-497c-c6bc-6dbc4c7bf628",
        "colab": {
          "base_uri": "https://localhost:8080/",
          "height": 119
        }
      },
      "source": [
        "clf_cifar = Perceptron(random_state= 3)\n",
        "\n",
        "X = [X.squeeze(1) for X,_ in linear_dataset_train]\n",
        "print(X[0])\n",
        "y = [y for _, y in linear_dataset_train]\n",
        "print(y[0])\n",
        "\n",
        "clf_cifar.fit(X,y )"
      ],
      "execution_count": 0,
      "outputs": [
        {
          "output_type": "stream",
          "text": [
            "[0.45490196 0.47058824 0.37647059 ... 0.58823529 0.58039216 0.57254902]\n",
            "1\n"
          ],
          "name": "stdout"
        },
        {
          "output_type": "execute_result",
          "data": {
            "text/plain": [
              "Perceptron(alpha=0.0001, class_weight=None, early_stopping=False, eta0=1.0,\n",
              "           fit_intercept=True, max_iter=1000, n_iter_no_change=5, n_jobs=None,\n",
              "           penalty=None, random_state=3, shuffle=True, tol=0.001,\n",
              "           validation_fraction=0.1, verbose=0, warm_start=False)"
            ]
          },
          "metadata": {
            "tags": []
          },
          "execution_count": 36
        }
      ]
    },
    {
      "cell_type": "code",
      "metadata": {
        "id": "jIoPv4Es8gB6",
        "colab_type": "code",
        "outputId": "2979c8ac-8a28-4719-a32d-63b3c0a09ee7",
        "colab": {
          "base_uri": "https://localhost:8080/",
          "height": 296
        }
      },
      "source": [
        "X = [X.squeeze(1) for X,_ in linear_dataset_test]\n",
        "y = [y for _, y in linear_dataset_test]\n",
        "plot_roc_curve(clf_cifar, X, y)\n",
        "plt.plot([0, 1], [0, 1], '--')"
      ],
      "execution_count": 0,
      "outputs": [
        {
          "output_type": "execute_result",
          "data": {
            "text/plain": [
              "[<matplotlib.lines.Line2D at 0x7ff536be7400>]"
            ]
          },
          "metadata": {
            "tags": []
          },
          "execution_count": 37
        },
        {
          "output_type": "display_data",
          "data": {
            "image/png": "[encoded data removed]",
            "text/plain": [
              "<Figure size 432x288 with 1 Axes>"
            ]
          },
          "metadata": {
            "tags": []
          }
        }
      ]
    },
    {
      "cell_type": "code",
      "metadata": {
        "id": "9v1ZaYuGxNoG",
        "colab_type": "code",
        "outputId": "bd59019c-e483-4758-d1bc-2247d02a0173",
        "colab": {
          "base_uri": "https://localhost:8080/",
          "height": 558
        }
      },
      "source": [
        "mtr.plot_confusion_matrix(clf_cifar, X, y, normalize = 'true')\n",
        "mtr.plot_precision_recall_curve(clf_cifar, X, y)"
      ],
      "execution_count": 0,
      "outputs": [
        {
          "output_type": "execute_result",
          "data": {
            "text/plain": [
              "<sklearn.metrics._plot.precision_recall_curve.PrecisionRecallDisplay at 0x7ff536ac5470>"
            ]
          },
          "metadata": {
            "tags": []
          },
          "execution_count": 39
        },
        {
          "output_type": "display_data",
          "data": {
            "image/png": "[encoded data removed]",
            "text/plain": [
              "<Figure size 432x288 with 2 Axes>"
            ]
          },
          "metadata": {
            "tags": []
          }
        },
        {
          "output_type": "display_data",
          "data": {
            "image/png": "[encoded data removed]",
            "text/plain": [
              "<Figure size 432x288 with 1 Axes>"
            ]
          },
          "metadata": {
            "tags": []
          }
        }
      ]
    },
    {
      "cell_type": "markdown",
      "metadata": {
        "id": "eLcNq6UX7GJm",
        "colab_type": "text"
      },
      "source": [
        "# Classifying individual classes \n",
        "\n",
        "code here the needed assess and training process modifications in order to classify each class individualy.\n",
        "\n",
        "- General idea: train a perceptron by class(positive samples = class samples; negative samples = the other classes samples)\n",
        "Put a softmax layer at the top of the 10 neurons, train them realitve to softmax outcome, select the highest probability "
      ]
    },
    {
      "cell_type": "code",
      "metadata": {
        "id": "msanPj8ACGWW",
        "colab_type": "code",
        "outputId": "d394c1e5-65b5-41b2-bba3-29739ec9d7c2",
        "colab": {
          "base_uri": "https://localhost:8080/",
          "height": 204
        }
      },
      "source": [
        "!pip install skorch"
      ],
      "execution_count": 0,
      "outputs": [
        {
          "output_type": "stream",
          "text": [
            "Collecting skorch\n",
            "\u001b[?25l  Downloading https://files.pythonhosted.org/packages/fb/1e/cc4e1f23cd1faab06672f309e0857294aaa80c5f84670f4d3d19b08ab10b/skorch-0.7.0-py3-none-any.whl (105kB)\n",
            "\r\u001b[K     |███                             | 10kB 20.6MB/s eta 0:00:01\r\u001b[K     |██████▏                         | 20kB 3.3MB/s eta 0:00:01\r\u001b[K     |█████████▎                      | 30kB 4.8MB/s eta 0:00:01\r\u001b[K     |████████████▍                   | 40kB 3.1MB/s eta 0:00:01\r\u001b[K     |███████████████▌                | 51kB 3.8MB/s eta 0:00:01\r\u001b[K     |██████████████████▌             | 61kB 4.6MB/s eta 0:00:01\r\u001b[K     |█████████████████████▋          | 71kB 5.3MB/s eta 0:00:01\r\u001b[K     |████████████████████████▊       | 81kB 5.9MB/s eta 0:00:01\r\u001b[K     |███████████████████████████▉    | 92kB 6.6MB/s eta 0:00:01\r\u001b[K     |███████████████████████████████ | 102kB 5.2MB/s eta 0:00:01\r\u001b[K     |████████████████████████████████| 112kB 5.2MB/s \n",
            "\u001b[?25hRequirement already satisfied: scipy>=1.1.0 in /usr/local/lib/python3.6/dist-packages (from skorch) (1.4.1)\n",
            "Requirement already satisfied: scikit-learn>=0.19.1 in /usr/local/lib/python3.6/dist-packages (from skorch) (0.22.1)\n",
            "Requirement already satisfied: tabulate>=0.7.7 in /usr/local/lib/python3.6/dist-packages (from skorch) (0.8.6)\n",
            "Requirement already satisfied: tqdm>=4.14.0 in /usr/local/lib/python3.6/dist-packages (from skorch) (4.28.1)\n",
            "Requirement already satisfied: numpy>=1.13.3 in /usr/local/lib/python3.6/dist-packages (from skorch) (1.17.5)\n",
            "Requirement already satisfied: joblib>=0.11 in /usr/local/lib/python3.6/dist-packages (from scikit-learn>=0.19.1->skorch) (0.14.1)\n",
            "Installing collected packages: skorch\n",
            "Successfully installed skorch-0.7.0\n"
          ],
          "name": "stdout"
        }
      ]
    },
    {
      "cell_type": "markdown",
      "metadata": {
        "id": "csy0cWaNCdNf",
        "colab_type": "text"
      },
      "source": [
        "# A merge of torch and sklearn framework called Skorch\n",
        "\n",
        "If you looking to improve your knowledge in the development of AI models, this library merges the best of the two worlds"
      ]
    },
    {
      "cell_type": "code",
      "metadata": {
        "id": "MoF20_u97GJn",
        "colab_type": "code",
        "outputId": "dc348641-035d-4783-f766-754590d70aec",
        "colab": {
          "base_uri": "https://localhost:8080/",
          "height": 71
        }
      },
      "source": [
        "import skorch\n"
      ],
      "execution_count": 0,
      "outputs": [
        {
          "output_type": "stream",
          "text": [
            "/usr/local/lib/python3.6/dist-packages/sklearn/utils/deprecation.py:144: FutureWarning: The sklearn.metrics.scorer module is  deprecated in version 0.22 and will be removed in version 0.24. The corresponding classes / functions should instead be imported from sklearn.metrics. Anything that cannot be imported from sklearn.metrics is now part of the private API.\n",
            "  warnings.warn(message, FutureWarning)\n"
          ],
          "name": "stderr"
        }
      ]
    }
  ]
}