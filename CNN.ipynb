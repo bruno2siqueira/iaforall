{
  "nbformat": 4,
  "nbformat_minor": 0,
  "metadata": {
    "colab": {
      "name": "CNN.ipynb",
      "provenance": [],
      "collapsed_sections": []
    },
    "kernelspec": {
      "name": "python3",
      "display_name": "Python 3"
    },
    "accelerator": "GPU",
    "widgets": {
      "application/vnd.jupyter.widget-state+json": {
        "8fc46ebd33b54ac49ef70d87fbe4a424": {
          "model_module": "@jupyter-widgets/controls",
          "model_name": "HBoxModel",
          "state": {
            "_view_name": "HBoxView",
            "_dom_classes": [],
            "_model_name": "HBoxModel",
            "_view_module": "@jupyter-widgets/controls",
            "_model_module_version": "1.5.0",
            "_view_count": null,
            "_view_module_version": "1.5.0",
            "box_style": "",
            "layout": "IPY_MODEL_ce921afb39a249dfb35e1c572dc1f59a",
            "_model_module": "@jupyter-widgets/controls",
            "children": [
              "IPY_MODEL_4b3179e1b2be44b481dab4b0e3d123e6",
              "IPY_MODEL_4b4cb4a4654e4320be2385fcefb5fc55"
            ]
          }
        },
        "ce921afb39a249dfb35e1c572dc1f59a": {
          "model_module": "@jupyter-widgets/base",
          "model_name": "LayoutModel",
          "state": {
            "_view_name": "LayoutView",
            "grid_template_rows": null,
            "right": null,
            "justify_content": null,
            "_view_module": "@jupyter-widgets/base",
            "overflow": null,
            "_model_module_version": "1.2.0",
            "_view_count": null,
            "flex_flow": null,
            "width": null,
            "min_width": null,
            "border": null,
            "align_items": null,
            "bottom": null,
            "_model_module": "@jupyter-widgets/base",
            "top": null,
            "grid_column": null,
            "overflow_y": null,
            "overflow_x": null,
            "grid_auto_flow": null,
            "grid_area": null,
            "grid_template_columns": null,
            "flex": null,
            "_model_name": "LayoutModel",
            "justify_items": null,
            "grid_row": null,
            "max_height": null,
            "align_content": null,
            "visibility": null,
            "align_self": null,
            "height": null,
            "min_height": null,
            "padding": null,
            "grid_auto_rows": null,
            "grid_gap": null,
            "max_width": null,
            "order": null,
            "_view_module_version": "1.2.0",
            "grid_template_areas": null,
            "object_position": null,
            "object_fit": null,
            "grid_auto_columns": null,
            "margin": null,
            "display": null,
            "left": null
          }
        },
        "4b3179e1b2be44b481dab4b0e3d123e6": {
          "model_module": "@jupyter-widgets/controls",
          "model_name": "IntProgressModel",
          "state": {
            "_view_name": "ProgressView",
            "style": "IPY_MODEL_a9c07cb43b314135aabb1ac2eb9305c6",
            "_dom_classes": [],
            "description": "",
            "_model_name": "IntProgressModel",
            "bar_style": "info",
            "max": 1,
            "_view_module": "@jupyter-widgets/controls",
            "_model_module_version": "1.5.0",
            "value": 1,
            "_view_count": null,
            "_view_module_version": "1.5.0",
            "orientation": "horizontal",
            "min": 0,
            "description_tooltip": null,
            "_model_module": "@jupyter-widgets/controls",
            "layout": "IPY_MODEL_5f5fcd75e61349ce8624bd91899d16d3"
          }
        },
        "4b4cb4a4654e4320be2385fcefb5fc55": {
          "model_module": "@jupyter-widgets/controls",
          "model_name": "HTMLModel",
          "state": {
            "_view_name": "HTMLView",
            "style": "IPY_MODEL_312f767bfae248fe99218120172881e4",
            "_dom_classes": [],
            "description": "",
            "_model_name": "HTMLModel",
            "placeholder": "​",
            "_view_module": "@jupyter-widgets/controls",
            "_model_module_version": "1.5.0",
            "value": " 170500096/? [00:20&lt;00:00, 33959723.08it/s]",
            "_view_count": null,
            "_view_module_version": "1.5.0",
            "description_tooltip": null,
            "_model_module": "@jupyter-widgets/controls",
            "layout": "IPY_MODEL_24f46d93a42a4adc93a889ed20c2483b"
          }
        },
        "a9c07cb43b314135aabb1ac2eb9305c6": {
          "model_module": "@jupyter-widgets/controls",
          "model_name": "ProgressStyleModel",
          "state": {
            "_view_name": "StyleView",
            "_model_name": "ProgressStyleModel",
            "description_width": "initial",
            "_view_module": "@jupyter-widgets/base",
            "_model_module_version": "1.5.0",
            "_view_count": null,
            "_view_module_version": "1.2.0",
            "bar_color": null,
            "_model_module": "@jupyter-widgets/controls"
          }
        },
        "5f5fcd75e61349ce8624bd91899d16d3": {
          "model_module": "@jupyter-widgets/base",
          "model_name": "LayoutModel",
          "state": {
            "_view_name": "LayoutView",
            "grid_template_rows": null,
            "right": null,
            "justify_content": null,
            "_view_module": "@jupyter-widgets/base",
            "overflow": null,
            "_model_module_version": "1.2.0",
            "_view_count": null,
            "flex_flow": null,
            "width": null,
            "min_width": null,
            "border": null,
            "align_items": null,
            "bottom": null,
            "_model_module": "@jupyter-widgets/base",
            "top": null,
            "grid_column": null,
            "overflow_y": null,
            "overflow_x": null,
            "grid_auto_flow": null,
            "grid_area": null,
            "grid_template_columns": null,
            "flex": null,
            "_model_name": "LayoutModel",
            "justify_items": null,
            "grid_row": null,
            "max_height": null,
            "align_content": null,
            "visibility": null,
            "align_self": null,
            "height": null,
            "min_height": null,
            "padding": null,
            "grid_auto_rows": null,
            "grid_gap": null,
            "max_width": null,
            "order": null,
            "_view_module_version": "1.2.0",
            "grid_template_areas": null,
            "object_position": null,
            "object_fit": null,
            "grid_auto_columns": null,
            "margin": null,
            "display": null,
            "left": null
          }
        },
        "312f767bfae248fe99218120172881e4": {
          "model_module": "@jupyter-widgets/controls",
          "model_name": "DescriptionStyleModel",
          "state": {
            "_view_name": "StyleView",
            "_model_name": "DescriptionStyleModel",
            "description_width": "",
            "_view_module": "@jupyter-widgets/base",
            "_model_module_version": "1.5.0",
            "_view_count": null,
            "_view_module_version": "1.2.0",
            "_model_module": "@jupyter-widgets/controls"
          }
        },
        "24f46d93a42a4adc93a889ed20c2483b": {
          "model_module": "@jupyter-widgets/base",
          "model_name": "LayoutModel",
          "state": {
            "_view_name": "LayoutView",
            "grid_template_rows": null,
            "right": null,
            "justify_content": null,
            "_view_module": "@jupyter-widgets/base",
            "overflow": null,
            "_model_module_version": "1.2.0",
            "_view_count": null,
            "flex_flow": null,
            "width": null,
            "min_width": null,
            "border": null,
            "align_items": null,
            "bottom": null,
            "_model_module": "@jupyter-widgets/base",
            "top": null,
            "grid_column": null,
            "overflow_y": null,
            "overflow_x": null,
            "grid_auto_flow": null,
            "grid_area": null,
            "grid_template_columns": null,
            "flex": null,
            "_model_name": "LayoutModel",
            "justify_items": null,
            "grid_row": null,
            "max_height": null,
            "align_content": null,
            "visibility": null,
            "align_self": null,
            "height": null,
            "min_height": null,
            "padding": null,
            "grid_auto_rows": null,
            "grid_gap": null,
            "max_width": null,
            "order": null,
            "_view_module_version": "1.2.0",
            "grid_template_areas": null,
            "object_position": null,
            "object_fit": null,
            "grid_auto_columns": null,
            "margin": null,
            "display": null,
            "left": null
          }
        },
        "9bfaf68fb7be494a8d7dcf624a960368": {
          "model_module": "@jupyter-widgets/controls",
          "model_name": "HBoxModel",
          "state": {
            "_view_name": "HBoxView",
            "_dom_classes": [],
            "_model_name": "HBoxModel",
            "_view_module": "@jupyter-widgets/controls",
            "_model_module_version": "1.5.0",
            "_view_count": null,
            "_view_module_version": "1.5.0",
            "box_style": "",
            "layout": "IPY_MODEL_3b539d0d330f4fe5972b61ac70c90805",
            "_model_module": "@jupyter-widgets/controls",
            "children": [
              "IPY_MODEL_8171326ad6f64aaf80c38c0ca6d70749",
              "IPY_MODEL_f854d2cb82044a6a8774c2d58733f55d"
            ]
          }
        },
        "3b539d0d330f4fe5972b61ac70c90805": {
          "model_module": "@jupyter-widgets/base",
          "model_name": "LayoutModel",
          "state": {
            "_view_name": "LayoutView",
            "grid_template_rows": null,
            "right": null,
            "justify_content": null,
            "_view_module": "@jupyter-widgets/base",
            "overflow": null,
            "_model_module_version": "1.2.0",
            "_view_count": null,
            "flex_flow": null,
            "width": null,
            "min_width": null,
            "border": null,
            "align_items": null,
            "bottom": null,
            "_model_module": "@jupyter-widgets/base",
            "top": null,
            "grid_column": null,
            "overflow_y": null,
            "overflow_x": null,
            "grid_auto_flow": null,
            "grid_area": null,
            "grid_template_columns": null,
            "flex": null,
            "_model_name": "LayoutModel",
            "justify_items": null,
            "grid_row": null,
            "max_height": null,
            "align_content": null,
            "visibility": null,
            "align_self": null,
            "height": null,
            "min_height": null,
            "padding": null,
            "grid_auto_rows": null,
            "grid_gap": null,
            "max_width": null,
            "order": null,
            "_view_module_version": "1.2.0",
            "grid_template_areas": null,
            "object_position": null,
            "object_fit": null,
            "grid_auto_columns": null,
            "margin": null,
            "display": null,
            "left": null
          }
        },
        "8171326ad6f64aaf80c38c0ca6d70749": {
          "model_module": "@jupyter-widgets/controls",
          "model_name": "IntProgressModel",
          "state": {
            "_view_name": "ProgressView",
            "style": "IPY_MODEL_8fda8a525f3f49c18c363fbd7f687f7e",
            "_dom_classes": [],
            "description": "100%",
            "_model_name": "IntProgressModel",
            "bar_style": "success",
            "max": 46827520,
            "_view_module": "@jupyter-widgets/controls",
            "_model_module_version": "1.5.0",
            "value": 46827520,
            "_view_count": null,
            "_view_module_version": "1.5.0",
            "orientation": "horizontal",
            "min": 0,
            "description_tooltip": null,
            "_model_module": "@jupyter-widgets/controls",
            "layout": "IPY_MODEL_a1061f14aa064bb590053cd31f802a2a"
          }
        },
        "f854d2cb82044a6a8774c2d58733f55d": {
          "model_module": "@jupyter-widgets/controls",
          "model_name": "HTMLModel",
          "state": {
            "_view_name": "HTMLView",
            "style": "IPY_MODEL_99ba0b9a2eaa4eea8f7164f91b52ee9c",
            "_dom_classes": [],
            "description": "",
            "_model_name": "HTMLModel",
            "placeholder": "​",
            "_view_module": "@jupyter-widgets/controls",
            "_model_module_version": "1.5.0",
            "value": " 44.7M/44.7M [00:00&lt;00:00, 107MB/s]",
            "_view_count": null,
            "_view_module_version": "1.5.0",
            "description_tooltip": null,
            "_model_module": "@jupyter-widgets/controls",
            "layout": "IPY_MODEL_1f5ae53f5983432f8dfc88c255f72936"
          }
        },
        "8fda8a525f3f49c18c363fbd7f687f7e": {
          "model_module": "@jupyter-widgets/controls",
          "model_name": "ProgressStyleModel",
          "state": {
            "_view_name": "StyleView",
            "_model_name": "ProgressStyleModel",
            "description_width": "initial",
            "_view_module": "@jupyter-widgets/base",
            "_model_module_version": "1.5.0",
            "_view_count": null,
            "_view_module_version": "1.2.0",
            "bar_color": null,
            "_model_module": "@jupyter-widgets/controls"
          }
        },
        "a1061f14aa064bb590053cd31f802a2a": {
          "model_module": "@jupyter-widgets/base",
          "model_name": "LayoutModel",
          "state": {
            "_view_name": "LayoutView",
            "grid_template_rows": null,
            "right": null,
            "justify_content": null,
            "_view_module": "@jupyter-widgets/base",
            "overflow": null,
            "_model_module_version": "1.2.0",
            "_view_count": null,
            "flex_flow": null,
            "width": null,
            "min_width": null,
            "border": null,
            "align_items": null,
            "bottom": null,
            "_model_module": "@jupyter-widgets/base",
            "top": null,
            "grid_column": null,
            "overflow_y": null,
            "overflow_x": null,
            "grid_auto_flow": null,
            "grid_area": null,
            "grid_template_columns": null,
            "flex": null,
            "_model_name": "LayoutModel",
            "justify_items": null,
            "grid_row": null,
            "max_height": null,
            "align_content": null,
            "visibility": null,
            "align_self": null,
            "height": null,
            "min_height": null,
            "padding": null,
            "grid_auto_rows": null,
            "grid_gap": null,
            "max_width": null,
            "order": null,
            "_view_module_version": "1.2.0",
            "grid_template_areas": null,
            "object_position": null,
            "object_fit": null,
            "grid_auto_columns": null,
            "margin": null,
            "display": null,
            "left": null
          }
        },
        "99ba0b9a2eaa4eea8f7164f91b52ee9c": {
          "model_module": "@jupyter-widgets/controls",
          "model_name": "DescriptionStyleModel",
          "state": {
            "_view_name": "StyleView",
            "_model_name": "DescriptionStyleModel",
            "description_width": "",
            "_view_module": "@jupyter-widgets/base",
            "_model_module_version": "1.5.0",
            "_view_count": null,
            "_view_module_version": "1.2.0",
            "_model_module": "@jupyter-widgets/controls"
          }
        },
        "1f5ae53f5983432f8dfc88c255f72936": {
          "model_module": "@jupyter-widgets/base",
          "model_name": "LayoutModel",
          "state": {
            "_view_name": "LayoutView",
            "grid_template_rows": null,
            "right": null,
            "justify_content": null,
            "_view_module": "@jupyter-widgets/base",
            "overflow": null,
            "_model_module_version": "1.2.0",
            "_view_count": null,
            "flex_flow": null,
            "width": null,
            "min_width": null,
            "border": null,
            "align_items": null,
            "bottom": null,
            "_model_module": "@jupyter-widgets/base",
            "top": null,
            "grid_column": null,
            "overflow_y": null,
            "overflow_x": null,
            "grid_auto_flow": null,
            "grid_area": null,
            "grid_template_columns": null,
            "flex": null,
            "_model_name": "LayoutModel",
            "justify_items": null,
            "grid_row": null,
            "max_height": null,
            "align_content": null,
            "visibility": null,
            "align_self": null,
            "height": null,
            "min_height": null,
            "padding": null,
            "grid_auto_rows": null,
            "grid_gap": null,
            "max_width": null,
            "order": null,
            "_view_module_version": "1.2.0",
            "grid_template_areas": null,
            "object_position": null,
            "object_fit": null,
            "grid_auto_columns": null,
            "margin": null,
            "display": null,
            "left": null
          }
        }
      }
    }
  },
  "cells": [
    {
      "cell_type": "code",
      "metadata": {
        "id": "dA5Y0AFdq0ge",
        "colab_type": "code",
        "colab": {}
      },
      "source": [
        "%matplotlib inline\n",
        "\n",
        "import numpy as np \n",
        "import matplotlib.pyplot as plt\n",
        "import time\n",
        "import copy\n",
        "\n",
        "import torch\n",
        "import torch.nn as nn\n",
        "from torch.utils.data import DataLoader\n",
        "\n",
        "import torchvision\n",
        "from torchvision import models\n",
        "import torchvision.transforms as transforms\n",
        "from torch.utils.data import random_split"
      ],
      "execution_count": 0,
      "outputs": []
    },
    {
      "cell_type": "markdown",
      "metadata": {
        "id": "3q7tl3nxyJ5l",
        "colab_type": "text"
      },
      "source": [
        "# **Convolutional Neural Networks**\n",
        "\n",
        "We've seen until now the perceptron and the Multilayer Perceptron concepts. Both receive the entire entry in their inputs and learn to map it into another representation - often in reduced dimensionality. However, regarding images, Neural Networks used to be much larger in size, thereby enlarging convergence time, requiring dimensional reductional of the input, e. g. PCA, losing information that should be important.\n",
        "CNN comes with three main ideas. **First**, constraining the application domain to image domain and exploring some spatial correlation in the image (in MLP we needed to rectify the image to forward it in the model, so we lost the spatial information). **Second**, embedding knowledge into it: kernel operations in digital image processing are vastly used to feature extraction (see Fig 1). So why shouldn't deep learning models take advantage of them? **Third**, and finally, degrees of freedom reduction, thus reducing the size of the network. It is called weight sharing: the neuron no more receives the entire entry, but it sees a neighborhood of NXN inputs and slips over along the image, sharing its weights with the other inputs.\n",
        "\n",
        "![filtering](https://miro.medium.com/max/2540/1*3hDhkzqJStXTp37lS_M5aA.png)\n",
        "\n",
        "<center>Fig 1. What is image filtering for feature extraction</center>\n",
        "\n",
        "# **Why convolutional?**\n",
        "\n",
        "---\n",
        "\n",
        "convolution in images is the process of applying a known kernel into the prior representation of an image and the result of this operation is a posterior representation of it. We can see below a better explantion if gif format.\n",
        "\n",
        "![conv 1](https://upload.wikimedia.org/wikipedia/commons/4/4f/3D_Convolution_Animation.gif)\n",
        "\n",
        "# **CNN modules**\n",
        "<br>There is some components frequently used in building models: convolutional (as we saw) and pooling (dummy dimensional reduction).\n",
        "Pooling is a dimensional reduction non-learned by the model. Usually, the pooling layer is a max function over the NxN neighborhood, but there are many types of pooling, e. g. average pool, adaptive average pool, etc.\n",
        "\n",
        "![pooling](https://qph.fs.quoracdn.net/main-qimg-cf2833a40f946faf04163bc28517959c)\n"
      ]
    },
    {
      "cell_type": "markdown",
      "metadata": {
        "id": "LbC2cdi1FVba",
        "colab_type": "text"
      },
      "source": [
        "#**The very first CNN architecture applied to digits recognition (LeNet)**"
      ]
    },
    {
      "cell_type": "markdown",
      "metadata": {
        "id": "Ia9wWjKBQkRr",
        "colab_type": "text"
      },
      "source": [
        "![LeNet](https://www.researchgate.net/profile/Yiren_Zhou/publication/312170477/figure/fig1/AS:448817725218816@1484017892071/Structure-of-LeNet-5.png)\n",
        "\n"
      ]
    },
    {
      "cell_type": "code",
      "metadata": {
        "id": "k3x2R5bNq7cl",
        "colab_type": "code",
        "outputId": "fb83052a-4655-45b8-ecc3-30f13ad63d91",
        "colab": {
          "base_uri": "https://localhost:8080/",
          "height": 100,
          "referenced_widgets": [
            "8fc46ebd33b54ac49ef70d87fbe4a424",
            "ce921afb39a249dfb35e1c572dc1f59a",
            "4b3179e1b2be44b481dab4b0e3d123e6",
            "4b4cb4a4654e4320be2385fcefb5fc55",
            "a9c07cb43b314135aabb1ac2eb9305c6",
            "5f5fcd75e61349ce8624bd91899d16d3",
            "312f767bfae248fe99218120172881e4",
            "24f46d93a42a4adc93a889ed20c2483b"
          ]
        }
      },
      "source": [
        "#@title Loading the dataset the same way as before, but now using Normalization\n",
        "transform=transforms.Compose([\n",
        "    transforms.ToTensor(),\n",
        "    transforms.Normalize([0.485, 0.456, 0.406], [0.229, 0.224, 0.225])\n",
        "    \n",
        "])\n",
        "\n",
        "dataset_train = torchvision.datasets.CIFAR10(root='./data', train=True,\n",
        "                                        download=True, transform=transform)\n",
        "\n",
        "dataset_test = torchvision.datasets.CIFAR10(root='./data', train=False,\n",
        "                                        download=True, transform=transform)\n",
        "\n",
        "test, val = random_split(dataset_test, lengths = (5000,5000))"
      ],
      "execution_count": 0,
      "outputs": [
        {
          "output_type": "stream",
          "text": [
            "Downloading https://www.cs.toronto.edu/~kriz/cifar-10-python.tar.gz to ./data/cifar-10-python.tar.gz\n"
          ],
          "name": "stdout"
        },
        {
          "output_type": "display_data",
          "data": {
            "application/vnd.jupyter.widget-view+json": {
              "model_id": "8fc46ebd33b54ac49ef70d87fbe4a424",
              "version_minor": 0,
              "version_major": 2
            },
            "text/plain": [
              "HBox(children=(IntProgress(value=1, bar_style='info', max=1), HTML(value='')))"
            ]
          },
          "metadata": {
            "tags": []
          }
        },
        {
          "output_type": "stream",
          "text": [
            "Extracting ./data/cifar-10-python.tar.gz to ./data\n",
            "Files already downloaded and verified\n"
          ],
          "name": "stdout"
        }
      ]
    },
    {
      "cell_type": "code",
      "metadata": {
        "id": "3cyG-TXTq-Km",
        "colab_type": "code",
        "colab": {}
      },
      "source": [
        "classes = ('plane', 'car', 'bird', 'cat',\n",
        "           'deer', 'dog', 'frog', 'horse', 'ship', 'truck')\n",
        "train_loader = DataLoader(dataset=dataset_train, shuffle=True)\n",
        "test_loader = DataLoader(dataset=test, shuffle=False)\n",
        "val_loader = DataLoader(dataset=val, shuffle=False)\n",
        "\n",
        "dataloaders = {'train': train_loader, 'val':val_loader, 'test' : test_loader }\n",
        "\n",
        "dataset_sizes = {'train' : len(train_loader.dataset), 'test' : len(test_loader.dataset), 'val': len(val_loader.dataset)}\n",
        "\n",
        "device =  torch.device(\"cuda:0\" if torch.cuda.is_available() else \"cpu\")\n",
        "\n",
        "\n"
      ],
      "execution_count": 0,
      "outputs": []
    },
    {
      "cell_type": "code",
      "metadata": {
        "id": "mcaoDvPb7YQr",
        "colab_type": "code",
        "colab": {}
      },
      "source": [
        "class CNN(nn.Module):\n",
        "  def __init__(self):\n",
        "    super(CNN,self).__init__()\n",
        "    \n",
        "    #input_channel, output_channel, feature_dimension(kernel_size), stride, padding\n",
        "    self.feats = nn.Sequential(\n",
        "        \n",
        "        nn.Conv2d(3, 20, kernel_size = 3, stride = 1, bias =False), #30x30x20\n",
        "        nn.MaxPool2d(kernel_size = 3, stride = 2, padding = 1),#15x15x20\n",
        "        nn.ReLU(True),\n",
        "        nn.BatchNorm2d(20),\n",
        "        \n",
        "        \n",
        "        nn.Conv2d(20, 256, kernel_size = 3, stride = 1, padding = 1, bias=False), #15x15x256\n",
        "        nn.MaxPool2d(kernel_size = 3, stride = 2),#7x7x256\n",
        "        nn.ReLU(True),\n",
        "        nn.BatchNorm2d(256),\n",
        "        \n",
        "      \n",
        "        nn.MaxPool2d(kernel_size = 3, stride = 2 )#3x3x256\n",
        "    )\n",
        "    self.fc = nn.Sequential(\n",
        "        nn.Dropout(0.4),\n",
        "        nn.Linear(3*3*256,768),\n",
        "        nn.ReLU(True),\n",
        "        nn.Dropout(0.5),\n",
        "        nn.Linear(768, 10),\n",
        "        nn.LogSoftmax(1)\n",
        "    )\n",
        "  def forward(self,x):\n",
        "    x = self.feats(x) # CNN\n",
        "    x = x.view(-1,3*3*256) # Lineariza \n",
        "    x = self.fc(x) #Classifica\n",
        "    return x"
      ],
      "execution_count": 0,
      "outputs": []
    },
    {
      "cell_type": "code",
      "metadata": {
        "id": "mZ0Ce_OVrA1_",
        "colab_type": "code",
        "colab": {}
      },
      "source": [
        "def train_model(model, criterion, optimizer, scheduler, num_epochs=25):\n",
        "  since = time.time()\n",
        "\n",
        "  best_model_wts = copy.deepcopy(model.state_dict())\n",
        "  best_acc = 0.0\n",
        "\n",
        "  for epoch in range(num_epochs):\n",
        "      print('Epoch {}/{}'.format(epoch, num_epochs - 1))\n",
        "      print('-' * 10)\n",
        "\n",
        "      # Each epoch has a training and validation phase\n",
        "      for phase in ['train', 'val']:\n",
        "          if phase == 'train':\n",
        "              model.train()  # Set model to training mode\n",
        "          else:\n",
        "              model.eval()   # Set model to evaluate mode\n",
        "\n",
        "          running_loss = 0.0\n",
        "          running_corrects = 0\n",
        "\n",
        "          # Iterate over data.\n",
        "          for inputs, labels in dataloaders[phase]:\n",
        "              inputs = inputs.to(device)\n",
        "              labels = labels.to(device)\n",
        "\n",
        "              # zero the parameter gradients\n",
        "              optimizer.zero_grad()\n",
        "\n",
        "              # forward\n",
        "              # track history if only in train\n",
        "              with torch.set_grad_enabled(phase == 'train'):\n",
        "                  outputs = model(inputs)\n",
        "                  _, preds = torch.max(outputs, 1)\n",
        "                  loss = criterion(outputs, labels)\n",
        "\n",
        "                  # backward + optimize only if in training phase\n",
        "                  if phase == 'train':\n",
        "                      loss.backward()\n",
        "                      optimizer.step()\n",
        "\n",
        "              # statistics\n",
        "              running_loss += loss.item() * inputs.size(0)\n",
        "              running_corrects += torch.sum(preds == labels.data)\n",
        "          if phase == 'train':\n",
        "              scheduler.step()\n",
        "\n",
        "          epoch_loss = running_loss / dataset_sizes[phase]\n",
        "          epoch_acc = running_corrects.double() / dataset_sizes[phase]\n",
        "\n",
        "          print('{} Loss: {:.4f} Acc: {:.4f}'.format(\n",
        "              phase, epoch_loss, epoch_acc))\n",
        "\n",
        "          # deep copy the model\n",
        "          if phase == 'val' and epoch_acc > best_acc:\n",
        "              best_acc = epoch_acc\n",
        "              best_model_wts = copy.deepcopy(model.state_dict())\n",
        "\n",
        "      print()\n",
        "\n",
        "  time_elapsed = time.time() - since\n",
        "  print('Training complete in {:.0f}m {:.0f}s'.format(\n",
        "      time_elapsed // 60, time_elapsed % 60))\n",
        "  print('Best val Acc: {:4f}'.format(best_acc))\n",
        "\n",
        "  # load best model weights\n",
        "  model.load_state_dict(best_model_wts)\n",
        "  return model"
      ],
      "execution_count": 0,
      "outputs": []
    },
    {
      "cell_type": "code",
      "metadata": {
        "id": "DhXPxYDUur-k",
        "colab_type": "code",
        "colab": {}
      },
      "source": [
        "from sklearn import metrics as mtr\n",
        "#import pandas_ml\n",
        "\n",
        "def evaluate(model, data_loader):\n",
        "  acc = 0.0\n",
        "  model.eval()\n",
        "  y_hat = []\n",
        "  y_true = []\n",
        "  with torch.no_grad():\n",
        "    for i, (inputs, labels) in enumerate(data_loader):\n",
        "        inputs = inputs.to(device)\n",
        "        labels = labels.to(device)\n",
        "\n",
        "        outputs = model(inputs)\n",
        "        _, preds = torch.max(outputs, 1)\n",
        "        y_hat.append(preds)\n",
        "        acc += torch.sum(preds == labels.data)\n",
        "\n",
        "  \n",
        "  print('Acc test_set: {:.4f}'.format(acc.double()/len(data_loader.dataset)))\n",
        "  Y_true = [y_true for inputs, labels in iter(data_loader) for y_true in labels.cpu().numpy()]\n",
        "  print(Y_true)\n",
        "  Y_hat =  [label for joint in y_hat for label in joint.cpu().numpy()]\n",
        "  print(mtr.classification_report(Y_true, Y_hat))\n",
        "  plt.rcParams[\"figure.figsize\"] = (10,10)\n",
        "  mtr.ConfusionMatrixDisplay(mtr.confusion_matrix(Y_true, Y_hat), display_labels= classes).plot()\n",
        "  plt.show()\n",
        "\n"
      ],
      "execution_count": 0,
      "outputs": []
    },
    {
      "cell_type": "code",
      "metadata": {
        "id": "VeniPKH8bYuH",
        "colab_type": "code",
        "cellView": "both",
        "colab": {}
      },
      "source": [
        "model_ft = CNN()\n",
        "\n",
        "lr = 1e-4 #@param\n",
        "momentum = 0.9 #@param\n",
        "step_size  = 7 #@param\n",
        "gamma = 0.1 #@param\n",
        "\n",
        "model_ft = model_ft.to(device)\n",
        "\n",
        "criterion = torch.nn.CrossEntropyLoss() #@param [\"torch.nn.CrossEntropyLoss()\", \"torch.nn.NLLLoss()\", \"torch.nn.MultiLabelSoftMarginLoss()\"] {type:\"raw\"}\n",
        "\n",
        "# Observe that all parameters are being optimized\n",
        "optimizer_ft = torch.optim.SGD(model_ft.parameters(), lr=lr, momentum=momentum)\n",
        "\n",
        "# Decay LR by a factor of 0.1 every 7 epochs\n",
        "scheduler = torch.optim.lr_scheduler.StepLR(optimizer_ft, step_size=step_size, gamma=gamma)\n",
        "\n",
        "#@markdown ---\n",
        "#@markdown Here we will set our model's hyper-parameters. "
      ],
      "execution_count": 0,
      "outputs": []
    },
    {
      "cell_type": "code",
      "metadata": {
        "id": "Q1bGX2uibkdQ",
        "colab_type": "code",
        "outputId": "feab2749-e64a-41a5-fb10-85020e61dd28",
        "colab": {
          "base_uri": "https://localhost:8080/",
          "height": 476
        }
      },
      "source": [
        "#@title training our model\n",
        "model = train_model(model_ft, criterion, optimizer_ft, scheduler, 5)"
      ],
      "execution_count": 0,
      "outputs": [
        {
          "output_type": "stream",
          "text": [
            "Epoch 0/4\n",
            "----------\n",
            "train Loss: 1.8742 Acc: 0.3232\n",
            "val Loss: 2.2425 Acc: 0.2562\n",
            "\n",
            "Epoch 1/4\n",
            "----------\n",
            "train Loss: 1.5871 Acc: 0.4361\n",
            "val Loss: 2.4280 Acc: 0.3268\n",
            "\n",
            "Epoch 2/4\n",
            "----------\n",
            "train Loss: 1.3403 Acc: 0.5316\n",
            "val Loss: 2.4422 Acc: 0.3276\n",
            "\n",
            "Epoch 3/4\n",
            "----------\n",
            "train Loss: 1.2822 Acc: 0.5541\n",
            "val Loss: 2.2482 Acc: 0.3806\n",
            "\n",
            "Epoch 4/4\n",
            "----------\n",
            "train Loss: 1.2485 Acc: 0.5641\n",
            "val Loss: 2.6551 Acc: 0.3626\n",
            "\n",
            "Training complete in 15m 48s\n",
            "Best val Acc: 0.380600\n"
          ],
          "name": "stdout"
        }
      ]
    },
    {
      "cell_type": "code",
      "metadata": {
        "id": "QiMl6bYIuwNq",
        "colab_type": "code",
        "outputId": "3700b4f6-23f3-412c-9a22-202e3b6d128b",
        "colab": {
          "base_uri": "https://localhost:8080/",
          "height": 917
        }
      },
      "source": [
        "#@title assessment of our model\n",
        "\n",
        "evaluate(model, dataloaders['val'])"
      ],
      "execution_count": 0,
      "outputs": [
        {
          "output_type": "stream",
          "text": [
            "Acc test_set: 0.3806\n",
            "[1, 6, 6, 2, 7, 3, 8, 6, 8, 1, 3, 2, 1, 4, 9, 5, 8, 4, 2, 3, 1, 1, 5, 5, 1, 9, 7, 2, 3, 5, 2, 6, 4, 6, 3, 3, 6, 2, 8, 1, 6, 6, 3, 8, 3, 4, 4, 9, 4, 3, 0, 7, 5, 0, 1, 3, 9, 8, 2, 2, 3, 5, 5, 7, 0, 1, 4, 7, 4, 8, 3, 7, 4, 7, 3, 6, 0, 1, 8, 5, 6, 7, 8, 3, 2, 9, 7, 8, 9, 0, 7, 3, 6, 6, 0, 5, 9, 3, 2, 7, 0, 2, 4, 4, 5, 0, 6, 2, 7, 1, 3, 4, 9, 9, 0, 5, 3, 9, 9, 4, 7, 9, 8, 9, 0, 4, 1, 1, 5, 9, 2, 6, 3, 0, 5, 8, 8, 9, 5, 9, 3, 5, 6, 7, 6, 0, 1, 7, 0, 7, 9, 1, 1, 6, 5, 2, 0, 0, 1, 1, 0, 7, 1, 4, 7, 8, 7, 9, 5, 1, 5, 9, 9, 2, 8, 2, 7, 3, 9, 9, 0, 3, 5, 6, 1, 1, 5, 3, 2, 3, 4, 4, 8, 5, 9, 6, 8, 2, 6, 4, 3, 1, 6, 5, 6, 5, 8, 5, 4, 6, 2, 1, 6, 2, 6, 3, 6, 9, 0, 3, 9, 2, 4, 3, 9, 6, 2, 1, 8, 5, 5, 0, 2, 7, 1, 4, 9, 1, 7, 4, 2, 8, 8, 8, 6, 5, 8, 7, 7, 3, 5, 2, 6, 3, 2, 1, 0, 5, 2, 7, 3, 7, 6, 0, 0, 0, 7, 7, 0, 0, 1, 0, 8, 8, 7, 5, 6, 7, 2, 8, 0, 3, 0, 5, 9, 9, 1, 2, 7, 3, 5, 5, 5, 5, 5, 3, 4, 4, 7, 0, 0, 1, 8, 8, 1, 1, 4, 0, 8, 8, 2, 4, 1, 9, 6, 7, 5, 1, 0, 4, 2, 2, 7, 9, 0, 2, 8, 6, 7, 9, 7, 2, 5, 1, 2, 6, 4, 7, 4, 2, 2, 8, 7, 5, 1, 6, 5, 8, 6, 8, 4, 8, 6, 5, 5, 1, 9, 6, 3, 5, 3, 7, 0, 4, 4, 8, 7, 0, 3, 8, 2, 7, 1, 1, 6, 1, 1, 7, 6, 7, 7, 6, 5, 2, 7, 0, 7, 9, 0, 7, 0, 6, 9, 5, 4, 4, 8, 8, 4, 6, 2, 5, 7, 7, 2, 1, 1, 7, 5, 9, 0, 9, 2, 1, 6, 2, 4, 2, 9, 7, 1, 8, 6, 4, 9, 2, 9, 6, 5, 2, 8, 4, 1, 1, 8, 7, 6, 1, 2, 8, 5, 0, 7, 8, 4, 3, 0, 1, 8, 4, 6, 1, 6, 8, 9, 5, 4, 2, 1, 6, 9, 3, 7, 9, 3, 8, 5, 3, 0, 1, 1, 4, 6, 7, 0, 7, 6, 7, 1, 5, 1, 1, 8, 5, 7, 5, 9, 5, 8, 9, 7, 5, 2, 0, 0, 0, 9, 4, 1, 0, 8, 5, 7, 3, 4, 7, 2, 2, 5, 7, 0, 2, 3, 5, 8, 2, 5, 0, 7, 9, 0, 0, 4, 5, 4, 3, 5, 9, 9, 8, 6, 0, 7, 0, 9, 0, 9, 2, 7, 6, 2, 3, 7, 8, 0, 8, 6, 6, 0, 7, 4, 1, 0, 1, 3, 4, 4, 0, 6, 1, 1, 5, 9, 0, 4, 9, 3, 3, 9, 3, 7, 8, 0, 5, 1, 9, 2, 5, 0, 6, 9, 7, 5, 6, 4, 3, 8, 9, 7, 1, 6, 8, 5, 7, 7, 0, 0, 4, 4, 9, 4, 9, 8, 8, 0, 1, 8, 0, 0, 5, 5, 6, 5, 1, 8, 0, 6, 8, 0, 3, 8, 3, 7, 0, 7, 0, 2, 0, 6, 2, 8, 5, 4, 7, 6, 2, 4, 1, 9, 2, 2, 7, 1, 7, 9, 2, 7, 6, 5, 5, 1, 3, 6, 3, 5, 1, 3, 6, 7, 4, 7, 2, 6, 3, 8, 7, 0, 9, 2, 1, 6, 6, 4, 7, 2, 5, 7, 5, 4, 2, 1, 9, 6, 5, 0, 4, 9, 8, 8, 4, 2, 8, 0, 8, 8, 1, 9, 4, 2, 3, 1, 1, 1, 3, 1, 8, 6, 2, 1, 7, 9, 5, 2, 3, 0, 4, 7, 8, 3, 8, 8, 6, 2, 4, 6, 4, 0, 2, 9, 4, 9, 0, 5, 4, 2, 1, 1, 4, 4, 9, 6, 3, 3, 8, 7, 1, 6, 9, 1, 4, 3, 0, 2, 1, 9, 0, 1, 9, 3, 1, 9, 5, 1, 2, 9, 1, 3, 2, 0, 7, 8, 9, 6, 1, 9, 3, 4, 1, 3, 2, 9, 7, 7, 7, 7, 2, 9, 8, 7, 9, 0, 9, 4, 4, 0, 2, 2, 8, 4, 9, 1, 0, 5, 9, 3, 0, 5, 7, 4, 8, 5, 2, 8, 5, 3, 6, 1, 2, 0, 9, 0, 7, 6, 8, 2, 7, 4, 0, 2, 0, 3, 6, 0, 6, 0, 7, 6, 4, 3, 3, 3, 3, 6, 4, 1, 4, 6, 5, 6, 9, 9, 7, 6, 9, 7, 9, 0, 8, 3, 5, 0, 9, 2, 9, 8, 7, 1, 4, 3, 2, 9, 2, 9, 5, 5, 9, 4, 0, 4, 0, 6, 1, 1, 5, 7, 1, 5, 9, 6, 9, 7, 5, 6, 3, 7, 5, 4, 9, 2, 3, 1, 2, 4, 5, 5, 3, 6, 1, 0, 1, 2, 1, 8, 6, 7, 3, 9, 6, 5, 0, 4, 9, 0, 0, 5, 0, 7, 2, 3, 9, 7, 7, 8, 6, 3, 9, 6, 1, 0, 8, 9, 0, 3, 1, 5, 5, 8, 5, 0, 3, 1, 8, 5, 8, 4, 8, 4, 7, 4, 7, 2, 3, 4, 4, 8, 1, 1, 3, 0, 0, 3, 6, 0, 6, 4, 3, 7, 0, 4, 9, 4, 9, 1, 1, 2, 1, 6, 1, 4, 0, 5, 7, 7, 7, 0, 2, 5, 7, 2, 7, 0, 5, 9, 3, 5, 4, 9, 7, 0, 5, 7, 3, 6, 3, 7, 2, 9, 4, 7, 3, 9, 8, 9, 9, 7, 4, 3, 2, 7, 2, 4, 6, 6, 2, 8, 2, 1, 0, 9, 2, 2, 4, 7, 9, 0, 5, 4, 1, 8, 2, 0, 0, 8, 1, 8, 5, 4, 3, 5, 0, 0, 4, 6, 4, 3, 7, 1, 9, 0, 6, 9, 7, 8, 8, 2, 3, 0, 6, 2, 4, 0, 0, 6, 4, 7, 9, 4, 3, 7, 0, 5, 9, 9, 9, 7, 4, 8, 6, 8, 7, 6, 7, 8, 2, 7, 6, 6, 0, 6, 9, 8, 5, 4, 3, 9, 8, 3, 5, 1, 3, 8, 0, 3, 1, 5, 4, 6, 2, 0, 6, 9, 1, 6, 3, 4, 0, 6, 1, 8, 1, 2, 9, 6, 9, 5, 8, 3, 4, 4, 0, 5, 5, 0, 4, 1, 7, 5, 0, 1, 9, 2, 5, 3, 4, 7, 9, 3, 8, 3, 7, 8, 8, 0, 8, 4, 9, 6, 5, 9, 1, 0, 4, 5, 2, 9, 2, 0, 9, 6, 8, 8, 3, 1, 2, 0, 5, 7, 5, 9, 9, 6, 9, 4, 5, 8, 4, 3, 2, 3, 8, 0, 8, 1, 2, 1, 0, 8, 8, 0, 4, 8, 0, 4, 1, 1, 4, 2, 3, 3, 2, 4, 5, 7, 4, 1, 5, 5, 3, 2, 8, 4, 9, 4, 1, 9, 8, 2, 3, 5, 6, 1, 4, 8, 8, 9, 1, 7, 1, 1, 9, 8, 4, 6, 4, 4, 5, 9, 9, 8, 6, 7, 2, 1, 5, 0, 8, 8, 2, 9, 5, 7, 4, 5, 9, 7, 4, 7, 0, 6, 1, 8, 5, 5, 5, 1, 3, 6, 0, 3, 8, 3, 0, 5, 4, 4, 6, 8, 1, 7, 4, 7, 5, 2, 0, 5, 6, 7, 1, 8, 6, 6, 4, 6, 8, 3, 5, 0, 0, 1, 7, 7, 9, 4, 2, 5, 8, 6, 9, 7, 4, 8, 7, 2, 4, 2, 7, 2, 2, 4, 2, 2, 3, 1, 4, 9, 5, 1, 1, 7, 4, 2, 2, 8, 1, 7, 7, 9, 4, 6, 0, 7, 7, 0, 0, 8, 2, 9, 4, 2, 5, 7, 8, 6, 8, 7, 7, 4, 7, 2, 6, 5, 6, 9, 4, 8, 8, 5, 8, 3, 7, 8, 4, 8, 4, 4, 9, 4, 5, 6, 8, 0, 8, 0, 1, 3, 6, 4, 5, 3, 6, 4, 0, 9, 0, 4, 6, 2, 6, 7, 3, 6, 6, 8, 5, 7, 5, 4, 7, 5, 5, 4, 0, 6, 4, 1, 5, 2, 9, 5, 8, 6, 2, 5, 6, 4, 4, 1, 0, 6, 4, 3, 5, 7, 5, 4, 6, 7, 4, 8, 5, 6, 0, 1, 0, 7, 7, 3, 0, 1, 3, 2, 1, 5, 8, 2, 5, 0, 9, 1, 7, 4, 4, 4, 3, 8, 2, 7, 4, 6, 0, 3, 5, 6, 2, 0, 8, 7, 7, 0, 4, 1, 1, 0, 0, 2, 2, 1, 6, 9, 4, 7, 2, 9, 6, 8, 0, 2, 5, 1, 7, 6, 3, 3, 9, 2, 4, 2, 0, 8, 1, 2, 9, 4, 9, 2, 4, 7, 9, 4, 1, 1, 1, 7, 7, 5, 8, 1, 7, 9, 4, 6, 5, 0, 6, 0, 6, 5, 5, 8, 0, 6, 4, 6, 5, 8, 9, 7, 2, 0, 6, 4, 2, 6, 1, 6, 5, 3, 0, 4, 8, 3, 7, 5, 6, 7, 8, 2, 4, 8, 7, 1, 3, 5, 8, 4, 7, 6, 3, 6, 1, 7, 0, 8, 8, 6, 7, 3, 8, 7, 9, 7, 9, 6, 8, 5, 1, 6, 1, 8, 4, 9, 4, 0, 3, 6, 4, 6, 2, 1, 4, 5, 4, 3, 2, 9, 1, 5, 6, 0, 8, 2, 3, 0, 8, 3, 4, 0, 9, 1, 6, 8, 4, 2, 3, 9, 5, 2, 1, 5, 4, 3, 6, 1, 4, 9, 2, 8, 4, 1, 8, 7, 5, 3, 9, 6, 3, 2, 4, 6, 6, 0, 9, 3, 1, 7, 7, 1, 2, 5, 6, 1, 1, 0, 6, 3, 3, 7, 2, 9, 8, 1, 1, 1, 3, 7, 7, 9, 8, 4, 9, 2, 8, 9, 7, 4, 8, 0, 3, 2, 4, 7, 2, 6, 7, 0, 3, 7, 1, 5, 9, 0, 4, 7, 1, 5, 0, 7, 2, 5, 3, 3, 8, 5, 2, 1, 1, 0, 8, 7, 4, 3, 3, 3, 4, 5, 5, 3, 1, 9, 7, 2, 2, 2, 1, 4, 0, 9, 2, 9, 4, 5, 3, 0, 0, 9, 4, 9, 6, 0, 6, 6, 6, 3, 1, 0, 9, 3, 1, 2, 6, 2, 7, 1, 8, 9, 0, 3, 6, 6, 9, 3, 7, 5, 1, 6, 2, 5, 4, 2, 5, 4, 8, 1, 5, 6, 2, 8, 4, 5, 3, 1, 9, 6, 8, 7, 3, 8, 6, 2, 9, 0, 0, 9, 6, 1, 9, 2, 2, 5, 4, 4, 2, 1, 2, 5, 5, 7, 3, 1, 8, 7, 4, 5, 0, 7, 6, 2, 5, 5, 8, 3, 1, 6, 2, 9, 2, 1, 4, 3, 7, 4, 2, 3, 6, 5, 5, 1, 3, 4, 7, 0, 3, 1, 5, 3, 0, 6, 2, 7, 0, 3, 2, 7, 8, 1, 0, 9, 0, 7, 8, 0, 2, 8, 4, 6, 9, 5, 8, 7, 2, 6, 0, 4, 1, 6, 5, 5, 2, 7, 5, 4, 8, 8, 8, 9, 8, 6, 0, 2, 9, 9, 4, 3, 9, 5, 1, 8, 3, 9, 9, 0, 2, 1, 3, 9, 8, 0, 3, 9, 3, 8, 3, 7, 6, 7, 6, 1, 9, 0, 2, 5, 3, 1, 4, 5, 6, 1, 0, 0, 0, 3, 7, 7, 4, 0, 7, 3, 8, 0, 2, 4, 8, 5, 2, 0, 0, 1, 8, 7, 5, 4, 5, 0, 7, 1, 4, 5, 5, 5, 3, 4, 6, 0, 1, 6, 1, 7, 5, 8, 4, 1, 9, 2, 9, 9, 8, 1, 0, 1, 8, 1, 2, 5, 7, 4, 0, 5, 8, 5, 8, 0, 0, 9, 8, 0, 6, 5, 3, 8, 7, 7, 3, 4, 7, 7, 2, 1, 3, 9, 1, 5, 4, 1, 2, 4, 8, 7, 3, 5, 6, 1, 9, 8, 7, 1, 8, 8, 2, 5, 7, 1, 8, 8, 2, 4, 0, 0, 5, 8, 3, 0, 9, 8, 0, 2, 7, 6, 6, 9, 0, 7, 0, 5, 7, 4, 1, 1, 2, 6, 8, 3, 2, 5, 1, 9, 0, 5, 5, 7, 4, 2, 0, 9, 3, 3, 7, 6, 1, 1, 3, 9, 0, 3, 9, 9, 5, 8, 7, 7, 1, 2, 5, 4, 8, 2, 6, 1, 7, 5, 3, 1, 3, 2, 0, 1, 9, 0, 3, 1, 5, 4, 4, 7, 5, 1, 4, 6, 0, 6, 2, 2, 6, 7, 9, 2, 0, 6, 8, 6, 6, 7, 3, 7, 3, 2, 9, 3, 9, 2, 3, 0, 6, 5, 8, 0, 1, 9, 6, 3, 4, 8, 6, 5, 4, 9, 8, 7, 4, 5, 8, 3, 5, 6, 6, 1, 8, 1, 8, 1, 0, 1, 5, 3, 9, 7, 9, 0, 2, 0, 7, 1, 7, 8, 5, 8, 3, 7, 4, 8, 5, 7, 9, 2, 4, 7, 2, 7, 7, 5, 2, 2, 4, 1, 1, 6, 9, 3, 2, 0, 9, 8, 6, 3, 3, 8, 2, 6, 0, 4, 8, 2, 6, 6, 1, 3, 7, 7, 6, 2, 2, 8, 2, 8, 8, 6, 2, 9, 2, 6, 0, 5, 5, 9, 1, 0, 6, 4, 1, 3, 9, 8, 1, 2, 8, 7, 6, 0, 6, 1, 7, 2, 3, 8, 6, 1, 7, 2, 8, 0, 7, 7, 1, 1, 6, 4, 0, 2, 1, 1, 1, 4, 1, 1, 9, 6, 9, 1, 2, 3, 5, 3, 5, 1, 4, 3, 2, 9, 7, 7, 1, 3, 9, 0, 1, 2, 3, 2, 7, 0, 0, 2, 5, 1, 0, 9, 8, 8, 0, 2, 6, 7, 8, 0, 6, 9, 8, 6, 0, 0, 4, 1, 1, 0, 2, 2, 9, 5, 7, 8, 5, 2, 2, 5, 6, 8, 4, 2, 7, 2, 5, 5, 6, 3, 4, 6, 6, 8, 9, 9, 4, 7, 5, 5, 2, 5, 3, 2, 3, 1, 7, 0, 7, 9, 8, 5, 0, 8, 6, 0, 8, 9, 6, 6, 8, 5, 8, 6, 9, 1, 6, 7, 0, 6, 0, 3, 0, 1, 8, 9, 6, 7, 5, 8, 5, 3, 6, 5, 4, 2, 6, 1, 3, 1, 5, 8, 4, 0, 3, 2, 5, 4, 1, 8, 7, 6, 4, 5, 7, 9, 4, 0, 2, 3, 2, 7, 3, 5, 5, 9, 6, 3, 9, 5, 0, 8, 6, 1, 2, 8, 0, 0, 1, 2, 9, 6, 4, 0, 8, 4, 0, 5, 9, 0, 8, 7, 2, 5, 1, 5, 8, 6, 6, 8, 4, 7, 7, 3, 6, 3, 7, 4, 7, 1, 4, 4, 4, 9, 6, 3, 5, 7, 6, 9, 0, 5, 5, 0, 8, 6, 9, 5, 5, 7, 4, 1, 7, 5, 1, 7, 9, 1, 2, 3, 3, 2, 4, 0, 8, 4, 4, 4, 2, 9, 0, 2, 3, 8, 6, 4, 7, 5, 2, 7, 8, 4, 6, 2, 6, 8, 5, 4, 1, 1, 9, 5, 0, 9, 3, 3, 6, 9, 5, 0, 0, 3, 4, 2, 8, 7, 7, 9, 1, 1, 9, 7, 1, 0, 3, 8, 7, 7, 9, 0, 8, 5, 5, 2, 5, 8, 7, 2, 5, 7, 2, 8, 4, 0, 3, 0, 1, 8, 0, 0, 7, 8, 9, 0, 8, 4, 3, 6, 1, 7, 1, 1, 2, 4, 3, 4, 4, 3, 9, 9, 9, 8, 4, 4, 5, 8, 2, 1, 0, 1, 1, 9, 8, 9, 0, 0, 6, 4, 9, 1, 7, 9, 0, 3, 1, 0, 0, 4, 9, 8, 8, 6, 5, 9, 1, 0, 3, 7, 7, 7, 3, 2, 7, 9, 2, 4, 7, 3, 3, 5, 8, 9, 2, 9, 6, 9, 2, 0, 8, 3, 4, 3, 1, 0, 7, 4, 1, 2, 5, 0, 5, 0, 7, 1, 5, 9, 3, 0, 6, 5, 2, 2, 4, 9, 0, 7, 2, 4, 0, 6, 4, 0, 7, 8, 0, 3, 9, 5, 8, 6, 5, 5, 8, 4, 5, 5, 4, 0, 9, 0, 3, 2, 3, 9, 2, 0, 4, 0, 0, 7, 1, 3, 5, 9, 2, 1, 3, 4, 6, 3, 4, 8, 1, 4, 2, 1, 8, 9, 3, 7, 2, 0, 9, 6, 0, 7, 5, 3, 4, 2, 3, 3, 6, 6, 7, 4, 0, 0, 2, 7, 0, 3, 5, 5, 7, 9, 4, 5, 1, 1, 2, 9, 3, 3, 2, 8, 8, 4, 5, 7, 2, 4, 8, 9, 6, 9, 4, 2, 8, 4, 6, 6, 6, 0, 5, 6, 6, 5, 9, 1, 6, 8, 7, 0, 6, 6, 1, 5, 4, 4, 8, 7, 6, 1, 7, 0, 0, 1, 8, 7, 0, 4, 3, 0, 7, 4, 4, 3, 3, 1, 6, 6, 3, 6, 2, 1, 1, 8, 9, 0, 7, 9, 3, 1, 1, 1, 3, 5, 2, 8, 9, 8, 5, 7, 2, 8, 3, 2, 3, 9, 0, 3, 6, 8, 3, 7, 5, 5, 0, 1, 1, 9, 9, 3, 9, 5, 0, 9, 9, 2, 3, 0, 6, 9, 4, 7, 6, 1, 8, 3, 6, 3, 4, 6, 2, 3, 9, 8, 7, 7, 9, 7, 9, 2, 2, 9, 2, 7, 1, 3, 8, 1, 9, 0, 9, 1, 1, 3, 9, 1, 3, 7, 1, 3, 2, 3, 8, 7, 7, 0, 0, 6, 3, 1, 4, 8, 7, 2, 4, 4, 0, 9, 3, 1, 3, 1, 5, 7, 1, 7, 9, 1, 1, 4, 8, 7, 5, 2, 5, 9, 6, 6, 2, 5, 3, 9, 8, 6, 5, 3, 2, 0, 1, 0, 0, 1, 6, 2, 0, 1, 6, 2, 9, 3, 0, 0, 1, 6, 0, 9, 2, 8, 1, 0, 5, 1, 9, 0, 0, 2, 7, 6, 3, 4, 0, 5, 4, 4, 3, 8, 5, 0, 3, 4, 5, 0, 8, 7, 3, 8, 3, 0, 2, 8, 1, 7, 2, 9, 2, 4, 9, 3, 9, 2, 4, 6, 8, 1, 5, 9, 5, 1, 9, 0, 9, 3, 0, 5, 9, 4, 3, 0, 1, 0, 8, 8, 7, 3, 4, 6, 8, 1, 4, 9, 8, 8, 5, 4, 8, 0, 6, 8, 3, 2, 5, 5, 6, 0, 9, 0, 3, 9, 1, 5, 7, 9, 1, 8, 6, 6, 5, 2, 5, 0, 4, 7, 5, 3, 0, 7, 1, 5, 4, 6, 9, 9, 1, 3, 4, 9, 3, 3, 1, 1, 5, 3, 6, 7, 7, 3, 0, 4, 0, 8, 9, 0, 1, 1, 0, 2, 0, 7, 4, 5, 7, 4, 8, 7, 7, 3, 1, 7, 9, 9, 4, 3, 2, 7, 4, 7, 1, 2, 5, 0, 8, 4, 0, 8, 4, 3, 2, 2, 0, 5, 4, 4, 9, 3, 4, 5, 6, 0, 7, 2, 3, 8, 8, 6, 0, 5, 4, 2, 5, 4, 2, 3, 9, 8, 0, 0, 7, 8, 7, 9, 5, 5, 4, 4, 5, 0, 5, 8, 4, 0, 8, 8, 0, 3, 7, 2, 6, 4, 7, 1, 7, 2, 5, 0, 0, 9, 7, 2, 5, 9, 5, 7, 0, 3, 1, 7, 2, 1, 2, 5, 4, 0, 3, 6, 0, 2, 1, 8, 1, 8, 5, 2, 3, 5, 6, 1, 4, 3, 5, 8, 9, 6, 2, 9, 9, 2, 9, 4, 1, 6, 7, 7, 6, 0, 1, 9, 4, 2, 7, 2, 6, 2, 6, 0, 5, 6, 6, 9, 9, 5, 6, 5, 2, 7, 6, 6, 4, 3, 8, 9, 9, 1, 2, 1, 9, 8, 3, 7, 1, 1, 9, 0, 1, 9, 5, 9, 0, 4, 3, 1, 6, 5, 8, 8, 9, 3, 1, 2, 9, 2, 2, 4, 7, 4, 0, 1, 0, 1, 9, 6, 7, 7, 7, 4, 4, 0, 7, 1, 1, 2, 2, 9, 0, 5, 6, 3, 4, 5, 3, 4, 1, 1, 3, 1, 8, 9, 8, 2, 5, 2, 1, 8, 1, 5, 6, 8, 9, 8, 8, 5, 1, 3, 6, 7, 3, 7, 6, 6, 7, 7, 1, 1, 1, 2, 0, 1, 8, 2, 9, 6, 1, 6, 2, 2, 8, 0, 8, 0, 1, 8, 1, 6, 0, 4, 6, 2, 3, 2, 2, 1, 6, 3, 4, 6, 0, 4, 4, 5, 9, 8, 0, 6, 7, 1, 7, 9, 8, 1, 2, 1, 5, 5, 1, 8, 3, 2, 3, 6, 9, 4, 8, 1, 2, 8, 9, 9, 9, 3, 1, 2, 2, 8, 2, 4, 7, 1, 0, 2, 0, 6, 0, 7, 0, 2, 4, 1, 6, 4, 1, 0, 7, 4, 6, 1, 3, 9, 3, 0, 8, 5, 3, 2, 2, 2, 1, 1, 7, 8, 2, 8, 7, 6, 0, 2, 0, 1, 6, 5, 3, 9, 2, 5, 2, 3, 6, 5, 8, 3, 2, 6, 0, 4, 8, 5, 5, 3, 8, 6, 2, 5, 5, 2, 1, 7, 0, 7, 0, 8, 1, 0, 7, 3, 4, 8, 8, 1, 8, 2, 9, 3, 5, 7, 0, 0, 5, 8, 4, 9, 5, 2, 9, 8, 7, 0, 4, 7, 4, 9, 2, 2, 7, 5, 0, 1, 7, 5, 2, 9, 5, 0, 0, 9, 3, 3, 5, 3, 7, 9, 7, 4, 6, 1, 4, 1, 2, 6, 2, 2, 7, 4, 6, 7, 6, 9, 6, 5, 5, 9, 3, 6, 4, 7, 0, 8, 3, 4, 7, 6, 5, 1, 4, 3, 9, 8, 3, 1, 4, 2, 1, 3, 1, 6, 3, 9, 0, 0, 8, 9, 9, 1, 7, 0, 7, 3, 9, 4, 0, 0, 7, 1, 5, 0, 9, 9, 8, 4, 4, 0, 9, 3, 4, 3, 1, 9, 1, 6, 8, 0, 0, 9, 5, 6, 7, 7, 7, 4, 2, 0, 0, 7, 5, 1, 3, 5, 6, 4, 3, 6, 8, 2, 8, 9, 3, 2, 7, 6, 8, 0, 7, 7, 5, 4, 4, 8, 1, 3, 4, 9, 2, 6, 8, 4, 4, 9, 3, 2, 7, 1, 3, 3, 8, 8, 6, 2, 6, 0, 5, 8, 8, 3, 3, 6, 0, 7, 9, 1, 4, 7, 6, 6, 7, 1, 4, 2, 6, 4, 4, 1, 8, 8, 2, 2, 3, 5, 9, 5, 6, 4, 6, 3, 8, 8, 8, 8, 6, 8, 0, 1, 1, 1, 2, 4, 2, 5, 4, 3, 1, 4, 1, 5, 2, 2, 3, 5, 4, 2, 1, 0, 7, 9, 5, 1, 5, 8, 4, 2, 9, 5, 9, 3, 4, 7, 2, 0, 9, 6, 1, 8, 8, 5, 2, 5, 4, 3, 9, 0, 2, 1, 2, 5, 0, 1, 5, 5, 4, 1, 3, 2, 5, 9, 2, 3, 5, 1, 7, 5, 5, 3, 7, 3, 7, 6, 9, 4, 3, 3, 9, 5, 8, 9, 0, 7, 6, 7, 8, 5, 7, 4, 8, 1, 2, 5, 2, 6, 5, 8, 6, 7, 2, 3, 2, 9, 3, 7, 6, 5, 2, 0, 2, 3, 3, 0, 4, 2, 0, 3, 2, 6, 5, 6, 0, 5, 6, 6, 3, 5, 0, 0, 1, 4, 6, 2, 4, 0, 8, 5, 9, 7, 7, 6, 7, 9, 3, 6, 7, 0, 1, 2, 5, 7, 0, 0, 8, 9, 7, 6, 8, 2, 7, 4, 1, 3, 5, 9, 2, 1, 6, 3, 6, 3, 0, 1, 7, 7, 8, 0, 3, 6, 7, 9, 2, 0, 1, 1, 6, 8, 4, 4, 1, 9, 9, 1, 6, 0, 4, 0, 0, 7, 2, 9, 8, 0, 7, 2, 7, 9, 8, 8, 3, 7, 0, 7, 4, 2, 7, 4, 1, 4, 0, 9, 6, 2, 7, 7, 9, 4, 2, 1, 3, 7, 4, 4, 5, 3, 4, 1, 1, 8, 4, 8, 4, 3, 1, 3, 1, 3, 7, 3, 9, 5, 6, 4, 9, 3, 1, 4, 6, 3, 2, 7, 7, 8, 4, 0, 5, 4, 0, 3, 6, 4, 8, 6, 2, 0, 6, 2, 5, 8, 8, 9, 6, 1, 7, 0, 4, 8, 0, 0, 3, 7, 2, 4, 0, 9, 3, 1, 3, 0, 2, 9, 7, 7, 9, 6, 3, 2, 9, 9, 1, 4, 0, 7, 8, 5, 4, 7, 3, 4, 2, 7, 0, 1, 2, 9, 4, 7, 0, 5, 3, 3, 2, 0, 7, 2, 7, 7, 2, 1, 6, 8, 9, 7, 7, 3, 9, 9, 2, 7, 9, 5, 8, 3, 6, 7, 6, 6, 1, 1, 9, 2, 8, 1, 4, 5, 9, 6, 0, 2, 2, 3, 7, 1, 3, 6, 4, 9, 4, 6, 4, 2, 8, 6, 3, 2, 3, 3, 4, 1, 5, 0, 7, 6, 8, 6, 7, 7, 8, 1, 6, 3, 8, 6, 5, 8, 3, 4, 3, 6, 3, 2, 2, 9, 9, 1, 1, 8, 9, 6, 5, 5, 9, 3, 4, 5, 6, 9, 0, 9, 8, 4, 5, 3, 4, 2, 3, 2, 9, 0, 4, 9, 0, 3, 4, 7, 2, 5, 4, 4, 5, 4, 0, 4, 9, 2, 6, 5, 9, 7, 5, 1, 8, 8, 7, 0, 4, 8, 4, 4, 5, 9, 0, 5, 2, 9, 3, 6, 1, 5, 1, 7, 1, 0, 3, 0, 8, 2, 2, 2, 3, 4, 5, 7, 6, 1, 4, 7, 9, 0, 5, 5, 9, 5, 7, 5, 9, 3, 3, 6, 8, 7, 3, 8, 8, 7, 0, 4, 4, 2, 3, 3, 2, 3, 5, 7, 0, 7, 2, 1, 8, 7, 0, 9, 7, 8, 7, 3, 1, 2, 7, 5, 2, 9, 1, 0, 3, 6, 3, 3, 6, 3, 1, 0, 0, 4, 5, 8, 1, 3, 5, 6, 2, 2, 1, 2, 9, 1, 7, 8, 0, 7, 2, 1, 0, 1, 2, 3, 4, 1, 3, 6, 8, 9, 5, 2, 8, 0, 6, 2, 8, 5, 5, 2, 8, 2, 3, 4, 7, 6, 5, 1, 4, 4, 0, 6, 2, 4, 8, 4, 1, 8, 4, 6, 4, 5, 7, 5, 6, 0, 4, 4, 4, 0, 2, 5, 7, 5, 1, 5, 2, 0, 2, 3, 2, 0, 0, 5, 0, 4, 7, 4, 0, 6, 0, 8, 0, 9, 6, 9, 8, 8, 2, 8, 8, 3, 2, 6, 3, 2, 7, 5, 6, 9, 2, 0, 9, 2, 8, 6, 3, 2, 4, 1, 0, 0, 3, 0, 1, 0, 4, 2, 7, 8, 3, 8, 8, 1, 3, 1, 1, 2, 7, 2, 5, 0, 4, 9, 8, 5, 1, 1, 1, 1, 3, 4, 4, 6, 4, 4, 2, 4, 9, 1, 3, 4, 8, 6, 6, 7, 4, 3, 9, 0, 8, 3, 8, 8, 3, 1, 5, 4, 8, 8, 5, 9, 6, 7, 8, 7, 8, 1, 6, 6, 1, 4, 8, 3, 0, 7, 9, 2, 5, 4, 2, 4, 4, 9, 6, 7, 8, 1, 4, 8, 5, 8, 5, 6, 2, 7, 8, 5, 2, 8, 2, 0, 5, 8, 4, 1, 7, 7, 3, 1, 5, 2, 1, 8, 5, 9, 1, 7, 6, 4, 7, 3, 5, 2, 7, 4, 1, 1, 7, 6, 2, 5, 8, 9, 9, 9, 4, 2, 8, 8, 2, 7, 8, 1, 2, 1, 7, 9, 9, 8, 9, 4, 2, 2, 1, 2, 5, 2, 8, 7, 8, 7, 9, 1, 2, 3, 0, 1, 4, 5, 6, 7, 2, 7, 8, 4, 5, 1, 3, 6, 7, 9, 0, 0, 6, 7, 8, 6, 5, 9, 3, 2, 7, 8, 4, 4, 7, 7, 0, 7, 5, 7, 1, 9, 1, 9, 8, 1, 6, 5, 1, 3, 4, 2, 8, 0, 3, 2, 1, 3, 4, 2, 5, 0, 9, 5, 1, 9, 4, 0, 5, 2, 6, 5, 9, 7, 9, 0, 8, 9, 9, 4, 6, 6, 1, 7, 0, 4, 8, 8, 4, 4, 0, 5, 7, 0, 2, 8, 7, 8, 8, 4, 3, 8, 7, 7, 9, 4, 4, 4, 1, 7, 0, 0, 3, 0, 2, 9, 2, 6, 4, 5, 5, 3, 7, 8, 9, 6, 7, 0, 0, 3, 5, 3, 1, 8, 3, 1, 9, 0, 1, 8, 5, 8, 1, 3, 1, 5, 5, 2, 7, 8, 3, 2, 2, 2, 8, 1, 5, 6, 6, 4, 5, 5, 5, 3, 2, 4, 9, 6, 2, 6, 6, 9, 4, 4, 1, 4, 6, 0, 9, 7, 8, 1, 4, 2, 2, 4, 5, 4, 2, 4, 8, 3, 1, 0, 2, 0, 1, 9, 5, 5, 3, 6, 2, 0, 1, 5, 6, 7, 0, 8, 3, 8, 1, 9, 9, 2, 5, 1, 5, 7, 3, 7, 7, 0, 0, 7, 5, 7, 6, 0, 6, 6, 5, 1, 5, 5, 0, 5, 4, 9, 4, 0, 2, 9, 0, 6, 2, 2, 6, 4, 8, 2, 1, 4, 2, 0, 9, 9, 7, 7, 1, 1, 6, 6, 2, 6, 2, 0, 5, 9, 3, 6, 6, 1, 1, 2, 5, 2, 3, 5, 6, 6, 4, 0, 9, 2, 7, 0, 1, 9, 1, 5, 1, 3, 8, 4, 2, 1, 6, 7, 8, 5, 6, 9, 3, 7, 1, 4, 1, 4, 0, 5, 6, 9, 7, 7, 5, 0, 3, 9, 8, 9, 6, 8, 5, 1, 9, 3, 2, 9, 5, 5, 4, 5, 8, 5, 8, 0, 0]\n",
            "              precision    recall  f1-score   support\n",
            "\n",
            "           0       0.30      0.31      0.31       519\n",
            "           1       0.38      0.69      0.49       524\n",
            "           2       0.34      0.22      0.27       511\n",
            "           3       0.30      0.28      0.29       467\n",
            "           4       0.23      0.28      0.26       508\n",
            "           5       0.51      0.46      0.49       501\n",
            "           6       0.40      0.37      0.38       472\n",
            "           7       0.57      0.49      0.53       523\n",
            "           8       0.31      0.27      0.29       493\n",
            "           9       0.54      0.41      0.47       482\n",
            "\n",
            "    accuracy                           0.38      5000\n",
            "   macro avg       0.39      0.38      0.38      5000\n",
            "weighted avg       0.39      0.38      0.38      5000\n",
            "\n"
          ],
          "name": "stdout"
        },
        {
          "output_type": "display_data",
          "data": {
            "image/png": "[encoded data removed]",
            "text/plain": [
              "<Figure size 720x720 with 2 Axes>"
            ]
          },
          "metadata": {
            "tags": []
          }
        }
      ]
    },
    {
      "cell_type": "markdown",
      "metadata": {
        "id": "tGiycHJ9X2OC",
        "colab_type": "text"
      },
      "source": [
        "# Training with a known architecture "
      ]
    },
    {
      "cell_type": "code",
      "metadata": {
        "id": "lBe1zOYr16hB",
        "colab_type": "code",
        "outputId": "bf14943b-916f-4852-9f4f-5fe362152b18",
        "colab": {
          "base_uri": "https://localhost:8080/",
          "height": 51
        }
      },
      "source": [
        "# Carregar os datasets\n",
        "\n",
        "transform=transforms.Compose([\n",
        "    transforms.Resize((224,224)),\n",
        "    transforms.ToTensor(),\n",
        "    transforms.Normalize([0.485, 0.456, 0.406], [0.229, 0.224, 0.225])\n",
        "    \n",
        "])\n",
        "\n",
        "dataset_train = torchvision.datasets.CIFAR10(root='./data', train=True,\n",
        "                                        download=True, transform=transform)\n",
        "\n",
        "dataset_test = torchvision.datasets.CIFAR10(root='./data', train=False,\n",
        "                                        download=True, transform=transform)\n",
        "\n",
        "test, val = random_split(dataset_test, lengths = (5000,5000))"
      ],
      "execution_count": 0,
      "outputs": [
        {
          "output_type": "stream",
          "text": [
            "Files already downloaded and verified\n",
            "Files already downloaded and verified\n"
          ],
          "name": "stdout"
        }
      ]
    },
    {
      "cell_type": "code",
      "metadata": {
        "id": "9VwQ3kc3ifCM",
        "colab_type": "code",
        "colab": {}
      },
      "source": [
        "classes = ('plane', 'car', 'bird', 'cat',\n",
        "           'deer', 'dog', 'frog', 'horse', 'ship', 'truck')\n",
        "train_loader = DataLoader(dataset=dataset_train, shuffle=True)\n",
        "test_loader = DataLoader(dataset=test, shuffle=False)\n",
        "val_loader = DataLoader(dataset=val, shuffle=False)\n",
        "\n",
        "dataloaders = {'train': train_loader, 'val':val_loader, 'test' : test_loader }\n",
        "\n",
        "dataset_sizes = {'train' : len(train_loader.dataset), 'test' : len(test_loader.dataset), 'val': len(val_loader.dataset)}\n",
        "\n",
        "device =  torch.device(\"cuda:0\" if torch.cuda.is_available() else \"cpu\")\n",
        "\n",
        "\n"
      ],
      "execution_count": 0,
      "outputs": []
    },
    {
      "cell_type": "code",
      "metadata": {
        "id": "2Rte-kXjyVqJ",
        "colab_type": "code",
        "colab": {}
      },
      "source": [
        "#@title Selecting the ResNet18 architecture [reference](https://arxiv.org/abs/1512.03385)\n",
        "model_ft = models.resnet18(pretrained=False)\n",
        "\n",
        "num_ftrs = model_ft.fc.in_features\n",
        "model_ft.fc = nn.Linear(num_ftrs, 10)\n",
        "\n",
        "lr = 1e-4 #@param\n",
        "momentum = 0.9 #@param\n",
        "step_size  = 7 #@param\n",
        "gamma = 0.1 #@param\n",
        "\n",
        "model_ft = model_ft.to(device)\n",
        "\n",
        "criterion = torch.nn.CrossEntropyLoss() #@param [\"torch.nn.CrossEntropyLoss()\", \"torch.nn.NLLLoss()\", \"torch.nn.MultiLabelSoftMarginLoss()\"] {type:\"raw\"}\n",
        "\n",
        "# Observe that all parameters are being optimized\n",
        "optimizer_ft = torch.optim.SGD(model_ft.parameters(), lr=lr, momentum=momentum)\n",
        "\n",
        "# Decay LR by a factor of 0.1 every 7 epochs\n",
        "scheduler = torch.optim.lr_scheduler.StepLR(optimizer_ft, step_size=step_size, gamma=gamma)\n",
        "\n",
        "#@markdown ---\n",
        "#@markdown Here we will set our model's hyper-parameters. "
      ],
      "execution_count": 0,
      "outputs": []
    },
    {
      "cell_type": "code",
      "metadata": {
        "id": "aGus3z0BbxsS",
        "colab_type": "code",
        "outputId": "5a338ccb-5a0e-46a4-ca4b-13571c7c7a8b",
        "colab": {
          "base_uri": "https://localhost:8080/",
          "height": 1000
        }
      },
      "source": [
        "#@title Here we can see all the architectures we can clone and use as reference\n",
        "dir(models)\n",
        "#@markdown ---\n",
        "#@markdown Change the line first code line ```model_ft = models.<archi_you_want>(Pretrained = {True,False})```\n",
        "#@markdown <br>if the argument <Pretrained> is set as True, we will download the pre-trained  model with the imagenet dataset,\n",
        "#@markdown so we can use transfer learning technique in order to improve model's accuracy <br>\n",
        "\n",
        "#@markdown ---\n",
        "#@markdown I suggest, if you want to explore all the models, to read the paper related to it. Depending of the model the input dimensionality is different, therefore you need to resize the input shape to pair the model's shape \n"
      ],
      "execution_count": 0,
      "outputs": [
        {
          "output_type": "execute_result",
          "data": {
            "text/plain": [
              "['AlexNet',\n",
              " 'DenseNet',\n",
              " 'GoogLeNet',\n",
              " 'GoogLeNetOutputs',\n",
              " 'Inception3',\n",
              " 'InceptionOutputs',\n",
              " 'MNASNet',\n",
              " 'MobileNetV2',\n",
              " 'ResNet',\n",
              " 'ShuffleNetV2',\n",
              " 'SqueezeNet',\n",
              " 'VGG',\n",
              " '_GoogLeNetOutputs',\n",
              " '_InceptionOutputs',\n",
              " '__builtins__',\n",
              " '__cached__',\n",
              " '__doc__',\n",
              " '__file__',\n",
              " '__loader__',\n",
              " '__name__',\n",
              " '__package__',\n",
              " '__path__',\n",
              " '__spec__',\n",
              " '_utils',\n",
              " 'alexnet',\n",
              " 'densenet',\n",
              " 'densenet121',\n",
              " 'densenet161',\n",
              " 'densenet169',\n",
              " 'densenet201',\n",
              " 'detection',\n",
              " 'googlenet',\n",
              " 'inception',\n",
              " 'inception_v3',\n",
              " 'mnasnet',\n",
              " 'mnasnet0_5',\n",
              " 'mnasnet0_75',\n",
              " 'mnasnet1_0',\n",
              " 'mnasnet1_3',\n",
              " 'mobilenet',\n",
              " 'mobilenet_v2',\n",
              " 'quantization',\n",
              " 'resnet',\n",
              " 'resnet101',\n",
              " 'resnet152',\n",
              " 'resnet18',\n",
              " 'resnet34',\n",
              " 'resnet50',\n",
              " 'resnext101_32x8d',\n",
              " 'resnext50_32x4d',\n",
              " 'segmentation',\n",
              " 'shufflenet_v2_x0_5',\n",
              " 'shufflenet_v2_x1_0',\n",
              " 'shufflenet_v2_x1_5',\n",
              " 'shufflenet_v2_x2_0',\n",
              " 'shufflenetv2',\n",
              " 'squeezenet',\n",
              " 'squeezenet1_0',\n",
              " 'squeezenet1_1',\n",
              " 'utils',\n",
              " 'vgg',\n",
              " 'vgg11',\n",
              " 'vgg11_bn',\n",
              " 'vgg13',\n",
              " 'vgg13_bn',\n",
              " 'vgg16',\n",
              " 'vgg16_bn',\n",
              " 'vgg19',\n",
              " 'vgg19_bn',\n",
              " 'video',\n",
              " 'wide_resnet101_2',\n",
              " 'wide_resnet50_2']"
            ]
          },
          "metadata": {
            "tags": []
          },
          "execution_count": 15
        }
      ]
    },
    {
      "cell_type": "code",
      "metadata": {
        "id": "KJRhYJGnz-9i",
        "colab_type": "code",
        "colab": {}
      },
      "source": [
        "model = train_model(model_ft,criterion, optimizer_ft, scheduler)"
      ],
      "execution_count": 0,
      "outputs": []
    },
    {
      "cell_type": "code",
      "metadata": {
        "id": "2cFpv1Dl0GW-",
        "colab_type": "code",
        "outputId": "7610ebbc-ffd7-4217-b3d7-cd8c7c31aeb7",
        "colab": {
          "base_uri": "https://localhost:8080/",
          "height": 51
        }
      },
      "source": [
        "evaluate()"
      ],
      "execution_count": 0,
      "outputs": [
        {
          "output_type": "stream",
          "text": [
            "Acc test_set: 0.2788\n",
            "Acc training_set: 0.2767\n"
          ],
          "name": "stdout"
        }
      ]
    },
    {
      "cell_type": "code",
      "metadata": {
        "id": "CrlGs1060Hzb",
        "colab_type": "code",
        "colab": {}
      },
      "source": [
        "#@title Selecting the ResNet18 architecture [reference](https://arxiv.org/abs/1512.03385) and using Transfer Learning \n",
        "#@markdown ---\n",
        "#@markdown In Transfer Learning we can freeze some layers (do not update them) and make a fine-tunning on the others\n",
        "#@markdown <br> Here we will freeze all the convolutional layers and train only the MLP classifier\n",
        "model_ft = models.resnet18(pretrained=True)\n",
        "for param in model_ft.parameters():\n",
        "    param.requires_grad = False\n",
        "    \n",
        "num_ftrs = model_ft.fc.in_features\n",
        "\n",
        "############### EDIT the Classifier here ################\n",
        "model_ft.fc = nn.Linear(num_ftrs, 290)\n",
        "model_ft.act = nn.ReLU()\n",
        "model_ft.fc2 = nn.Linear(290,10)\n",
        "    \n",
        "#########################################################\n",
        "\n",
        "\n",
        "\n",
        "lr = 1e-4 #@param\n",
        "momentum = 0.9 #@param\n",
        "step_size  = 7 #@param\n",
        "gamma = 0.1 #@param\n",
        "\n",
        "model_ft = model_ft.to(device)\n",
        "\n",
        "criterion = torch.nn.CrossEntropyLoss() #@param [\"torch.nn.CrossEntropyLoss()\", \"torch.nn.NLLLoss()\", \"torch.nn.MultiLabelSoftMarginLoss()\"] {type:\"raw\"}\n",
        "\n",
        "# Observe that all parameters are being optimized\n",
        "optimizer_ft = torch.optim.SGD(model_ft.parameters(), lr=lr, momentum=momentum)\n",
        "\n",
        "# Decay LR by a factor of 0.1 every 7 epochs\n",
        "scheduler = torch.optim.lr_scheduler.StepLR(optimizer_ft, step_size=step_size, gamma=gamma)\n",
        "\n",
        "#@markdown ---\n",
        "#@markdown Here we will set our model's hyper-parameters. "
      ],
      "execution_count": 0,
      "outputs": []
    },
    {
      "cell_type": "code",
      "metadata": {
        "id": "ueGxr5mm9NMU",
        "colab_type": "code",
        "colab": {}
      },
      "source": [
        "model = train_model(model_ft, criterion, optimizer_ft, scheduler, 25)"
      ],
      "execution_count": 0,
      "outputs": []
    },
    {
      "cell_type": "code",
      "metadata": {
        "id": "SVlMpFe8CnA2",
        "colab_type": "code",
        "outputId": "28b7590c-6dcf-4087-d6b2-2683e38ecd59",
        "colab": {
          "base_uri": "https://localhost:8080/",
          "height": 51
        }
      },
      "source": [
        "evaluate(model, dataloaders['val'])"
      ],
      "execution_count": 0,
      "outputs": [
        {
          "output_type": "stream",
          "text": [
            "Acc test_set: 0.2763\n",
            "Acc training_set: 0.2662\n"
          ],
          "name": "stdout"
        }
      ]
    },
    {
      "cell_type": "code",
      "metadata": {
        "id": "Bd4uNiUJLV_x",
        "colab_type": "code",
        "outputId": "5caa4928-d8b8-4d82-a5a1-38787c3739d1",
        "colab": {
          "base_uri": "https://localhost:8080/",
          "height": 83,
          "referenced_widgets": [
            "9bfaf68fb7be494a8d7dcf624a960368",
            "3b539d0d330f4fe5972b61ac70c90805",
            "8171326ad6f64aaf80c38c0ca6d70749",
            "f854d2cb82044a6a8774c2d58733f55d",
            "8fda8a525f3f49c18c363fbd7f687f7e",
            "a1061f14aa064bb590053cd31f802a2a",
            "99ba0b9a2eaa4eea8f7164f91b52ee9c",
            "1f5ae53f5983432f8dfc88c255f72936"
          ]
        }
      },
      "source": [
        "#@title Transfer Learning using fine-tunning\n",
        "model_ft = models.resnet18(pretrained=True)\n",
        "for param in model_ft.parameters():\n",
        "    param.requires_grad = True #@markdown ```param.requires_grad = True```<br> setting this parameter as True we unfreeze all the layers and backwards the error - it updates all the model.\n",
        "    \n",
        "num_ftrs = model_ft.fc.in_features\n",
        "model_ft.fc = nn.Sequential(\n",
        "        nn.Linear(num_ftrs, 290),\n",
        "        nn.ReLU(),\n",
        "        nn.Dropout(0.6),\n",
        "        nn.Linear(290,126),\n",
        "        nn.ReLU(),\n",
        "        nn.Linear(126,10),\n",
        "        nn.LogSoftmax(dim = 1))\n",
        "\n",
        "lr = 1e-4 #@param\n",
        "momentum = 0.9 #@param\n",
        "step_size  = 7 #@param\n",
        "gamma = 0.1 #@param\n",
        "\n",
        "model_ft = model_ft.to(device)\n",
        "\n",
        "criterion = torch.nn.CrossEntropyLoss() #@param [\"torch.nn.CrossEntropyLoss()\", \"torch.nn.NLLLoss()\", \"torch.nn.MultiLabelSoftMarginLoss()\"] {type:\"raw\"}\n",
        "\n",
        "# Observe that all parameters are being optimized\n",
        "optimizer_ft = torch.optim.SGD(model_ft.parameters(), lr=lr, momentum=momentum)\n",
        "\n",
        "# Decay LR by a factor of 0.1 every 7 epochs\n",
        "scheduler = torch.optim.lr_scheduler.StepLR(optimizer_ft, step_size=step_size, gamma=gamma)\n",
        "\n",
        "#@markdown ---\n",
        "#@markdown Here we will set our model's hyper-parameters. \n"
      ],
      "execution_count": 0,
      "outputs": [
        {
          "output_type": "stream",
          "text": [
            "Downloading: \"https://download.pytorch.org/models/resnet18-5c106cde.pth\" to /root/.cache/torch/checkpoints/resnet18-5c106cde.pth\n"
          ],
          "name": "stderr"
        },
        {
          "output_type": "display_data",
          "data": {
            "application/vnd.jupyter.widget-view+json": {
              "model_id": "9bfaf68fb7be494a8d7dcf624a960368",
              "version_minor": 0,
              "version_major": 2
            },
            "text/plain": [
              "HBox(children=(IntProgress(value=0, max=46827520), HTML(value='')))"
            ]
          },
          "metadata": {
            "tags": []
          }
        },
        {
          "output_type": "stream",
          "text": [
            "\n"
          ],
          "name": "stdout"
        }
      ]
    },
    {
      "cell_type": "code",
      "metadata": {
        "id": "EmL3fX20Lkju",
        "colab_type": "code",
        "outputId": "7011c873-c014-4a49-96c5-fb4da8278dad",
        "colab": {
          "base_uri": "https://localhost:8080/",
          "height": 476
        }
      },
      "source": [
        "model = train_model(model_ft, criterion, optimizer_ft, scheduler, 5)"
      ],
      "execution_count": 0,
      "outputs": [
        {
          "output_type": "stream",
          "text": [
            "Epoch 0/4\n",
            "----------\n",
            "train Loss: 2.3049 Acc: 0.1003\n",
            "val Loss: 2.3007 Acc: 0.1192\n",
            "\n",
            "Epoch 1/4\n",
            "----------\n",
            "train Loss: 2.3030 Acc: 0.1001\n",
            "val Loss: 2.3025 Acc: 0.0930\n",
            "\n",
            "Epoch 2/4\n",
            "----------\n",
            "train Loss: 2.3029 Acc: 0.0995\n",
            "val Loss: 2.3012 Acc: 0.1056\n",
            "\n",
            "Epoch 3/4\n",
            "----------\n",
            "train Loss: 2.3030 Acc: 0.0994\n",
            "val Loss: 2.3019 Acc: 0.0950\n",
            "\n",
            "Epoch 4/4\n",
            "----------\n",
            "train Loss: 2.3029 Acc: 0.0968\n",
            "val Loss: 2.3017 Acc: 0.0960\n",
            "\n",
            "Training complete in 76m 54s\n",
            "Best val Acc: 0.119200\n"
          ],
          "name": "stdout"
        }
      ]
    },
    {
      "cell_type": "code",
      "metadata": {
        "id": "1020X8upXURR",
        "colab_type": "code",
        "outputId": "8110d32f-77cb-42e2-dd15-9a7b26a10377",
        "colab": {
          "base_uri": "https://localhost:8080/",
          "height": 917
        }
      },
      "source": [
        "evaluate(model, dataloaders['val'])"
      ],
      "execution_count": 0,
      "outputs": [
        {
          "output_type": "stream",
          "text": [
            "Acc test_set: 0.1192\n",
            "[2, 1, 5, 6, 8, 7, 9, 6, 8, 1, 6, 3, 2, 9, 9, 5, 5, 6, 3, 4, 5, 2, 1, 0, 1, 1, 4, 5, 5, 7, 8, 3, 8, 8, 4, 4, 1, 6, 2, 3, 9, 4, 7, 8, 5, 3, 8, 6, 7, 2, 4, 3, 7, 8, 7, 1, 7, 6, 3, 4, 6, 9, 9, 3, 6, 3, 2, 9, 2, 0, 8, 2, 6, 5, 3, 8, 6, 2, 4, 5, 9, 3, 9, 5, 1, 3, 4, 8, 8, 5, 2, 0, 9, 4, 8, 6, 4, 7, 0, 6, 5, 7, 5, 5, 5, 0, 8, 3, 6, 6, 1, 1, 9, 4, 2, 2, 6, 2, 9, 4, 8, 4, 0, 7, 9, 2, 8, 0, 6, 8, 7, 7, 5, 2, 1, 0, 0, 2, 3, 3, 1, 0, 7, 5, 4, 6, 4, 0, 6, 2, 6, 8, 6, 6, 0, 3, 6, 2, 5, 5, 0, 4, 0, 7, 0, 0, 3, 0, 6, 8, 1, 3, 4, 0, 1, 7, 7, 8, 8, 7, 0, 6, 8, 3, 3, 1, 8, 5, 6, 0, 5, 7, 6, 2, 4, 2, 0, 9, 2, 5, 2, 4, 6, 9, 2, 1, 3, 9, 6, 8, 6, 8, 3, 6, 6, 0, 2, 5, 9, 0, 9, 0, 7, 0, 4, 7, 2, 6, 5, 6, 3, 3, 1, 5, 3, 0, 3, 7, 0, 1, 7, 0, 6, 0, 7, 5, 1, 9, 9, 2, 2, 0, 1, 7, 4, 9, 1, 8, 3, 2, 2, 0, 3, 1, 2, 9, 9, 9, 6, 1, 0, 1, 7, 1, 8, 4, 4, 4, 6, 1, 3, 6, 6, 7, 8, 3, 0, 6, 6, 6, 9, 1, 9, 7, 5, 5, 1, 6, 6, 4, 5, 5, 0, 3, 5, 4, 5, 1, 1, 9, 7, 6, 3, 1, 6, 0, 1, 5, 0, 8, 6, 7, 5, 7, 1, 5, 7, 8, 1, 9, 2, 8, 0, 4, 3, 8, 5, 8, 4, 5, 6, 0, 3, 7, 8, 3, 7, 6, 7, 6, 6, 6, 9, 3, 6, 6, 7, 3, 9, 1, 6, 1, 5, 7, 6, 8, 4, 0, 6, 6, 7, 3, 0, 7, 9, 3, 2, 5, 3, 6, 3, 8, 9, 7, 0, 3, 8, 4, 4, 0, 9, 4, 4, 6, 9, 6, 2, 2, 0, 8, 2, 5, 9, 5, 3, 7, 4, 0, 4, 4, 7, 4, 0, 2, 5, 8, 1, 3, 6, 4, 6, 2, 7, 5, 1, 0, 8, 2, 7, 0, 5, 1, 8, 0, 2, 1, 2, 7, 2, 3, 6, 9, 1, 6, 2, 3, 5, 3, 3, 3, 1, 6, 6, 7, 1, 3, 0, 5, 7, 0, 9, 9, 4, 2, 1, 5, 2, 8, 1, 7, 2, 6, 3, 7, 3, 3, 0, 8, 0, 9, 3, 8, 3, 0, 0, 6, 6, 3, 7, 5, 6, 4, 9, 8, 9, 7, 4, 7, 6, 7, 5, 0, 1, 8, 8, 4, 8, 3, 8, 8, 3, 8, 1, 8, 9, 9, 6, 4, 9, 0, 1, 5, 0, 2, 2, 5, 8, 6, 5, 8, 6, 7, 3, 4, 8, 0, 2, 4, 0, 3, 1, 3, 3, 9, 8, 2, 4, 7, 4, 0, 1, 5, 2, 6, 1, 8, 1, 2, 5, 5, 9, 3, 4, 2, 3, 8, 6, 9, 1, 3, 4, 7, 8, 1, 9, 2, 9, 7, 0, 8, 9, 9, 3, 5, 3, 5, 9, 0, 9, 1, 0, 4, 8, 4, 8, 1, 0, 0, 1, 8, 6, 8, 0, 5, 0, 8, 7, 0, 5, 5, 1, 1, 3, 6, 2, 4, 7, 0, 0, 5, 0, 7, 3, 2, 2, 3, 2, 2, 6, 8, 0, 4, 6, 5, 6, 7, 9, 0, 7, 0, 7, 6, 1, 9, 6, 9, 2, 0, 4, 8, 9, 7, 2, 6, 3, 6, 6, 5, 2, 4, 2, 3, 8, 5, 1, 3, 9, 1, 7, 4, 1, 4, 6, 2, 1, 2, 5, 8, 6, 0, 7, 8, 1, 3, 8, 2, 5, 5, 0, 7, 7, 2, 9, 1, 8, 4, 4, 6, 7, 0, 0, 3, 6, 4, 4, 4, 6, 0, 3, 9, 7, 7, 5, 2, 5, 9, 3, 8, 8, 0, 0, 7, 1, 3, 9, 8, 3, 6, 3, 3, 8, 3, 9, 7, 2, 7, 0, 7, 2, 1, 8, 2, 1, 9, 3, 5, 1, 2, 6, 3, 2, 9, 3, 3, 8, 7, 0, 7, 9, 1, 6, 7, 4, 8, 7, 5, 8, 8, 0, 9, 6, 5, 3, 1, 1, 5, 9, 2, 9, 8, 7, 3, 6, 2, 2, 6, 3, 5, 0, 8, 2, 9, 5, 7, 6, 1, 6, 1, 0, 8, 5, 9, 0, 8, 4, 9, 6, 9, 4, 5, 0, 3, 7, 4, 9, 6, 2, 0, 2, 7, 2, 8, 0, 0, 9, 1, 8, 6, 8, 0, 2, 7, 6, 0, 6, 8, 8, 4, 5, 7, 7, 5, 8, 3, 2, 1, 3, 2, 7, 9, 1, 5, 2, 4, 0, 1, 0, 2, 0, 5, 0, 1, 7, 4, 2, 1, 4, 8, 6, 4, 9, 0, 1, 6, 4, 4, 1, 8, 5, 8, 7, 2, 9, 2, 5, 8, 0, 5, 7, 9, 2, 7, 3, 2, 9, 0, 5, 6, 2, 1, 8, 7, 4, 4, 9, 4, 8, 6, 6, 5, 2, 5, 2, 4, 3, 3, 9, 2, 1, 1, 6, 3, 5, 2, 4, 5, 1, 0, 5, 4, 9, 1, 3, 6, 1, 0, 9, 6, 5, 1, 1, 7, 1, 5, 7, 9, 4, 5, 2, 7, 6, 6, 9, 0, 3, 9, 1, 7, 4, 8, 8, 2, 5, 7, 7, 5, 4, 7, 8, 2, 8, 5, 8, 4, 0, 7, 0, 3, 5, 6, 1, 3, 7, 3, 8, 5, 4, 7, 9, 8, 3, 4, 7, 3, 2, 2, 1, 1, 7, 5, 9, 4, 1, 0, 8, 6, 8, 1, 7, 5, 6, 8, 0, 7, 3, 4, 8, 3, 9, 6, 7, 7, 9, 8, 9, 5, 0, 3, 9, 0, 5, 8, 2, 2, 4, 5, 3, 7, 3, 1, 7, 5, 0, 5, 6, 6, 1, 6, 9, 8, 0, 9, 9, 7, 8, 3, 0, 9, 3, 7, 2, 5, 7, 3, 7, 8, 1, 8, 2, 4, 2, 8, 4, 5, 3, 5, 2, 7, 2, 9, 9, 9, 0, 6, 7, 9, 6, 9, 1, 3, 7, 5, 0, 9, 9, 0, 8, 8, 3, 7, 6, 0, 2, 4, 3, 6, 2, 8, 4, 2, 8, 8, 3, 5, 7, 5, 8, 5, 2, 3, 3, 4, 1, 3, 7, 1, 8, 0, 1, 9, 4, 8, 4, 4, 6, 1, 0, 0, 9, 8, 2, 4, 2, 6, 7, 3, 3, 4, 1, 7, 9, 2, 1, 0, 2, 1, 5, 4, 2, 8, 2, 9, 8, 9, 2, 5, 1, 2, 5, 9, 0, 5, 1, 0, 6, 8, 8, 1, 6, 2, 0, 4, 8, 1, 4, 2, 2, 7, 0, 0, 3, 7, 9, 0, 0, 9, 7, 1, 4, 5, 6, 5, 6, 4, 7, 1, 3, 3, 1, 5, 5, 1, 6, 7, 7, 0, 8, 6, 5, 1, 3, 5, 9, 3, 3, 7, 0, 4, 1, 0, 9, 5, 3, 0, 5, 2, 3, 1, 1, 6, 5, 8, 5, 9, 8, 5, 3, 3, 7, 9, 6, 2, 5, 4, 6, 6, 9, 1, 9, 6, 3, 5, 9, 6, 3, 2, 4, 0, 6, 7, 4, 5, 5, 1, 1, 4, 4, 7, 6, 6, 9, 9, 2, 3, 9, 2, 9, 7, 8, 1, 2, 7, 7, 3, 6, 0, 9, 8, 2, 9, 2, 7, 7, 6, 9, 7, 0, 2, 9, 7, 2, 9, 4, 3, 8, 2, 6, 2, 2, 8, 7, 2, 9, 6, 0, 3, 5, 7, 9, 9, 7, 2, 4, 2, 2, 0, 4, 9, 2, 9, 3, 9, 8, 1, 4, 3, 3, 8, 1, 8, 3, 6, 0, 4, 9, 5, 4, 0, 9, 7, 5, 0, 6, 0, 8, 9, 0, 9, 4, 3, 1, 2, 9, 2, 2, 2, 7, 3, 9, 5, 6, 3, 4, 0, 1, 6, 8, 6, 3, 4, 0, 3, 0, 8, 1, 8, 1, 9, 7, 9, 5, 6, 0, 3, 7, 0, 0, 5, 5, 6, 4, 3, 1, 5, 1, 8, 2, 5, 7, 7, 8, 3, 0, 7, 0, 4, 2, 7, 3, 7, 8, 1, 9, 0, 8, 6, 7, 4, 0, 0, 7, 1, 3, 8, 5, 8, 6, 8, 7, 7, 5, 2, 6, 5, 4, 1, 5, 0, 5, 0, 2, 0, 2, 1, 1, 8, 6, 6, 0, 1, 7, 3, 3, 6, 5, 6, 7, 3, 5, 4, 5, 7, 5, 3, 3, 6, 9, 4, 0, 1, 6, 2, 6, 4, 8, 2, 9, 6, 3, 9, 1, 3, 1, 0, 4, 7, 3, 0, 6, 8, 2, 6, 8, 5, 6, 2, 9, 5, 4, 4, 0, 7, 3, 9, 3, 5, 6, 7, 4, 0, 9, 1, 5, 8, 4, 0, 4, 9, 6, 9, 2, 9, 3, 9, 0, 4, 6, 1, 0, 8, 3, 4, 0, 3, 2, 7, 5, 1, 5, 5, 1, 2, 2, 7, 5, 7, 2, 9, 9, 1, 7, 2, 3, 1, 2, 7, 5, 3, 7, 0, 9, 6, 0, 6, 8, 1, 4, 1, 2, 1, 4, 6, 7, 7, 5, 0, 1, 8, 9, 3, 8, 4, 3, 3, 1, 0, 6, 6, 7, 6, 1, 8, 1, 8, 0, 9, 9, 2, 8, 6, 0, 9, 8, 2, 3, 8, 2, 7, 0, 3, 3, 1, 2, 4, 0, 1, 2, 8, 8, 1, 6, 2, 9, 6, 9, 7, 4, 7, 6, 2, 9, 1, 5, 0, 5, 2, 1, 9, 9, 6, 9, 8, 0, 7, 9, 0, 1, 5, 9, 8, 9, 5, 0, 5, 3, 2, 3, 2, 4, 7, 8, 9, 8, 4, 4, 9, 3, 8, 6, 6, 4, 6, 2, 6, 7, 6, 4, 7, 2, 3, 4, 5, 2, 4, 5, 2, 3, 9, 9, 2, 7, 1, 1, 5, 1, 8, 0, 6, 6, 6, 7, 4, 5, 9, 0, 7, 2, 0, 0, 1, 8, 3, 4, 8, 5, 8, 5, 7, 8, 3, 3, 5, 0, 2, 8, 7, 1, 6, 3, 4, 1, 7, 1, 2, 0, 8, 1, 8, 6, 6, 9, 9, 5, 2, 2, 6, 6, 4, 8, 7, 0, 2, 5, 3, 6, 6, 6, 9, 1, 5, 8, 4, 8, 2, 8, 5, 6, 7, 1, 6, 0, 5, 5, 1, 8, 9, 0, 6, 8, 8, 5, 2, 3, 3, 8, 1, 9, 5, 7, 4, 8, 9, 4, 2, 7, 7, 5, 1, 4, 8, 2, 6, 3, 9, 2, 9, 7, 8, 6, 3, 6, 3, 2, 6, 2, 5, 3, 7, 4, 1, 4, 4, 1, 5, 0, 5, 4, 0, 4, 9, 9, 5, 3, 6, 6, 7, 9, 4, 0, 1, 6, 9, 1, 9, 8, 1, 3, 3, 3, 2, 6, 3, 9, 5, 8, 4, 7, 1, 3, 3, 9, 9, 0, 1, 3, 5, 2, 0, 9, 6, 4, 9, 8, 5, 7, 2, 5, 0, 6, 3, 6, 8, 2, 9, 6, 0, 5, 3, 2, 3, 3, 1, 2, 2, 0, 0, 1, 7, 0, 5, 4, 7, 8, 4, 2, 0, 7, 4, 2, 9, 3, 4, 1, 8, 2, 6, 5, 8, 6, 3, 4, 7, 7, 5, 3, 0, 1, 4, 4, 2, 1, 5, 8, 6, 0, 6, 3, 9, 8, 2, 4, 9, 2, 1, 6, 0, 3, 9, 4, 7, 1, 7, 2, 4, 4, 6, 5, 4, 2, 1, 4, 3, 2, 6, 2, 7, 5, 3, 9, 5, 6, 9, 5, 4, 3, 1, 8, 3, 2, 6, 9, 4, 8, 4, 5, 0, 5, 1, 4, 4, 6, 6, 0, 7, 5, 4, 2, 9, 1, 4, 5, 8, 0, 9, 3, 7, 6, 0, 3, 6, 7, 2, 9, 7, 8, 9, 7, 3, 6, 9, 0, 2, 4, 8, 6, 7, 5, 3, 4, 9, 2, 4, 3, 1, 8, 8, 4, 0, 3, 4, 7, 3, 8, 0, 5, 2, 7, 0, 4, 8, 1, 1, 6, 7, 0, 5, 4, 7, 3, 6, 7, 3, 4, 1, 7, 9, 8, 8, 3, 8, 4, 3, 3, 9, 7, 3, 3, 8, 6, 5, 9, 0, 7, 5, 6, 2, 1, 7, 9, 0, 6, 9, 0, 2, 2, 8, 3, 5, 8, 6, 2, 8, 8, 2, 9, 0, 6, 1, 8, 1, 7, 6, 1, 3, 2, 4, 8, 0, 0, 2, 0, 1, 5, 9, 9, 4, 0, 5, 5, 4, 4, 4, 2, 4, 4, 2, 6, 2, 7, 3, 8, 9, 6, 9, 4, 2, 5, 5, 1, 3, 3, 1, 3, 5, 2, 3, 0, 9, 2, 2, 0, 2, 5, 8, 0, 3, 5, 2, 7, 4, 6, 6, 2, 4, 0, 3, 6, 3, 9, 8, 8, 0, 6, 2, 3, 7, 1, 1, 0, 4, 8, 6, 3, 1, 4, 4, 6, 0, 9, 2, 3, 0, 9, 6, 7, 6, 7, 5, 9, 9, 3, 1, 6, 4, 6, 9, 0, 4, 9, 0, 2, 1, 5, 7, 1, 4, 5, 7, 8, 9, 3, 8, 4, 6, 5, 4, 4, 5, 9, 3, 6, 3, 7, 2, 0, 2, 2, 1, 7, 0, 3, 6, 0, 4, 9, 9, 8, 5, 1, 2, 5, 5, 7, 9, 9, 9, 9, 0, 2, 9, 8, 2, 9, 6, 7, 0, 6, 1, 2, 7, 9, 4, 6, 5, 4, 9, 6, 3, 9, 6, 0, 1, 1, 4, 3, 9, 5, 4, 9, 3, 8, 9, 0, 3, 2, 4, 3, 9, 0, 1, 3, 8, 5, 7, 3, 4, 1, 6, 7, 2, 6, 5, 1, 9, 2, 8, 2, 9, 6, 0, 8, 4, 2, 2, 7, 8, 6, 6, 7, 1, 2, 7, 1, 5, 8, 7, 0, 4, 9, 5, 7, 0, 1, 0, 6, 2, 9, 7, 9, 0, 8, 2, 1, 7, 8, 5, 0, 7, 0, 5, 1, 8, 6, 0, 0, 4, 4, 2, 1, 0, 9, 3, 0, 5, 2, 5, 5, 6, 5, 1, 9, 4, 9, 5, 3, 6, 2, 4, 3, 1, 5, 9, 6, 1, 5, 2, 7, 1, 3, 7, 0, 6, 1, 9, 3, 5, 4, 0, 9, 3, 5, 5, 1, 1, 8, 6, 9, 4, 7, 0, 5, 6, 3, 6, 3, 0, 5, 7, 7, 4, 6, 9, 8, 3, 9, 9, 0, 6, 0, 4, 3, 1, 9, 0, 4, 2, 9, 5, 4, 1, 5, 3, 0, 1, 2, 5, 6, 1, 2, 4, 3, 8, 9, 1, 2, 4, 2, 9, 0, 8, 3, 0, 3, 6, 5, 0, 7, 0, 6, 0, 0, 4, 7, 4, 2, 4, 8, 9, 4, 2, 9, 8, 6, 6, 8, 1, 6, 8, 5, 9, 7, 5, 4, 4, 6, 3, 2, 5, 7, 9, 0, 5, 4, 5, 4, 0, 7, 8, 5, 7, 7, 0, 0, 2, 4, 3, 0, 5, 6, 5, 9, 7, 9, 1, 6, 2, 3, 8, 3, 0, 5, 8, 3, 6, 5, 3, 4, 9, 2, 3, 3, 9, 5, 5, 6, 5, 7, 1, 0, 1, 1, 0, 8, 1, 1, 6, 1, 6, 0, 2, 7, 6, 9, 0, 9, 4, 3, 5, 5, 6, 9, 1, 9, 0, 7, 5, 1, 3, 7, 0, 1, 0, 4, 5, 0, 3, 2, 3, 5, 2, 5, 5, 1, 4, 3, 2, 2, 8, 1, 2, 5, 8, 9, 1, 4, 7, 0, 9, 4, 1, 0, 1, 3, 9, 7, 6, 3, 9, 1, 4, 9, 6, 8, 9, 5, 3, 2, 0, 2, 5, 8, 7, 1, 6, 1, 5, 0, 1, 4, 9, 8, 8, 2, 2, 3, 5, 6, 6, 4, 7, 2, 5, 9, 0, 2, 8, 1, 8, 3, 2, 6, 1, 7, 2, 5, 2, 7, 4, 8, 6, 4, 3, 7, 2, 0, 9, 0, 8, 0, 2, 1, 7, 1, 4, 2, 6, 2, 2, 3, 6, 1, 1, 5, 8, 0, 8, 2, 6, 0, 1, 6, 0, 6, 0, 8, 8, 7, 2, 9, 2, 1, 1, 1, 0, 6, 2, 7, 7, 7, 8, 8, 2, 6, 7, 5, 9, 8, 3, 0, 4, 7, 8, 9, 5, 9, 7, 2, 5, 1, 5, 1, 2, 9, 3, 2, 3, 5, 6, 3, 7, 9, 2, 7, 7, 8, 1, 3, 7, 1, 4, 0, 8, 4, 7, 5, 9, 5, 3, 7, 4, 5, 1, 7, 0, 1, 4, 7, 4, 1, 9, 1, 7, 9, 7, 2, 8, 0, 0, 9, 7, 4, 8, 1, 2, 5, 9, 5, 2, 6, 9, 4, 3, 4, 1, 0, 8, 1, 8, 6, 2, 3, 7, 6, 4, 9, 5, 4, 8, 4, 4, 9, 8, 4, 9, 4, 2, 3, 0, 9, 4, 4, 7, 4, 5, 9, 7, 1, 5, 3, 9, 2, 7, 6, 8, 7, 0, 9, 9, 8, 9, 6, 9, 2, 3, 5, 6, 2, 1, 8, 6, 6, 3, 8, 1, 7, 9, 7, 5, 1, 1, 3, 1, 3, 0, 3, 0, 7, 5, 3, 7, 9, 4, 6, 7, 5, 2, 0, 3, 7, 9, 4, 7, 7, 1, 9, 2, 0, 6, 2, 1, 5, 0, 7, 0, 4, 4, 6, 3, 3, 9, 1, 6, 9, 2, 6, 2, 9, 9, 5, 8, 6, 1, 3, 5, 7, 4, 2, 4, 1, 3, 5, 9, 1, 3, 3, 8, 6, 3, 7, 5, 7, 8, 7, 0, 4, 8, 8, 9, 2, 8, 6, 6, 3, 8, 4, 0, 2, 2, 5, 1, 6, 8, 7, 0, 1, 7, 0, 2, 8, 0, 1, 7, 0, 2, 0, 6, 5, 4, 8, 8, 0, 1, 8, 0, 8, 8, 0, 6, 8, 7, 5, 1, 5, 6, 5, 0, 5, 4, 6, 5, 2, 8, 4, 7, 5, 9, 3, 0, 4, 0, 2, 4, 9, 8, 1, 0, 3, 5, 8, 3, 3, 1, 2, 3, 2, 9, 4, 9, 2, 1, 0, 0, 8, 7, 0, 8, 5, 9, 6, 1, 4, 2, 3, 5, 9, 3, 2, 3, 5, 6, 6, 3, 2, 3, 3, 1, 7, 2, 0, 3, 3, 9, 9, 8, 6, 1, 2, 6, 4, 9, 4, 2, 1, 6, 2, 0, 0, 6, 1, 1, 0, 3, 2, 5, 9, 8, 1, 7, 7, 5, 2, 2, 9, 6, 3, 1, 0, 3, 6, 0, 3, 4, 9, 9, 9, 1, 5, 6, 3, 0, 4, 6, 3, 4, 2, 6, 1, 6, 1, 0, 7, 6, 3, 8, 2, 6, 3, 8, 5, 6, 9, 0, 3, 6, 9, 9, 7, 9, 3, 2, 1, 6, 2, 9, 5, 2, 1, 6, 3, 4, 8, 4, 6, 1, 7, 8, 5, 0, 4, 6, 6, 9, 2, 8, 0, 9, 8, 5, 3, 4, 1, 8, 4, 6, 4, 8, 6, 8, 4, 4, 7, 4, 9, 5, 7, 8, 1, 6, 3, 4, 5, 8, 1, 3, 5, 8, 0, 1, 7, 4, 0, 5, 7, 2, 6, 8, 3, 5, 3, 2, 3, 1, 8, 7, 1, 2, 8, 9, 4, 8, 5, 0, 8, 3, 3, 3, 4, 0, 7, 8, 8, 4, 3, 0, 1, 2, 4, 3, 6, 4, 1, 6, 4, 6, 2, 4, 2, 4, 8, 2, 2, 6, 4, 4, 4, 3, 5, 6, 5, 6, 2, 7, 1, 8, 9, 5, 9, 8, 1, 1, 7, 4, 6, 8, 6, 5, 8, 9, 1, 9, 0, 8, 3, 9, 9, 0, 6, 6, 8, 9, 7, 5, 9, 3, 9, 2, 3, 5, 3, 4, 3, 7, 1, 1, 8, 8, 5, 5, 4, 4, 9, 2, 7, 7, 9, 5, 3, 3, 2, 4, 6, 5, 1, 3, 8, 0, 4, 9, 0, 7, 3, 3, 1, 3, 1, 8, 6, 6, 8, 8, 6, 6, 6, 1, 8, 3, 5, 7, 0, 2, 9, 2, 2, 5, 4, 1, 6, 4, 7, 7, 2, 5, 9, 7, 9, 2, 3, 1, 8, 0, 9, 1, 5, 1, 7, 5, 2, 2, 2, 5, 0, 4, 6, 7, 9, 1, 5, 8, 4, 8, 2, 8, 8, 5, 9, 6, 4, 8, 3, 2, 9, 8, 2, 9, 8, 4, 5, 8, 0, 7, 3, 8, 6, 7, 6, 7, 2, 5, 3, 1, 6, 1, 8, 8, 3, 7, 2, 8, 2, 8, 4, 8, 9, 3, 0, 3, 4, 7, 9, 8, 8, 0, 4, 4, 0, 6, 4, 2, 5, 0, 2, 5, 1, 8, 3, 8, 1, 8, 6, 0, 7, 1, 8, 3, 4, 7, 6, 6, 7, 0, 1, 6, 8, 3, 6, 3, 4, 7, 0, 8, 9, 4, 3, 0, 0, 0, 9, 8, 3, 4, 5, 5, 3, 0, 7, 6, 2, 2, 9, 2, 3, 1, 5, 5, 7, 0, 0, 1, 2, 6, 6, 9, 5, 6, 4, 9, 5, 6, 2, 2, 7, 8, 4, 9, 1, 8, 6, 4, 4, 0, 1, 4, 1, 1, 1, 2, 4, 0, 5, 3, 0, 8, 9, 7, 4, 0, 4, 8, 0, 7, 4, 8, 6, 9, 1, 6, 9, 5, 1, 4, 2, 8, 7, 8, 6, 0, 8, 7, 4, 9, 5, 4, 1, 7, 7, 3, 1, 1, 7, 7, 2, 4, 8, 9, 9, 8, 0, 6, 0, 2, 4, 0, 5, 7, 0, 6, 4, 4, 5, 3, 9, 1, 8, 5, 2, 2, 9, 9, 8, 7, 4, 7, 1, 6, 6, 5, 1, 1, 8, 0, 6, 2, 0, 1, 2, 5, 1, 5, 9, 8, 9, 3, 3, 6, 6, 5, 0, 8, 2, 6, 7, 3, 5, 8, 3, 4, 4, 9, 6, 9, 5, 1, 5, 6, 9, 7, 4, 9, 1, 6, 8, 7, 7, 3, 7, 2, 8, 8, 5, 0, 8, 4, 3, 0, 6, 1, 3, 6, 3, 6, 6, 3, 6, 7, 8, 1, 5, 3, 0, 1, 2, 5, 6, 4, 5, 2, 7, 7, 5, 0, 3, 1, 2, 7, 8, 0, 7, 8, 6, 6, 5, 4, 8, 6, 6, 5, 5, 2, 5, 4, 4, 6, 5, 5, 5, 2, 2, 2, 9, 2, 7, 6, 0, 8, 3, 1, 0, 5, 0, 4, 6, 0, 4, 8, 9, 7, 1, 8, 5, 2, 1, 1, 9, 3, 6, 8, 5, 9, 8, 0, 3, 6, 7, 8, 4, 6, 6, 9, 3, 8, 9, 1, 5, 3, 2, 0, 1, 0, 7, 3, 5, 7, 7, 1, 2, 1, 1, 2, 1, 2, 2, 0, 8, 6, 1, 4, 7, 3, 3, 9, 3, 3, 2, 3, 6, 9, 6, 4, 5, 7, 1, 0, 5, 4, 2, 2, 7, 7, 9, 6, 9, 5, 8, 0, 3, 9, 9, 1, 7, 1, 3, 6, 7, 7, 8, 0, 2, 9, 9, 4, 7, 7, 5, 9, 0, 6, 2, 5, 9, 3, 1, 9, 5, 7, 1, 8, 6, 7, 3, 3, 1, 5, 9, 7, 1, 8, 9, 8, 8, 5, 3, 6, 6, 6, 2, 3, 5, 9, 0, 5, 4, 4, 1, 5, 8, 6, 7, 8, 1, 2, 3, 7, 0, 2, 7, 0, 7, 1, 2, 9, 0, 1, 1, 3, 4, 0, 9, 2, 4, 2, 9, 4, 9, 3, 3, 7, 9, 4, 0, 3, 8, 6, 7, 8, 2, 0, 2, 0, 3, 7, 7, 9, 6, 4, 5, 9, 5, 6, 5, 1, 7, 6, 4, 5, 8, 4, 2, 8, 4, 2, 1, 0, 6, 3, 1, 5, 4, 6, 3, 4, 8, 0, 0, 9, 1, 7, 8, 1, 5, 9, 1, 1, 0, 3, 2, 1, 9, 7, 4, 0, 0, 7, 0, 4, 8, 6, 7, 2, 1, 5, 1, 9, 4, 1, 7, 0, 7, 8, 6, 9, 4, 0, 6, 3, 7, 0, 6, 7, 9, 0, 6, 7, 1, 1, 8, 1, 0, 4, 2, 3, 2, 9, 9, 7, 8, 8, 4, 5, 0, 2, 3, 6, 2, 7, 9, 4, 0, 2, 7, 0, 1, 5, 2, 3, 1, 6, 6, 6, 0, 2, 3, 9, 3, 9, 7, 9, 8, 5, 7, 0, 3, 0, 4, 2, 8, 7, 7, 1, 8, 2, 5, 8, 7, 6, 1, 5, 5, 3, 8, 7, 8, 6, 9, 7, 9, 9, 7, 3, 1, 3, 5, 1, 7, 5, 5, 7, 4, 0, 7, 4, 4, 3, 1, 1, 0, 6, 1, 7, 8, 2, 2, 2, 9, 9, 3, 3, 0, 0, 0, 1, 3, 3, 5, 8, 8, 6, 6, 4, 5, 0, 5, 4, 3, 3, 1, 9, 3, 7, 7, 4, 3, 1, 6, 9, 3, 2, 6, 1, 1, 7, 0, 5, 3, 3, 8, 7, 9, 8, 3, 3, 8, 9, 0, 2, 7, 0, 4, 9, 6, 0, 3, 0, 0, 1, 5, 5, 5, 2, 1, 1, 2, 2, 3, 4, 4, 0, 0, 5, 5, 5, 3, 5, 2, 0, 1, 2, 3, 1, 7, 1, 5, 6, 0, 0, 2, 6, 6, 3, 1, 7, 9, 7, 1, 6, 6, 5, 4, 3, 7, 0, 2, 0, 5, 1, 0, 1, 2, 9, 6, 5, 8, 6, 2, 9, 0, 6, 6, 6, 8, 8, 7, 0, 9, 6, 6, 4, 0, 0, 3, 3, 3, 1, 6, 7, 7, 6, 0, 1, 3, 7, 1, 5, 0, 7, 2, 1, 4, 8, 5, 3, 7, 3, 4, 4, 6, 6, 6, 5, 4, 1, 5, 0, 4, 2, 0, 4, 0, 3, 7, 6, 7, 6, 1, 7, 2, 9, 8, 9, 0, 8, 7, 3, 3, 1, 7, 2, 3, 4, 9, 1, 0, 1, 4, 0, 0, 5, 5, 8, 8, 3, 1, 9, 5, 4, 9, 0, 8, 8, 6, 1, 1, 9, 2, 4, 5, 2, 4, 3, 7, 4, 8, 9, 9, 2, 8, 1, 6, 4, 9, 9, 9, 6, 4, 5, 2, 4, 3, 9, 5, 8, 0, 0, 2, 2, 9, 7, 8, 6, 1, 2, 7, 2, 6, 3, 6, 8, 9, 3, 9, 4, 7, 1, 2, 6, 0, 4, 1, 2, 9, 6, 3, 1, 3, 2, 9, 2, 2, 8, 1, 2, 0, 6, 8, 0, 3, 1, 6, 1, 4, 7, 4, 1, 6, 6, 8, 7, 2, 2, 2, 3, 6, 1, 3, 4, 7, 8, 6, 0, 0, 0, 4, 9, 3, 9, 6, 3, 5, 5, 4, 5, 9, 4, 4, 4, 3, 0, 4, 7, 7, 0, 2, 9, 4, 2, 0, 5, 7, 6, 9, 2, 1, 6, 4, 1, 2, 8, 5, 7, 7, 1, 7, 6, 5, 2, 7, 6, 1, 0, 2, 0, 8, 7, 5, 0, 1, 1, 7, 7, 5, 1, 4, 8, 4, 1, 0, 6, 9, 7, 2, 7, 0, 9, 9, 6, 2, 8, 3, 3, 5, 4, 7, 5, 0, 5, 8, 3, 6, 8, 8, 6, 1, 0, 7, 6, 5, 0, 1, 5, 7, 8, 2, 6, 7, 2, 8, 4, 5, 5, 4, 5, 6, 7, 7, 8, 0, 5, 8, 9, 6, 1, 6, 4, 3, 2, 1, 3, 4, 5, 0, 0, 4, 1, 5, 8, 1, 7, 2, 9, 8, 8, 9, 0, 3, 8, 9, 2, 1, 0, 5, 9, 7, 6, 3, 9, 9, 1, 1, 9, 5, 2, 5, 8, 9, 0, 1, 1, 1, 5, 3, 9, 0, 5, 5, 0, 8, 9, 5, 2, 7, 0, 6, 1, 5, 4, 8, 8, 7, 7, 1, 1, 7, 5, 7, 6, 4, 1, 1, 6, 0, 5, 3, 2, 3, 6, 3, 3, 4, 7, 1, 0, 4, 6, 5, 2, 1, 4, 1, 5, 9, 3, 4, 7, 4, 0, 5, 2, 9, 2, 3, 2, 9, 7, 5, 5, 3, 6, 8, 2, 0, 3, 6, 9, 4, 2, 9, 2, 5, 6, 1, 0, 8, 5, 2, 5, 3, 8, 3, 0, 5, 0, 5, 1, 6, 9, 4, 8, 9, 1, 5, 0, 9, 9, 2, 8, 4, 8, 4, 0, 6, 5, 5, 8, 9, 0, 0, 2, 4, 6, 6, 7, 9, 8, 0, 4, 9, 2, 0, 0, 0, 4, 8, 3, 7, 5, 1, 0, 7, 4, 5, 9, 0, 9, 1, 4, 8, 0, 9, 3, 0, 9, 8, 6, 8, 3, 8, 9, 5, 2, 8, 4, 9, 3, 1, 5, 7, 8, 4, 1, 3, 5, 8, 4, 7, 1, 7, 9, 7, 9, 8, 6, 4, 3, 7, 1, 9, 0, 1, 8, 9, 1, 1, 4, 2, 2, 7, 0, 5, 5, 3, 7, 7, 2, 6, 0, 3, 5, 4, 8, 9, 7, 4, 9, 1, 3, 4, 4, 4, 7, 8, 1, 3, 0, 4, 8, 0, 6, 6, 4, 5, 2, 2, 6, 8, 3, 3, 9, 3, 3, 4, 5, 9, 3, 6, 5, 4, 1, 1, 1, 9, 8, 4, 4, 3, 2, 5, 2, 1, 3, 0, 3, 6, 3, 5, 4, 7, 8, 4, 8, 2, 8, 5, 9, 3, 9, 5, 1, 1, 7, 7, 1, 8, 5, 7, 9, 5, 6, 7, 5, 0, 9, 4, 1, 2, 5, 0, 3, 8, 1, 9, 2, 6, 9, 5, 3, 7, 3, 0, 5, 8, 1, 5, 8, 4, 7, 0, 6, 2, 5, 6, 5, 6, 8, 3, 4, 5, 3, 2, 4, 9, 8, 8, 1, 2, 5, 3, 7, 8, 9, 4, 2, 1, 2, 3, 1, 7, 5, 4, 0, 4, 3, 5, 5, 7, 7, 0, 5, 2, 5, 2, 4]\n",
            "              precision    recall  f1-score   support\n",
            "\n",
            "           0       0.09      0.09      0.09       505\n",
            "           1       0.14      0.34      0.20       501\n",
            "           2       0.12      0.12      0.12       495\n",
            "           3       0.12      0.02      0.04       510\n",
            "           4       0.10      0.04      0.06       474\n",
            "           5       0.11      0.19      0.14       505\n",
            "           6       0.07      0.03      0.05       522\n",
            "           7       0.11      0.20      0.14       493\n",
            "           8       0.16      0.11      0.13       492\n",
            "           9       0.18      0.05      0.08       503\n",
            "\n",
            "    accuracy                           0.12      5000\n",
            "   macro avg       0.12      0.12      0.10      5000\n",
            "weighted avg       0.12      0.12      0.10      5000\n",
            "\n"
          ],
          "name": "stdout"
        },
        {
          "output_type": "display_data",
          "data": {
            "image/png": "[encoded data removed]",
            "text/plain": [
              "<Figure size 720x720 with 2 Axes>"
            ]
          },
          "metadata": {
            "tags": []
          }
        }
      ]
    },
    {
      "cell_type": "markdown",
      "metadata": {
        "id": "MGxD0sc2s31U",
        "colab_type": "text"
      },
      "source": [
        "## Saving the model in your drive"
      ]
    },
    {
      "cell_type": "code",
      "metadata": {
        "id": "AVaCdymZs-Ei",
        "colab_type": "code",
        "outputId": "962aa20d-235b-4b3a-b139-649a50f3a542",
        "colab": {
          "base_uri": "https://localhost:8080/",
          "height": 122
        }
      },
      "source": [
        "from google.colab import drive\n",
        "drive.mount('content/')"
      ],
      "execution_count": 0,
      "outputs": [
        {
          "output_type": "stream",
          "text": [
            "Go to this URL in a browser: https://accounts.google.com/o/oauth2/auth?client_id=947318989803-6bn6qk8qdgf4n4g3pfee6491hc0brc4i.apps.googleusercontent.com&redirect_uri=urn%3aietf%3awg%3aoauth%3a2.0%3aoob&response_type=code&scope=email%20https%3a%2f%2fwww.googleapis.com%2fauth%2fdocs.test%20https%3a%2f%2fwww.googleapis.com%2fauth%2fdrive%20https%3a%2f%2fwww.googleapis.com%2fauth%2fdrive.photos.readonly%20https%3a%2f%2fwww.googleapis.com%2fauth%2fpeopleapi.readonly\n",
            "\n",
            "Enter your authorization code:\n",
            "··········\n",
            "Mounted at content/\n"
          ],
          "name": "stdout"
        }
      ]
    },
    {
      "cell_type": "code",
      "metadata": {
        "id": "94_70wXTtF7j",
        "colab_type": "code",
        "colab": {}
      },
      "source": [
        "model_save_name = \"first_model.pt\" #@param {type:\"string\"}\n",
        "drive_path = \"DNN/\" #@param {type:\"string\"}\n",
        "path = F\"/content/content/My Drive/{drive_path}{model_save_name}\" \n",
        "print(path)\n",
        "torch.save(model.state_dict(), path)"
      ],
      "execution_count": 0,
      "outputs": []
    },
    {
      "cell_type": "markdown",
      "metadata": {
        "id": "r8Xo_d-SoLA7",
        "colab_type": "text"
      },
      "source": [
        "#Note: make sure there is a folder called DNN (or whatever you want to call your saved models' folder) in the drive's path otherwise an error such as \"there's no such directory or file\" can rise."
      ]
    },
    {
      "cell_type": "markdown",
      "metadata": {
        "id": "60WPjQv9uFrI",
        "colab_type": "text"
      },
      "source": [
        "## Loading the saved model"
      ]
    },
    {
      "cell_type": "code",
      "metadata": {
        "id": "628Dc2PXuJDz",
        "colab_type": "code",
        "cellView": "both",
        "colab": {}
      },
      "source": [
        "model = MLP() #@markdown Instantiate a mlp object"
      ],
      "execution_count": 0,
      "outputs": []
    },
    {
      "cell_type": "code",
      "metadata": {
        "id": "s2XdLaZduRho",
        "colab_type": "code",
        "outputId": "efbe3434-b22e-4428-ba72-3b42cc728930",
        "colab": {
          "base_uri": "https://localhost:8080/",
          "height": 34
        }
      },
      "source": [
        "model_save_name = 'first_model.pt' #@param {type:\"string\"}\n",
        "drive_path = \"DNN/\" #@param {type:\"string\"}\n",
        "path = F\"/content/content/My Drive/{drive_path}{model_save_name}\" \n",
        "model.load_state_dict(torch.load(path))"
      ],
      "execution_count": 0,
      "outputs": [
        {
          "output_type": "execute_result",
          "data": {
            "text/plain": [
              "<All keys matched successfully>"
            ]
          },
          "metadata": {
            "tags": []
          },
          "execution_count": 18
        }
      ]
    },
    {
      "cell_type": "markdown",
      "metadata": {
        "id": "CAHAigPcuh37",
        "colab_type": "text"
      },
      "source": [
        "## Evaluate the loaded model"
      ]
    },
    {
      "cell_type": "code",
      "metadata": {
        "id": "RNrOnA6_uloL",
        "colab_type": "code",
        "colab": {}
      },
      "source": [
        "model.to(device)\n",
        "evaluate(model, dataloaders['test'])\n"
      ],
      "execution_count": 0,
      "outputs": []
    }
  ]
}